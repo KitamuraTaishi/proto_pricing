{
 "cells": [
  {
   "cell_type": "code",
   "execution_count": 13,
   "id": "cb9d32d6-ff10-47f3-9b3d-7e1e426bcc86",
   "metadata": {},
   "outputs": [],
   "source": [
    "# pip install lightgbm"
   ]
  },
  {
   "cell_type": "code",
   "execution_count": 32,
   "id": "22707a98-fe21-4a4d-a116-f0f5233855f1",
   "metadata": {},
   "outputs": [],
   "source": [
    "import pickle\n",
    "import lightgbm as lgb\n",
    "from sklearn.model_selection import StratifiedKFold\n",
    "import numpy as np\n",
    "import warnings\n",
    "warnings.simplefilter('ignore')"
   ]
  },
  {
   "cell_type": "code",
   "execution_count": 33,
   "id": "f35947ce-24e0-4c96-9cfa-3d636638a51e",
   "metadata": {},
   "outputs": [],
   "source": [
    "train = pickle.load(open('data/processed_train3.pkl', 'rb'))\n",
    "test = pickle.load(open('data/processed_test3.pkl', 'rb'))"
   ]
  },
  {
   "cell_type": "code",
   "execution_count": 34,
   "id": "5b8ed040-b478-4366-977c-c528ca33186f",
   "metadata": {},
   "outputs": [
    {
     "name": "stdout",
     "output_type": "stream",
     "text": [
      "(458347, 18)\n",
      "(114482, 17)\n",
      "(442031, 18)\n",
      "(110388, 17)\n"
     ]
    }
   ],
   "source": [
    "print(train.shape)\n",
    "print(test.shape)\n",
    "\n",
    "train = train[train.keisaiday >= 0].reset_index(drop=True)\n",
    "test = test[test.keisaiday >= 0].reset_index(drop=True)\n",
    "\n",
    "train = train[train.keisaiday <= 180].reset_index(drop=True)\n",
    "test = test[test.keisaiday <= 180].reset_index(drop=True)\n",
    "print(train.shape)\n",
    "print(test.shape)\n"
   ]
  },
  {
   "cell_type": "code",
   "execution_count": 35,
   "id": "27cbc72d-f7af-4bbb-9ceb-0d2897e0b23c",
   "metadata": {},
   "outputs": [],
   "source": [
    "# category_cols = ['n_car_cd','n_p_katashiki_id','n_p_grade_id','pre_n','repair_flag', 'client_dealer_flag', 'color_cd2', 'sunroof', 'leather_seats', 'n_car_cd + n_p_katashiki_id + nenshiki']\n",
    "category_cols = ['pre_n','repair_flag', 'zan_syaken+α(seibi)', 'seibi', 'client_dealer_flag', 'color_cd2', 'sunroof', 'leather_seats', 'n_car_cd + n_p_katashiki_id + nenshiki']\n",
    "\n",
    "int_clos = ['price','e_distance','exhaust_nm_cc','zan_syaken', 'nenshiki','keisaiday']\n",
    "\n",
    "train[category_cols] = train[category_cols].astype('category')\n",
    "train[int_clos] = train[int_clos].astype('int')"
   ]
  },
  {
   "cell_type": "code",
   "execution_count": 36,
   "id": "6b643570-8679-45d7-9e47-b5369aa9eed3",
   "metadata": {},
   "outputs": [],
   "source": [
    "use_cols = category_cols + int_clos\n",
    "train = train[category_cols + int_clos]"
   ]
  },
  {
   "cell_type": "code",
   "execution_count": 37,
   "id": "4e078f50-004e-4e96-8f57-8644a13c85b0",
   "metadata": {},
   "outputs": [],
   "source": [
    "train['keisaiday']= np.log(train['keisaiday']+1)"
   ]
  },
  {
   "cell_type": "code",
   "execution_count": 38,
   "id": "67f64ab5-596f-45af-866e-901eb17c100b",
   "metadata": {},
   "outputs": [],
   "source": [
    "# print(train.shape)\n",
    "# train = train[train.groupby('n_car_cd + n_p_katashiki_id + nenshiki')['n_car_cd + n_p_katashiki_id + nenshiki'].transform('count') >= 30]\n",
    "# print(train.shape)"
   ]
  },
  {
   "cell_type": "code",
   "execution_count": 39,
   "id": "bdbf7d94-15cf-487a-9dcf-af32832a4689",
   "metadata": {},
   "outputs": [
    {
     "name": "stdout",
     "output_type": "stream",
     "text": [
      "[LightGBM] [Warning] Found whitespace in feature_names, replace with underlines\n",
      "[LightGBM] [Warning] Auto-choosing row-wise multi-threading, the overhead of testing was 0.012404 seconds.\n",
      "You can set `force_row_wise=true` to remove the overhead.\n",
      "And if memory is not enough, you can set `force_col_wise=true`.\n",
      "[LightGBM] [Info] Total Bins 10011\n",
      "[LightGBM] [Info] Number of data points in the train set: 294687, number of used features: 14\n",
      "[LightGBM] [Warning] Found whitespace in feature_names, replace with underlines\n",
      "[LightGBM] [Info] Start training from score 3.067802\n",
      "Training until validation scores don't improve for 100 rounds\n",
      "[50]\ttrain's l1: 0.78158\tvalid's l1: 0.794412\n",
      "[100]\ttrain's l1: 0.763919\tvalid's l1: 0.7884\n",
      "[150]\ttrain's l1: 0.752816\tvalid's l1: 0.78612\n",
      "[200]\ttrain's l1: 0.744079\tvalid's l1: 0.784708\n",
      "[250]\ttrain's l1: 0.736796\tvalid's l1: 0.783976\n",
      "[300]\ttrain's l1: 0.730953\tvalid's l1: 0.783739\n",
      "[350]\ttrain's l1: 0.725759\tvalid's l1: 0.783544\n",
      "[400]\ttrain's l1: 0.721015\tvalid's l1: 0.783304\n",
      "[450]\ttrain's l1: 0.716714\tvalid's l1: 0.783239\n",
      "[500]\ttrain's l1: 0.712746\tvalid's l1: 0.78334\n",
      "Early stopping, best iteration is:\n",
      "[445]\ttrain's l1: 0.717067\tvalid's l1: 0.783212\n",
      "[LightGBM] [Warning] Found whitespace in feature_names, replace with underlines\n",
      "[LightGBM] [Warning] Auto-choosing row-wise multi-threading, the overhead of testing was 0.004853 seconds.\n",
      "You can set `force_row_wise=true` to remove the overhead.\n",
      "And if memory is not enough, you can set `force_col_wise=true`.\n",
      "[LightGBM] [Info] Total Bins 9981\n",
      "[LightGBM] [Info] Number of data points in the train set: 294687, number of used features: 14\n",
      "[LightGBM] [Warning] Found whitespace in feature_names, replace with underlines\n",
      "[LightGBM] [Info] Start training from score 3.063933\n",
      "Training until validation scores don't improve for 100 rounds\n",
      "[50]\ttrain's l1: 0.781881\tvalid's l1: 0.792641\n",
      "[100]\ttrain's l1: 0.764151\tvalid's l1: 0.786573\n",
      "[150]\ttrain's l1: 0.753033\tvalid's l1: 0.7846\n",
      "[200]\ttrain's l1: 0.744069\tvalid's l1: 0.783414\n",
      "[250]\ttrain's l1: 0.73688\tvalid's l1: 0.782892\n",
      "[300]\ttrain's l1: 0.730622\tvalid's l1: 0.782541\n",
      "[350]\ttrain's l1: 0.725324\tvalid's l1: 0.782403\n",
      "[400]\ttrain's l1: 0.720759\tvalid's l1: 0.782317\n",
      "[450]\ttrain's l1: 0.716537\tvalid's l1: 0.782207\n",
      "[500]\ttrain's l1: 0.71263\tvalid's l1: 0.782258\n",
      "[550]\ttrain's l1: 0.709135\tvalid's l1: 0.782366\n",
      "Early stopping, best iteration is:\n",
      "[452]\ttrain's l1: 0.716403\tvalid's l1: 0.782194\n",
      "[LightGBM] [Warning] Found whitespace in feature_names, replace with underlines\n",
      "[LightGBM] [Warning] Auto-choosing row-wise multi-threading, the overhead of testing was 0.004555 seconds.\n",
      "You can set `force_row_wise=true` to remove the overhead.\n",
      "And if memory is not enough, you can set `force_col_wise=true`.\n",
      "[LightGBM] [Info] Total Bins 9919\n",
      "[LightGBM] [Info] Number of data points in the train set: 294688, number of used features: 14\n",
      "[LightGBM] [Warning] Found whitespace in feature_names, replace with underlines\n",
      "[LightGBM] [Info] Start training from score 3.065488\n",
      "Training until validation scores don't improve for 100 rounds\n",
      "[50]\ttrain's l1: 0.780873\tvalid's l1: 0.794155\n",
      "[100]\ttrain's l1: 0.763233\tvalid's l1: 0.788287\n",
      "[150]\ttrain's l1: 0.752326\tvalid's l1: 0.785962\n",
      "[200]\ttrain's l1: 0.743671\tvalid's l1: 0.784684\n",
      "[250]\ttrain's l1: 0.736479\tvalid's l1: 0.783897\n",
      "[300]\ttrain's l1: 0.730478\tvalid's l1: 0.783684\n",
      "[350]\ttrain's l1: 0.725108\tvalid's l1: 0.783451\n",
      "[400]\ttrain's l1: 0.720559\tvalid's l1: 0.783396\n",
      "[450]\ttrain's l1: 0.716474\tvalid's l1: 0.783422\n",
      "[500]\ttrain's l1: 0.712713\tvalid's l1: 0.783387\n",
      "Early stopping, best iteration is:\n",
      "[424]\ttrain's l1: 0.718595\tvalid's l1: 0.783359\n"
     ]
    }
   ],
   "source": [
    "sK_fold = StratifiedKFold(n_splits=3, shuffle=True,  random_state=0)\n",
    "\n",
    "for train_index, eval_index in sK_fold.split(list(range(len(train))), train['n_car_cd + n_p_katashiki_id + nenshiki']):\n",
    "\n",
    "    lgb_train = lgb.Dataset(train.iloc[train_index, :].drop(columns='keisaiday')\n",
    "                            , train.iloc[train_index, :]['keisaiday']\n",
    "                            , categorical_feature=category_cols\n",
    "                           )\n",
    "    lgb_eval = lgb.Dataset(train.iloc[eval_index, :].drop(columns='keisaiday')\n",
    "                           , train.iloc[eval_index, :]['keisaiday']\n",
    "                           , reference=lgb_train,\n",
    "                           categorical_feature=category_cols\n",
    "                          )\n",
    "\n",
    "    # パラメータを設定\n",
    "    params = {'task': 'train',                # 学習、トレーニング ⇔　予測predict\n",
    "              'boosting_type': 'gbdt',        # 勾配ブースティング\n",
    "              'objective': 'regression',      # 目的関数：多値分類、マルチクラス分類\n",
    "              'metric': 'mae',                # 目的変数のクラス数\n",
    "              'learning_rate': 0.05,          # 学習率（初期値0.1）             # 決定木の複雑度を調整（初期値31）\n",
    "             }\n",
    "\n",
    "    evaluation_results = {}  \n",
    "\n",
    "    model = lgb.train(params,                                   # 上記で設定したパラメータ\n",
    "                          lgb_train,                                # 使用するデータセット\n",
    "                          num_boost_round=1000,                     # 学習の回数\n",
    "                          valid_names=['train', 'valid'],           # 学習経過で表示する名称\n",
    "                          valid_sets=[lgb_train, lgb_eval],         # モデル検証のデータセット\n",
    "                          evals_result=evaluation_results,          # 学習の経過を保存\n",
    "                          categorical_feature=category_cols, # カテゴリー変数を設定\n",
    "                          early_stopping_rounds=100,                 # アーリーストッピング# 学習\n",
    "                          verbose_eval=50)               "
   ]
  },
  {
   "cell_type": "code",
   "execution_count": null,
   "id": "f2efa988-1582-4e75-8c97-1ef0b5f577b8",
   "metadata": {},
   "outputs": [],
   "source": [
    "test['n_car_cd + n_p_katashiki_id + nenshiki'] = test['n_car_cd'].astype(str) + '+' + test['n_p_katashiki_id'].astype(str) + '+' +  test['n_p_grade_id'].astype(str)"
   ]
  },
  {
   "cell_type": "code",
   "execution_count": 47,
   "id": "1b510bc0-d671-424d-8c67-21cacbb03271",
   "metadata": {},
   "outputs": [],
   "source": [
    "test[category_cols] = test[category_cols].astype('category')\n",
    "test[int_clos] = test[int_clos].astype('int')\n",
    "\n",
    "test = test[category_cols + int_clos]"
   ]
  },
  {
   "cell_type": "code",
   "execution_count": 48,
   "id": "6cd91cf5-5e9e-4585-bb1a-40e29324cc5f",
   "metadata": {},
   "outputs": [],
   "source": [
    "y_pred = model.predict(test.drop(columns='keisaiday'), num_iteration=model.best_iteration)\n",
    "y_pred = np.exp(y_pred)\n",
    "\n",
    "test['pred'] = y_pred"
   ]
  },
  {
   "cell_type": "code",
   "execution_count": 49,
   "id": "96b8b14c-d7a0-4aec-9d39-cffc52ea5b74",
   "metadata": {},
   "outputs": [],
   "source": [
    "from sklearn.metrics import mean_absolute_error"
   ]
  },
  {
   "cell_type": "code",
   "execution_count": 50,
   "id": "b5f8c512-944f-4bda-a220-b963b2e84a46",
   "metadata": {},
   "outputs": [
    {
     "data": {
      "text/plain": [
       "22.21787098033251"
      ]
     },
     "execution_count": 50,
     "metadata": {},
     "output_type": "execute_result"
    }
   ],
   "source": [
    "mean_absolute_error(test['pred'],test['keisaiday'] )"
   ]
  },
  {
   "cell_type": "code",
   "execution_count": 45,
   "id": "38a5b4b8-2f93-4e05-b77c-31c0b48034d2",
   "metadata": {},
   "outputs": [],
   "source": [
    "import matplotlib.pyplot as plt"
   ]
  },
  {
   "cell_type": "code",
   "execution_count": 17,
   "id": "34e9e1df-1119-4901-a4e3-e06a057eda67",
   "metadata": {},
   "outputs": [
    {
     "data": {
      "image/png": "[encoded data removed]",
      "text/plain": [
       "<Figure size 576x288 with 1 Axes>"
      ]
     },
     "metadata": {
      "needs_background": "light"
     },
     "output_type": "display_data"
    }
   ],
   "source": [
    "test['pred'].plot.hist(bins=30,alpha=0.5, figsize=(8, 4))\n",
    "test['keisaiday'].plot.hist(bins=30,alpha=0.5, figsize=(8, 4))\n",
    "plt.show()"
   ]
  },
  {
   "cell_type": "code",
   "execution_count": 18,
   "id": "baca32e3-b86d-4925-90cb-7f7c9a2860dc",
   "metadata": {},
   "outputs": [
    {
     "data": {
      "text/plain": [
       "<AxesSubplot:ylabel='Frequency'>"
      ]
     },
     "execution_count": 18,
     "metadata": {},
     "output_type": "execute_result"
    },
    {
     "data": {
      "image/png": "[encoded data removed]",
      "text/plain": [
       "<Figure size 576x288 with 1 Axes>"
      ]
     },
     "metadata": {
      "needs_background": "light"
     },
     "output_type": "display_data"
    }
   ],
   "source": [
    "np.log(test['keisaiday']+1).plot.hist(bins=30,alpha=0.5, figsize=(8, 4))"
   ]
  },
  {
   "cell_type": "code",
   "execution_count": 19,
   "id": "9248d700-1b33-4e6d-a6ee-9f1b3c8da62e",
   "metadata": {},
   "outputs": [
    {
     "data": {
      "text/plain": [
       "<AxesSubplot:ylabel='Frequency'>"
      ]
     },
     "execution_count": 19,
     "metadata": {},
     "output_type": "execute_result"
    },
    {
     "data": {
      "image/png": "[encoded data removed]",
      "text/plain": [
       "<Figure size 432x288 with 1 Axes>"
      ]
     },
     "metadata": {
      "needs_background": "light"
     },
     "output_type": "display_data"
    }
   ],
   "source": [
    "test['pred'].plot.hist(bins=30,alpha=0.5)\n",
    "np.exp(np.log(test['keisaiday']+1)).plot.hist(bins=30,alpha=0.5)"
   ]
  },
  {
   "cell_type": "code",
   "execution_count": 20,
   "id": "9d38fe8f-648c-4885-9cae-fe353ae4c103",
   "metadata": {},
   "outputs": [
    {
     "data": {
      "text/plain": [
       "<AxesSubplot:ylabel='Frequency'>"
      ]
     },
     "execution_count": 20,
     "metadata": {},
     "output_type": "execute_result"
    },
    {
     "data": {
      "image/png": "[encoded data removed]",
      "text/plain": [
       "<Figure size 432x288 with 1 Axes>"
      ]
     },
     "metadata": {
      "needs_background": "light"
     },
     "output_type": "display_data"
    }
   ],
   "source": [
    "train.nenshiki.plot.hist()"
   ]
  },
  {
   "cell_type": "code",
   "execution_count": 21,
   "id": "ac00be7c-2476-48ea-bd12-47ca43a8206e",
   "metadata": {},
   "outputs": [
    {
     "data": {
      "text/plain": [
       "26.879815510193144"
      ]
     },
     "execution_count": 21,
     "metadata": {},
     "output_type": "execute_result"
    }
   ],
   "source": [
    "test.pred.median()"
   ]
  },
  {
   "cell_type": "code",
   "execution_count": 22,
   "id": "a3060e82-f09d-4b7e-92c5-7552ffc3cb3c",
   "metadata": {},
   "outputs": [
    {
     "data": {
      "text/plain": [
       "<AxesSubplot:ylabel='Frequency'>"
      ]
     },
     "execution_count": 22,
     "metadata": {},
     "output_type": "execute_result"
    },
    {
     "data": {
      "image/png": "[encoded data removed]",
      "text/plain": [
       "<Figure size 432x288 with 1 Axes>"
      ]
     },
     "metadata": {
      "needs_background": "light"
     },
     "output_type": "display_data"
    }
   ],
   "source": [
    "(test.keisaiday - test.pred).plot.hist(bins=30)"
   ]
  },
  {
   "cell_type": "code",
   "execution_count": 23,
   "id": "33876850-b177-41d0-9f34-334608263adc",
   "metadata": {},
   "outputs": [
    {
     "data": {
      "text/plain": [
       "1.5"
      ]
     },
     "execution_count": 23,
     "metadata": {},
     "output_type": "execute_result"
    }
   ],
   "source": [
    "test[(test.pred>=0) & (test.pred<5)].keisaiday.median()"
   ]
  },
  {
   "cell_type": "code",
   "execution_count": 24,
   "id": "027b3295-bdff-4335-b0e9-3da5c2bfa190",
   "metadata": {},
   "outputs": [
    {
     "data": {
      "text/plain": [
       "7.0"
      ]
     },
     "execution_count": 24,
     "metadata": {},
     "output_type": "execute_result"
    }
   ],
   "source": [
    "test[(test.pred>=5) & (test.pred<10)].keisaiday.median()"
   ]
  },
  {
   "cell_type": "code",
   "execution_count": 25,
   "id": "3fa111ae-85e4-4111-966a-fbb55328a24e",
   "metadata": {},
   "outputs": [
    {
     "data": {
      "text/plain": [
       "14.0"
      ]
     },
     "execution_count": 25,
     "metadata": {},
     "output_type": "execute_result"
    }
   ],
   "source": [
    "test[(test.pred>=10) & (test.pred<15)].keisaiday.median()"
   ]
  },
  {
   "cell_type": "code",
   "execution_count": 26,
   "id": "2a77a5cb-ed5a-49eb-a9c4-5de5a40ff311",
   "metadata": {},
   "outputs": [
    {
     "data": {
      "text/plain": [
       "18.0"
      ]
     },
     "execution_count": 26,
     "metadata": {},
     "output_type": "execute_result"
    }
   ],
   "source": [
    "test[(test.pred>=15) & (test.pred<20)].keisaiday.median()"
   ]
  },
  {
   "cell_type": "code",
   "execution_count": 27,
   "id": "1cb673c0-4e9a-4e11-8d2b-cb23cb28f5f1",
   "metadata": {},
   "outputs": [
    {
     "data": {
      "text/plain": [
       "23.0"
      ]
     },
     "execution_count": 27,
     "metadata": {},
     "output_type": "execute_result"
    }
   ],
   "source": [
    "test[(test.pred>=20) & (test.pred<25)].keisaiday.median()"
   ]
  },
  {
   "cell_type": "code",
   "execution_count": 28,
   "id": "47047e03-8608-4592-b80d-7d328220ac3d",
   "metadata": {},
   "outputs": [
    {
     "data": {
      "text/plain": [
       "28.0"
      ]
     },
     "execution_count": 28,
     "metadata": {},
     "output_type": "execute_result"
    }
   ],
   "source": [
    "test[(test.pred>=25) & (test.pred<30)].keisaiday.median()"
   ]
  },
  {
   "cell_type": "code",
   "execution_count": 29,
   "id": "72f5852d-2432-4985-a6e7-249f29c1636b",
   "metadata": {},
   "outputs": [
    {
     "data": {
      "text/plain": [
       "34.0"
      ]
     },
     "execution_count": 29,
     "metadata": {},
     "output_type": "execute_result"
    }
   ],
   "source": [
    "test[(test.pred>=30) & (test.pred<35)].keisaiday.median()"
   ]
  },
  {
   "cell_type": "code",
   "execution_count": 30,
   "id": "b11e3874-2430-4ea0-af76-c4f93c488b07",
   "metadata": {},
   "outputs": [
    {
     "data": {
      "text/plain": [
       "40.0"
      ]
     },
     "execution_count": 30,
     "metadata": {},
     "output_type": "execute_result"
    }
   ],
   "source": [
    "test[(test.pred>=35) & (test.pred<40)].keisaiday.median()"
   ]
  },
  {
   "cell_type": "code",
   "execution_count": 31,
   "id": "97a9567a-3dc3-4153-a8b9-cad57fa769df",
   "metadata": {},
   "outputs": [
    {
     "data": {
      "text/plain": [
       "43.0"
      ]
     },
     "execution_count": 31,
     "metadata": {},
     "output_type": "execute_result"
    }
   ],
   "source": [
    "test[(test.pred>=40) & (test.pred<45)].keisaiday.median()"
   ]
  },
  {
   "cell_type": "code",
   "execution_count": 1507,
   "id": "f9c0eeaa-2605-45e0-8d4c-68b23a875f17",
   "metadata": {},
   "outputs": [
    {
     "data": {
      "text/plain": [
       "<AxesSubplot:>"
      ]
     },
     "execution_count": 1507,
     "metadata": {},
     "output_type": "execute_result"
    },
    {
     "data": {
      "image/png": "[encoded data removed]",
      "text/plain": [
       "<Figure size 432x288 with 1 Axes>"
      ]
     },
     "metadata": {
      "needs_background": "light"
     },
     "output_type": "display_data"
    }
   ],
   "source": [
    "test.sort_values(by='keisaiday').reset_index()['keisaiday'].plot()\n",
    "test.sort_values(by='keisaiday').reset_index()['pred'].plot()"
   ]
  },
  {
   "cell_type": "code",
   "execution_count": 1508,
   "id": "fbe329a8-3db5-4ce8-ae2b-4d58f6983b89",
   "metadata": {},
   "outputs": [
    {
     "name": "stdout",
     "output_type": "stream",
     "text": [
      "(99974, 16)\n",
      "(45185, 16)\n"
     ]
    }
   ],
   "source": [
    "from sklearn.metrics import mean_absolute_error\n",
    "print(test.shape)\n",
    "test = test[test.groupby('n_car_cd + n_p_katashiki_id + nenshiki')['n_car_cd + n_p_katashiki_id + nenshiki'].transform('count') >= 30]\n",
    "print(test.shape)\n",
    "mae = mean_absolute_error(test.pred ,test.keisaiday)"
   ]
  },
  {
   "cell_type": "code",
   "execution_count": 1509,
   "id": "0de59e52-35b8-4f33-9c28-1a850257a935",
   "metadata": {},
   "outputs": [
    {
     "data": {
      "text/plain": [
       "20.158850791333865"
      ]
     },
     "execution_count": 1509,
     "metadata": {},
     "output_type": "execute_result"
    }
   ],
   "source": [
    "mae"
   ]
  },
  {
   "cell_type": "code",
   "execution_count": 1510,
   "id": "63e3b6e3-11ee-4ee1-8a66-15d4b926895a",
   "metadata": {},
   "outputs": [
    {
     "data": {
      "text/html": [
       "<div>\n",
       "<style scoped>\n",
       "    .dataframe tbody tr th:only-of-type {\n",
       "        vertical-align: middle;\n",
       "    }\n",
       "\n",
       "    .dataframe tbody tr th {\n",
       "        vertical-align: top;\n",
       "    }\n",
       "\n",
       "    .dataframe thead th {\n",
       "        text-align: right;\n",
       "    }\n",
       "</style>\n",
       "<table border=\"1\" class=\"dataframe\">\n",
       "  <thead>\n",
       "    <tr style=\"text-align: right;\">\n",
       "      <th></th>\n",
       "      <th>pre_n</th>\n",
       "      <th>repair_flag</th>\n",
       "      <th>zan_syaken+α(seibi)</th>\n",
       "      <th>seibi</th>\n",
       "      <th>client_dealer_flag</th>\n",
       "      <th>color_cd2</th>\n",
       "      <th>sunroof</th>\n",
       "      <th>leather_seats</th>\n",
       "      <th>n_car_cd + n_p_katashiki_id + nenshiki</th>\n",
       "      <th>price</th>\n",
       "      <th>e_distance</th>\n",
       "      <th>exhaust_nm_cc</th>\n",
       "      <th>zan_syaken</th>\n",
       "      <th>nenshiki</th>\n",
       "      <th>keisaiday</th>\n",
       "      <th>pred</th>\n",
       "    </tr>\n",
       "  </thead>\n",
       "  <tbody>\n",
       "    <tr>\n",
       "      <th>10</th>\n",
       "      <td>福岡県</td>\n",
       "      <td>1</td>\n",
       "      <td>1.0</td>\n",
       "      <td>1</td>\n",
       "      <td>0</td>\n",
       "      <td>35</td>\n",
       "      <td>0</td>\n",
       "      <td>0</td>\n",
       "      <td>10502014+19+39</td>\n",
       "      <td>260000</td>\n",
       "      <td>115767</td>\n",
       "      <td>660</td>\n",
       "      <td>0</td>\n",
       "      <td>11</td>\n",
       "      <td>38</td>\n",
       "      <td>28.547815</td>\n",
       "    </tr>\n",
       "    <tr>\n",
       "      <th>20</th>\n",
       "      <td>静岡県</td>\n",
       "      <td>1</td>\n",
       "      <td>0.0</td>\n",
       "      <td>0</td>\n",
       "      <td>0</td>\n",
       "      <td>30</td>\n",
       "      <td>0</td>\n",
       "      <td>0</td>\n",
       "      <td>10201027+16+16</td>\n",
       "      <td>298000</td>\n",
       "      <td>44499</td>\n",
       "      <td>1300</td>\n",
       "      <td>0</td>\n",
       "      <td>11</td>\n",
       "      <td>26</td>\n",
       "      <td>24.401470</td>\n",
       "    </tr>\n",
       "    <tr>\n",
       "      <th>22</th>\n",
       "      <td>大阪府</td>\n",
       "      <td>1</td>\n",
       "      <td>0.0</td>\n",
       "      <td>1</td>\n",
       "      <td>0</td>\n",
       "      <td>50</td>\n",
       "      <td>0</td>\n",
       "      <td>0</td>\n",
       "      <td>10151037+26+106</td>\n",
       "      <td>150000</td>\n",
       "      <td>117906</td>\n",
       "      <td>660</td>\n",
       "      <td>747</td>\n",
       "      <td>9</td>\n",
       "      <td>22</td>\n",
       "      <td>26.712379</td>\n",
       "    </tr>\n",
       "    <tr>\n",
       "      <th>29</th>\n",
       "      <td>神奈川県</td>\n",
       "      <td>1</td>\n",
       "      <td>0.0</td>\n",
       "      <td>1</td>\n",
       "      <td>1</td>\n",
       "      <td>20</td>\n",
       "      <td>0</td>\n",
       "      <td>0</td>\n",
       "      <td>10202030+19+123</td>\n",
       "      <td>2100000</td>\n",
       "      <td>1255</td>\n",
       "      <td>1500</td>\n",
       "      <td>534</td>\n",
       "      <td>2</td>\n",
       "      <td>23</td>\n",
       "      <td>12.081953</td>\n",
       "    </tr>\n",
       "    <tr>\n",
       "      <th>35</th>\n",
       "      <td>岡山県</td>\n",
       "      <td>1</td>\n",
       "      <td>1.0</td>\n",
       "      <td>1</td>\n",
       "      <td>0</td>\n",
       "      <td>10</td>\n",
       "      <td>0</td>\n",
       "      <td>0</td>\n",
       "      <td>10502014+19+-1</td>\n",
       "      <td>150000</td>\n",
       "      <td>162000</td>\n",
       "      <td>660</td>\n",
       "      <td>0</td>\n",
       "      <td>12</td>\n",
       "      <td>8</td>\n",
       "      <td>15.167521</td>\n",
       "    </tr>\n",
       "    <tr>\n",
       "      <th>...</th>\n",
       "      <td>...</td>\n",
       "      <td>...</td>\n",
       "      <td>...</td>\n",
       "      <td>...</td>\n",
       "      <td>...</td>\n",
       "      <td>...</td>\n",
       "      <td>...</td>\n",
       "      <td>...</td>\n",
       "      <td>...</td>\n",
       "      <td>...</td>\n",
       "      <td>...</td>\n",
       "      <td>...</td>\n",
       "      <td>...</td>\n",
       "      <td>...</td>\n",
       "      <td>...</td>\n",
       "      <td>...</td>\n",
       "    </tr>\n",
       "    <tr>\n",
       "      <th>99959</th>\n",
       "      <td>愛知県</td>\n",
       "      <td>1</td>\n",
       "      <td>0.0</td>\n",
       "      <td>1</td>\n",
       "      <td>0</td>\n",
       "      <td>25</td>\n",
       "      <td>0</td>\n",
       "      <td>0</td>\n",
       "      <td>10152036+36+92</td>\n",
       "      <td>1498000</td>\n",
       "      <td>20000</td>\n",
       "      <td>2000</td>\n",
       "      <td>0</td>\n",
       "      <td>5</td>\n",
       "      <td>6</td>\n",
       "      <td>13.683088</td>\n",
       "    </tr>\n",
       "    <tr>\n",
       "      <th>99960</th>\n",
       "      <td>千葉県</td>\n",
       "      <td>1</td>\n",
       "      <td>0.0</td>\n",
       "      <td>1</td>\n",
       "      <td>1</td>\n",
       "      <td>60</td>\n",
       "      <td>0</td>\n",
       "      <td>0</td>\n",
       "      <td>10201029+33+89</td>\n",
       "      <td>450000</td>\n",
       "      <td>53380</td>\n",
       "      <td>1500</td>\n",
       "      <td>370</td>\n",
       "      <td>10</td>\n",
       "      <td>26</td>\n",
       "      <td>18.115932</td>\n",
       "    </tr>\n",
       "    <tr>\n",
       "      <th>99962</th>\n",
       "      <td>大阪府</td>\n",
       "      <td>1</td>\n",
       "      <td>0.0</td>\n",
       "      <td>1</td>\n",
       "      <td>0</td>\n",
       "      <td>55</td>\n",
       "      <td>0</td>\n",
       "      <td>0</td>\n",
       "      <td>10553003+53+59</td>\n",
       "      <td>248000</td>\n",
       "      <td>136000</td>\n",
       "      <td>660</td>\n",
       "      <td>155</td>\n",
       "      <td>7</td>\n",
       "      <td>11</td>\n",
       "      <td>21.026890</td>\n",
       "    </tr>\n",
       "    <tr>\n",
       "      <th>99966</th>\n",
       "      <td>北海道</td>\n",
       "      <td>1</td>\n",
       "      <td>0.0</td>\n",
       "      <td>1</td>\n",
       "      <td>0</td>\n",
       "      <td>40</td>\n",
       "      <td>0</td>\n",
       "      <td>0</td>\n",
       "      <td>10151042+26+240</td>\n",
       "      <td>299000</td>\n",
       "      <td>97000</td>\n",
       "      <td>1200</td>\n",
       "      <td>400</td>\n",
       "      <td>5</td>\n",
       "      <td>3</td>\n",
       "      <td>14.211572</td>\n",
       "    </tr>\n",
       "    <tr>\n",
       "      <th>99968</th>\n",
       "      <td>埼玉県</td>\n",
       "      <td>1</td>\n",
       "      <td>0.0</td>\n",
       "      <td>0</td>\n",
       "      <td>0</td>\n",
       "      <td>30</td>\n",
       "      <td>0</td>\n",
       "      <td>0</td>\n",
       "      <td>10202039+13+22</td>\n",
       "      <td>395000</td>\n",
       "      <td>136926</td>\n",
       "      <td>660</td>\n",
       "      <td>310</td>\n",
       "      <td>8</td>\n",
       "      <td>3</td>\n",
       "      <td>15.815807</td>\n",
       "    </tr>\n",
       "  </tbody>\n",
       "</table>\n",
       "<p>26620 rows × 16 columns</p>\n",
       "</div>"
      ],
      "text/plain": [
       "      pre_n repair_flag zan_syaken+α(seibi) seibi client_dealer_flag  \\\n",
       "10      福岡県           1                 1.0     1                  0   \n",
       "20      静岡県           1                 0.0     0                  0   \n",
       "22      大阪府           1                 0.0     1                  0   \n",
       "29     神奈川県           1                 0.0     1                  1   \n",
       "35      岡山県           1                 1.0     1                  0   \n",
       "...     ...         ...                 ...   ...                ...   \n",
       "99959   愛知県           1                 0.0     1                  0   \n",
       "99960   千葉県           1                 0.0     1                  1   \n",
       "99962   大阪府           1                 0.0     1                  0   \n",
       "99966   北海道           1                 0.0     1                  0   \n",
       "99968   埼玉県           1                 0.0     0                  0   \n",
       "\n",
       "      color_cd2 sunroof leather_seats n_car_cd + n_p_katashiki_id + nenshiki  \\\n",
       "10           35       0             0                         10502014+19+39   \n",
       "20           30       0             0                         10201027+16+16   \n",
       "22           50       0             0                        10151037+26+106   \n",
       "29           20       0             0                        10202030+19+123   \n",
       "35           10       0             0                         10502014+19+-1   \n",
       "...         ...     ...           ...                                    ...   \n",
       "99959        25       0             0                         10152036+36+92   \n",
       "99960        60       0             0                         10201029+33+89   \n",
       "99962        55       0             0                         10553003+53+59   \n",
       "99966        40       0             0                        10151042+26+240   \n",
       "99968        30       0             0                         10202039+13+22   \n",
       "\n",
       "         price  e_distance  exhaust_nm_cc  zan_syaken  nenshiki  keisaiday  \\\n",
       "10      260000      115767            660           0        11         38   \n",
       "20      298000       44499           1300           0        11         26   \n",
       "22      150000      117906            660         747         9         22   \n",
       "29     2100000        1255           1500         534         2         23   \n",
       "35      150000      162000            660           0        12          8   \n",
       "...        ...         ...            ...         ...       ...        ...   \n",
       "99959  1498000       20000           2000           0         5          6   \n",
       "99960   450000       53380           1500         370        10         26   \n",
       "99962   248000      136000            660         155         7         11   \n",
       "99966   299000       97000           1200         400         5          3   \n",
       "99968   395000      136926            660         310         8          3   \n",
       "\n",
       "            pred  \n",
       "10     28.547815  \n",
       "20     24.401470  \n",
       "22     26.712379  \n",
       "29     12.081953  \n",
       "35     15.167521  \n",
       "...          ...  \n",
       "99959  13.683088  \n",
       "99960  18.115932  \n",
       "99962  21.026890  \n",
       "99966  14.211572  \n",
       "99968  15.815807  \n",
       "\n",
       "[26620 rows x 16 columns]"
      ]
     },
     "execution_count": 1510,
     "metadata": {},
     "output_type": "execute_result"
    }
   ],
   "source": [
    "test[(test.keisaiday-test.pred.astype(int)).abs() <= 14]"
   ]
  },
  {
   "cell_type": "code",
   "execution_count": 1389,
   "id": "06ea72cd-66c9-467a-8a49-442741a1db3e",
   "metadata": {},
   "outputs": [
    {
     "data": {
      "text/html": [
       "<div>\n",
       "<style scoped>\n",
       "    .dataframe tbody tr th:only-of-type {\n",
       "        vertical-align: middle;\n",
       "    }\n",
       "\n",
       "    .dataframe tbody tr th {\n",
       "        vertical-align: top;\n",
       "    }\n",
       "\n",
       "    .dataframe thead th {\n",
       "        text-align: right;\n",
       "    }\n",
       "</style>\n",
       "<table border=\"1\" class=\"dataframe\">\n",
       "  <thead>\n",
       "    <tr style=\"text-align: right;\">\n",
       "      <th></th>\n",
       "      <th>pre_n</th>\n",
       "      <th>repair_flag</th>\n",
       "      <th>zan_syaken+α(seibi)</th>\n",
       "      <th>seibi</th>\n",
       "      <th>client_dealer_flag</th>\n",
       "      <th>color_cd2</th>\n",
       "      <th>sunroof</th>\n",
       "      <th>leather_seats</th>\n",
       "      <th>n_car_cd + n_p_katashiki_id + nenshiki</th>\n",
       "      <th>price</th>\n",
       "      <th>e_distance</th>\n",
       "      <th>exhaust_nm_cc</th>\n",
       "      <th>zan_syaken</th>\n",
       "      <th>nenshiki</th>\n",
       "      <th>keisaiday</th>\n",
       "      <th>pred</th>\n",
       "    </tr>\n",
       "  </thead>\n",
       "  <tbody>\n",
       "    <tr>\n",
       "      <th>68753</th>\n",
       "      <td>大阪府</td>\n",
       "      <td>1</td>\n",
       "      <td>0.0</td>\n",
       "      <td>1</td>\n",
       "      <td>0</td>\n",
       "      <td>40</td>\n",
       "      <td>0</td>\n",
       "      <td>0</td>\n",
       "      <td>10101043+16+-1</td>\n",
       "      <td>790000</td>\n",
       "      <td>80000</td>\n",
       "      <td>2000</td>\n",
       "      <td>437</td>\n",
       "      <td>21</td>\n",
       "      <td>163</td>\n",
       "      <td>24.979776</td>\n",
       "    </tr>\n",
       "    <tr>\n",
       "      <th>15622</th>\n",
       "      <td>東京都</td>\n",
       "      <td>1</td>\n",
       "      <td>0.0</td>\n",
       "      <td>2</td>\n",
       "      <td>0</td>\n",
       "      <td>30</td>\n",
       "      <td>0</td>\n",
       "      <td>0</td>\n",
       "      <td>10101043+16+-1</td>\n",
       "      <td>720000</td>\n",
       "      <td>145000</td>\n",
       "      <td>2000</td>\n",
       "      <td>443</td>\n",
       "      <td>16</td>\n",
       "      <td>29</td>\n",
       "      <td>22.201483</td>\n",
       "    </tr>\n",
       "    <tr>\n",
       "      <th>49032</th>\n",
       "      <td>沖縄県</td>\n",
       "      <td>1</td>\n",
       "      <td>1.0</td>\n",
       "      <td>1</td>\n",
       "      <td>0</td>\n",
       "      <td>40</td>\n",
       "      <td>0</td>\n",
       "      <td>0</td>\n",
       "      <td>10101043+16+43</td>\n",
       "      <td>390000</td>\n",
       "      <td>154331</td>\n",
       "      <td>2000</td>\n",
       "      <td>0</td>\n",
       "      <td>21</td>\n",
       "      <td>87</td>\n",
       "      <td>32.198665</td>\n",
       "    </tr>\n",
       "    <tr>\n",
       "      <th>47009</th>\n",
       "      <td>和歌山県</td>\n",
       "      <td>1</td>\n",
       "      <td>0.0</td>\n",
       "      <td>0</td>\n",
       "      <td>1</td>\n",
       "      <td>40</td>\n",
       "      <td>0</td>\n",
       "      <td>0</td>\n",
       "      <td>10101043+16+46</td>\n",
       "      <td>935000</td>\n",
       "      <td>17000</td>\n",
       "      <td>2000</td>\n",
       "      <td>475</td>\n",
       "      <td>17</td>\n",
       "      <td>4</td>\n",
       "      <td>14.536956</td>\n",
       "    </tr>\n",
       "    <tr>\n",
       "      <th>53281</th>\n",
       "      <td>埼玉県</td>\n",
       "      <td>2</td>\n",
       "      <td>0.0</td>\n",
       "      <td>1</td>\n",
       "      <td>0</td>\n",
       "      <td>40</td>\n",
       "      <td>0</td>\n",
       "      <td>0</td>\n",
       "      <td>10101043+16+46</td>\n",
       "      <td>1098000</td>\n",
       "      <td>100157</td>\n",
       "      <td>2000</td>\n",
       "      <td>345</td>\n",
       "      <td>18</td>\n",
       "      <td>11</td>\n",
       "      <td>25.818425</td>\n",
       "    </tr>\n",
       "    <tr>\n",
       "      <th>62670</th>\n",
       "      <td>沖縄県</td>\n",
       "      <td>2</td>\n",
       "      <td>0.0</td>\n",
       "      <td>1</td>\n",
       "      <td>0</td>\n",
       "      <td>40</td>\n",
       "      <td>0</td>\n",
       "      <td>0</td>\n",
       "      <td>10101043+16+49</td>\n",
       "      <td>550000</td>\n",
       "      <td>152127</td>\n",
       "      <td>2000</td>\n",
       "      <td>513</td>\n",
       "      <td>17</td>\n",
       "      <td>67</td>\n",
       "      <td>31.147136</td>\n",
       "    </tr>\n",
       "    <tr>\n",
       "      <th>82222</th>\n",
       "      <td>宮城県</td>\n",
       "      <td>1</td>\n",
       "      <td>0.0</td>\n",
       "      <td>0</td>\n",
       "      <td>0</td>\n",
       "      <td>20</td>\n",
       "      <td>0</td>\n",
       "      <td>0</td>\n",
       "      <td>10101043+16+50</td>\n",
       "      <td>640000</td>\n",
       "      <td>162000</td>\n",
       "      <td>2000</td>\n",
       "      <td>736</td>\n",
       "      <td>16</td>\n",
       "      <td>8</td>\n",
       "      <td>25.042709</td>\n",
       "    </tr>\n",
       "    <tr>\n",
       "      <th>17157</th>\n",
       "      <td>愛知県</td>\n",
       "      <td>1</td>\n",
       "      <td>0.0</td>\n",
       "      <td>1</td>\n",
       "      <td>0</td>\n",
       "      <td>30</td>\n",
       "      <td>0</td>\n",
       "      <td>0</td>\n",
       "      <td>10101043+16+51</td>\n",
       "      <td>699000</td>\n",
       "      <td>137310</td>\n",
       "      <td>2000</td>\n",
       "      <td>646</td>\n",
       "      <td>17</td>\n",
       "      <td>6</td>\n",
       "      <td>23.970240</td>\n",
       "    </tr>\n",
       "    <tr>\n",
       "      <th>50589</th>\n",
       "      <td>神奈川県</td>\n",
       "      <td>1</td>\n",
       "      <td>1.0</td>\n",
       "      <td>1</td>\n",
       "      <td>0</td>\n",
       "      <td>40</td>\n",
       "      <td>0</td>\n",
       "      <td>0</td>\n",
       "      <td>10101043+16+53</td>\n",
       "      <td>1590000</td>\n",
       "      <td>45351</td>\n",
       "      <td>2000</td>\n",
       "      <td>0</td>\n",
       "      <td>22</td>\n",
       "      <td>11</td>\n",
       "      <td>42.488302</td>\n",
       "    </tr>\n",
       "    <tr>\n",
       "      <th>27474</th>\n",
       "      <td>大阪府</td>\n",
       "      <td>2</td>\n",
       "      <td>0.0</td>\n",
       "      <td>2</td>\n",
       "      <td>0</td>\n",
       "      <td>30</td>\n",
       "      <td>0</td>\n",
       "      <td>0</td>\n",
       "      <td>10101043+16+53</td>\n",
       "      <td>898000</td>\n",
       "      <td>58104</td>\n",
       "      <td>2000</td>\n",
       "      <td>0</td>\n",
       "      <td>19</td>\n",
       "      <td>63</td>\n",
       "      <td>31.772268</td>\n",
       "    </tr>\n",
       "    <tr>\n",
       "      <th>28870</th>\n",
       "      <td>埼玉県</td>\n",
       "      <td>2</td>\n",
       "      <td>0.0</td>\n",
       "      <td>2</td>\n",
       "      <td>0</td>\n",
       "      <td>40</td>\n",
       "      <td>0</td>\n",
       "      <td>0</td>\n",
       "      <td>10101043+16+53</td>\n",
       "      <td>398000</td>\n",
       "      <td>63700</td>\n",
       "      <td>2000</td>\n",
       "      <td>0</td>\n",
       "      <td>21</td>\n",
       "      <td>9</td>\n",
       "      <td>31.041463</td>\n",
       "    </tr>\n",
       "    <tr>\n",
       "      <th>31833</th>\n",
       "      <td>兵庫県</td>\n",
       "      <td>2</td>\n",
       "      <td>0.0</td>\n",
       "      <td>1</td>\n",
       "      <td>0</td>\n",
       "      <td>10</td>\n",
       "      <td>0</td>\n",
       "      <td>0</td>\n",
       "      <td>10101043+16+53</td>\n",
       "      <td>480000</td>\n",
       "      <td>76600</td>\n",
       "      <td>2000</td>\n",
       "      <td>592</td>\n",
       "      <td>21</td>\n",
       "      <td>4</td>\n",
       "      <td>28.227665</td>\n",
       "    </tr>\n",
       "    <tr>\n",
       "      <th>68912</th>\n",
       "      <td>静岡県</td>\n",
       "      <td>1</td>\n",
       "      <td>0.0</td>\n",
       "      <td>0</td>\n",
       "      <td>0</td>\n",
       "      <td>40</td>\n",
       "      <td>0</td>\n",
       "      <td>0</td>\n",
       "      <td>10101043+16+53</td>\n",
       "      <td>980000</td>\n",
       "      <td>80569</td>\n",
       "      <td>2000</td>\n",
       "      <td>0</td>\n",
       "      <td>21</td>\n",
       "      <td>173</td>\n",
       "      <td>28.290598</td>\n",
       "    </tr>\n",
       "    <tr>\n",
       "      <th>50161</th>\n",
       "      <td>埼玉県</td>\n",
       "      <td>1</td>\n",
       "      <td>1.0</td>\n",
       "      <td>1</td>\n",
       "      <td>0</td>\n",
       "      <td>40</td>\n",
       "      <td>0</td>\n",
       "      <td>0</td>\n",
       "      <td>10101043+16+53</td>\n",
       "      <td>799000</td>\n",
       "      <td>81710</td>\n",
       "      <td>2000</td>\n",
       "      <td>0</td>\n",
       "      <td>20</td>\n",
       "      <td>65</td>\n",
       "      <td>48.806938</td>\n",
       "    </tr>\n",
       "    <tr>\n",
       "      <th>70735</th>\n",
       "      <td>大阪府</td>\n",
       "      <td>1</td>\n",
       "      <td>1.0</td>\n",
       "      <td>1</td>\n",
       "      <td>0</td>\n",
       "      <td>30</td>\n",
       "      <td>0</td>\n",
       "      <td>0</td>\n",
       "      <td>10101043+16+53</td>\n",
       "      <td>630000</td>\n",
       "      <td>100500</td>\n",
       "      <td>2000</td>\n",
       "      <td>0</td>\n",
       "      <td>21</td>\n",
       "      <td>25</td>\n",
       "      <td>34.555244</td>\n",
       "    </tr>\n",
       "    <tr>\n",
       "      <th>72091</th>\n",
       "      <td>愛知県</td>\n",
       "      <td>1</td>\n",
       "      <td>0.0</td>\n",
       "      <td>0</td>\n",
       "      <td>0</td>\n",
       "      <td>10</td>\n",
       "      <td>0</td>\n",
       "      <td>0</td>\n",
       "      <td>10101043+16+53</td>\n",
       "      <td>698000</td>\n",
       "      <td>102309</td>\n",
       "      <td>2000</td>\n",
       "      <td>444</td>\n",
       "      <td>21</td>\n",
       "      <td>11</td>\n",
       "      <td>15.746528</td>\n",
       "    </tr>\n",
       "    <tr>\n",
       "      <th>5085</th>\n",
       "      <td>兵庫県</td>\n",
       "      <td>2</td>\n",
       "      <td>0.0</td>\n",
       "      <td>1</td>\n",
       "      <td>0</td>\n",
       "      <td>30</td>\n",
       "      <td>0</td>\n",
       "      <td>0</td>\n",
       "      <td>10101043+16+53</td>\n",
       "      <td>700000</td>\n",
       "      <td>106000</td>\n",
       "      <td>2000</td>\n",
       "      <td>202</td>\n",
       "      <td>16</td>\n",
       "      <td>29</td>\n",
       "      <td>30.001100</td>\n",
       "    </tr>\n",
       "    <tr>\n",
       "      <th>51846</th>\n",
       "      <td>埼玉県</td>\n",
       "      <td>1</td>\n",
       "      <td>0.0</td>\n",
       "      <td>1</td>\n",
       "      <td>0</td>\n",
       "      <td>40</td>\n",
       "      <td>0</td>\n",
       "      <td>0</td>\n",
       "      <td>10101043+16+53</td>\n",
       "      <td>480000</td>\n",
       "      <td>106500</td>\n",
       "      <td>2000</td>\n",
       "      <td>159</td>\n",
       "      <td>20</td>\n",
       "      <td>77</td>\n",
       "      <td>30.336225</td>\n",
       "    </tr>\n",
       "    <tr>\n",
       "      <th>63461</th>\n",
       "      <td>埼玉県</td>\n",
       "      <td>1</td>\n",
       "      <td>0.0</td>\n",
       "      <td>0</td>\n",
       "      <td>0</td>\n",
       "      <td>10</td>\n",
       "      <td>0</td>\n",
       "      <td>0</td>\n",
       "      <td>10101043+16+53</td>\n",
       "      <td>438000</td>\n",
       "      <td>115000</td>\n",
       "      <td>2000</td>\n",
       "      <td>0</td>\n",
       "      <td>17</td>\n",
       "      <td>19</td>\n",
       "      <td>26.848607</td>\n",
       "    </tr>\n",
       "    <tr>\n",
       "      <th>7430</th>\n",
       "      <td>愛知県</td>\n",
       "      <td>2</td>\n",
       "      <td>1.0</td>\n",
       "      <td>1</td>\n",
       "      <td>0</td>\n",
       "      <td>10</td>\n",
       "      <td>0</td>\n",
       "      <td>0</td>\n",
       "      <td>10101043+16+53</td>\n",
       "      <td>870000</td>\n",
       "      <td>115201</td>\n",
       "      <td>2000</td>\n",
       "      <td>0</td>\n",
       "      <td>19</td>\n",
       "      <td>12</td>\n",
       "      <td>23.156902</td>\n",
       "    </tr>\n",
       "    <tr>\n",
       "      <th>64195</th>\n",
       "      <td>愛知県</td>\n",
       "      <td>1</td>\n",
       "      <td>0.0</td>\n",
       "      <td>0</td>\n",
       "      <td>0</td>\n",
       "      <td>30</td>\n",
       "      <td>0</td>\n",
       "      <td>0</td>\n",
       "      <td>10101043+16+53</td>\n",
       "      <td>590000</td>\n",
       "      <td>115483</td>\n",
       "      <td>2000</td>\n",
       "      <td>0</td>\n",
       "      <td>19</td>\n",
       "      <td>23</td>\n",
       "      <td>20.091137</td>\n",
       "    </tr>\n",
       "    <tr>\n",
       "      <th>69896</th>\n",
       "      <td>愛知県</td>\n",
       "      <td>2</td>\n",
       "      <td>0.0</td>\n",
       "      <td>1</td>\n",
       "      <td>0</td>\n",
       "      <td>10</td>\n",
       "      <td>0</td>\n",
       "      <td>0</td>\n",
       "      <td>10101043+16+53</td>\n",
       "      <td>200000</td>\n",
       "      <td>117000</td>\n",
       "      <td>2000</td>\n",
       "      <td>361</td>\n",
       "      <td>16</td>\n",
       "      <td>64</td>\n",
       "      <td>14.801315</td>\n",
       "    </tr>\n",
       "    <tr>\n",
       "      <th>97235</th>\n",
       "      <td>埼玉県</td>\n",
       "      <td>2</td>\n",
       "      <td>0.0</td>\n",
       "      <td>1</td>\n",
       "      <td>0</td>\n",
       "      <td>30</td>\n",
       "      <td>0</td>\n",
       "      <td>0</td>\n",
       "      <td>10101043+16+53</td>\n",
       "      <td>349000</td>\n",
       "      <td>129002</td>\n",
       "      <td>2000</td>\n",
       "      <td>0</td>\n",
       "      <td>21</td>\n",
       "      <td>21</td>\n",
       "      <td>27.840128</td>\n",
       "    </tr>\n",
       "    <tr>\n",
       "      <th>58722</th>\n",
       "      <td>千葉県</td>\n",
       "      <td>1</td>\n",
       "      <td>0.0</td>\n",
       "      <td>1</td>\n",
       "      <td>0</td>\n",
       "      <td>40</td>\n",
       "      <td>0</td>\n",
       "      <td>0</td>\n",
       "      <td>10101043+16+53</td>\n",
       "      <td>1190000</td>\n",
       "      <td>132000</td>\n",
       "      <td>2000</td>\n",
       "      <td>726</td>\n",
       "      <td>22</td>\n",
       "      <td>64</td>\n",
       "      <td>28.406387</td>\n",
       "    </tr>\n",
       "    <tr>\n",
       "      <th>46918</th>\n",
       "      <td>岡山県</td>\n",
       "      <td>1</td>\n",
       "      <td>0.0</td>\n",
       "      <td>1</td>\n",
       "      <td>0</td>\n",
       "      <td>30</td>\n",
       "      <td>0</td>\n",
       "      <td>0</td>\n",
       "      <td>10101043+16+53</td>\n",
       "      <td>1380000</td>\n",
       "      <td>134080</td>\n",
       "      <td>2000</td>\n",
       "      <td>0</td>\n",
       "      <td>16</td>\n",
       "      <td>120</td>\n",
       "      <td>30.806335</td>\n",
       "    </tr>\n",
       "    <tr>\n",
       "      <th>70275</th>\n",
       "      <td>埼玉県</td>\n",
       "      <td>1</td>\n",
       "      <td>1.0</td>\n",
       "      <td>1</td>\n",
       "      <td>0</td>\n",
       "      <td>10</td>\n",
       "      <td>0</td>\n",
       "      <td>0</td>\n",
       "      <td>10101043+16+53</td>\n",
       "      <td>135000</td>\n",
       "      <td>145487</td>\n",
       "      <td>2000</td>\n",
       "      <td>0</td>\n",
       "      <td>21</td>\n",
       "      <td>2</td>\n",
       "      <td>26.615353</td>\n",
       "    </tr>\n",
       "    <tr>\n",
       "      <th>5820</th>\n",
       "      <td>愛知県</td>\n",
       "      <td>1</td>\n",
       "      <td>1.0</td>\n",
       "      <td>1</td>\n",
       "      <td>0</td>\n",
       "      <td>40</td>\n",
       "      <td>0</td>\n",
       "      <td>0</td>\n",
       "      <td>10101043+16+53</td>\n",
       "      <td>890000</td>\n",
       "      <td>147000</td>\n",
       "      <td>2000</td>\n",
       "      <td>0</td>\n",
       "      <td>22</td>\n",
       "      <td>12</td>\n",
       "      <td>27.650250</td>\n",
       "    </tr>\n",
       "    <tr>\n",
       "      <th>75813</th>\n",
       "      <td>埼玉県</td>\n",
       "      <td>2</td>\n",
       "      <td>1.0</td>\n",
       "      <td>1</td>\n",
       "      <td>0</td>\n",
       "      <td>10</td>\n",
       "      <td>0</td>\n",
       "      <td>0</td>\n",
       "      <td>10101043+16+53</td>\n",
       "      <td>495000</td>\n",
       "      <td>151400</td>\n",
       "      <td>2000</td>\n",
       "      <td>0</td>\n",
       "      <td>21</td>\n",
       "      <td>4</td>\n",
       "      <td>33.924526</td>\n",
       "    </tr>\n",
       "    <tr>\n",
       "      <th>3149</th>\n",
       "      <td>愛知県</td>\n",
       "      <td>2</td>\n",
       "      <td>0.0</td>\n",
       "      <td>1</td>\n",
       "      <td>0</td>\n",
       "      <td>10</td>\n",
       "      <td>0</td>\n",
       "      <td>0</td>\n",
       "      <td>10101043+16+53</td>\n",
       "      <td>450000</td>\n",
       "      <td>155732</td>\n",
       "      <td>2000</td>\n",
       "      <td>479</td>\n",
       "      <td>21</td>\n",
       "      <td>4</td>\n",
       "      <td>15.530551</td>\n",
       "    </tr>\n",
       "    <tr>\n",
       "      <th>1217</th>\n",
       "      <td>埼玉県</td>\n",
       "      <td>1</td>\n",
       "      <td>0.0</td>\n",
       "      <td>2</td>\n",
       "      <td>0</td>\n",
       "      <td>40</td>\n",
       "      <td>1</td>\n",
       "      <td>0</td>\n",
       "      <td>10101043+16+53</td>\n",
       "      <td>398000</td>\n",
       "      <td>160505</td>\n",
       "      <td>2000</td>\n",
       "      <td>308</td>\n",
       "      <td>23</td>\n",
       "      <td>8</td>\n",
       "      <td>23.771561</td>\n",
       "    </tr>\n",
       "  </tbody>\n",
       "</table>\n",
       "</div>"
      ],
      "text/plain": [
       "      pre_n repair_flag zan_syaken+α(seibi) seibi client_dealer_flag  \\\n",
       "68753   大阪府           1                 0.0     1                  0   \n",
       "15622   東京都           1                 0.0     2                  0   \n",
       "49032   沖縄県           1                 1.0     1                  0   \n",
       "47009  和歌山県           1                 0.0     0                  1   \n",
       "53281   埼玉県           2                 0.0     1                  0   \n",
       "62670   沖縄県           2                 0.0     1                  0   \n",
       "82222   宮城県           1                 0.0     0                  0   \n",
       "17157   愛知県           1                 0.0     1                  0   \n",
       "50589  神奈川県           1                 1.0     1                  0   \n",
       "27474   大阪府           2                 0.0     2                  0   \n",
       "28870   埼玉県           2                 0.0     2                  0   \n",
       "31833   兵庫県           2                 0.0     1                  0   \n",
       "68912   静岡県           1                 0.0     0                  0   \n",
       "50161   埼玉県           1                 1.0     1                  0   \n",
       "70735   大阪府           1                 1.0     1                  0   \n",
       "72091   愛知県           1                 0.0     0                  0   \n",
       "5085    兵庫県           2                 0.0     1                  0   \n",
       "51846   埼玉県           1                 0.0     1                  0   \n",
       "63461   埼玉県           1                 0.0     0                  0   \n",
       "7430    愛知県           2                 1.0     1                  0   \n",
       "64195   愛知県           1                 0.0     0                  0   \n",
       "69896   愛知県           2                 0.0     1                  0   \n",
       "97235   埼玉県           2                 0.0     1                  0   \n",
       "58722   千葉県           1                 0.0     1                  0   \n",
       "46918   岡山県           1                 0.0     1                  0   \n",
       "70275   埼玉県           1                 1.0     1                  0   \n",
       "5820    愛知県           1                 1.0     1                  0   \n",
       "75813   埼玉県           2                 1.0     1                  0   \n",
       "3149    愛知県           2                 0.0     1                  0   \n",
       "1217    埼玉県           1                 0.0     2                  0   \n",
       "\n",
       "      color_cd2 sunroof leather_seats n_car_cd + n_p_katashiki_id + nenshiki  \\\n",
       "68753        40       0             0                         10101043+16+-1   \n",
       "15622        30       0             0                         10101043+16+-1   \n",
       "49032        40       0             0                         10101043+16+43   \n",
       "47009        40       0             0                         10101043+16+46   \n",
       "53281        40       0             0                         10101043+16+46   \n",
       "62670        40       0             0                         10101043+16+49   \n",
       "82222        20       0             0                         10101043+16+50   \n",
       "17157        30       0             0                         10101043+16+51   \n",
       "50589        40       0             0                         10101043+16+53   \n",
       "27474        30       0             0                         10101043+16+53   \n",
       "28870        40       0             0                         10101043+16+53   \n",
       "31833        10       0             0                         10101043+16+53   \n",
       "68912        40       0             0                         10101043+16+53   \n",
       "50161        40       0             0                         10101043+16+53   \n",
       "70735        30       0             0                         10101043+16+53   \n",
       "72091        10       0             0                         10101043+16+53   \n",
       "5085         30       0             0                         10101043+16+53   \n",
       "51846        40       0             0                         10101043+16+53   \n",
       "63461        10       0             0                         10101043+16+53   \n",
       "7430         10       0             0                         10101043+16+53   \n",
       "64195        30       0             0                         10101043+16+53   \n",
       "69896        10       0             0                         10101043+16+53   \n",
       "97235        30       0             0                         10101043+16+53   \n",
       "58722        40       0             0                         10101043+16+53   \n",
       "46918        30       0             0                         10101043+16+53   \n",
       "70275        10       0             0                         10101043+16+53   \n",
       "5820         40       0             0                         10101043+16+53   \n",
       "75813        10       0             0                         10101043+16+53   \n",
       "3149         10       0             0                         10101043+16+53   \n",
       "1217         40       1             0                         10101043+16+53   \n",
       "\n",
       "         price  e_distance  exhaust_nm_cc  zan_syaken  nenshiki  keisaiday  \\\n",
       "68753   790000       80000           2000         437        21        163   \n",
       "15622   720000      145000           2000         443        16         29   \n",
       "49032   390000      154331           2000           0        21         87   \n",
       "47009   935000       17000           2000         475        17          4   \n",
       "53281  1098000      100157           2000         345        18         11   \n",
       "62670   550000      152127           2000         513        17         67   \n",
       "82222   640000      162000           2000         736        16          8   \n",
       "17157   699000      137310           2000         646        17          6   \n",
       "50589  1590000       45351           2000           0        22         11   \n",
       "27474   898000       58104           2000           0        19         63   \n",
       "28870   398000       63700           2000           0        21          9   \n",
       "31833   480000       76600           2000         592        21          4   \n",
       "68912   980000       80569           2000           0        21        173   \n",
       "50161   799000       81710           2000           0        20         65   \n",
       "70735   630000      100500           2000           0        21         25   \n",
       "72091   698000      102309           2000         444        21         11   \n",
       "5085    700000      106000           2000         202        16         29   \n",
       "51846   480000      106500           2000         159        20         77   \n",
       "63461   438000      115000           2000           0        17         19   \n",
       "7430    870000      115201           2000           0        19         12   \n",
       "64195   590000      115483           2000           0        19         23   \n",
       "69896   200000      117000           2000         361        16         64   \n",
       "97235   349000      129002           2000           0        21         21   \n",
       "58722  1190000      132000           2000         726        22         64   \n",
       "46918  1380000      134080           2000           0        16        120   \n",
       "70275   135000      145487           2000           0        21          2   \n",
       "5820    890000      147000           2000           0        22         12   \n",
       "75813   495000      151400           2000           0        21          4   \n",
       "3149    450000      155732           2000         479        21          4   \n",
       "1217    398000      160505           2000         308        23          8   \n",
       "\n",
       "            pred  \n",
       "68753  24.979776  \n",
       "15622  22.201483  \n",
       "49032  32.198665  \n",
       "47009  14.536956  \n",
       "53281  25.818425  \n",
       "62670  31.147136  \n",
       "82222  25.042709  \n",
       "17157  23.970240  \n",
       "50589  42.488302  \n",
       "27474  31.772268  \n",
       "28870  31.041463  \n",
       "31833  28.227665  \n",
       "68912  28.290598  \n",
       "50161  48.806938  \n",
       "70735  34.555244  \n",
       "72091  15.746528  \n",
       "5085   30.001100  \n",
       "51846  30.336225  \n",
       "63461  26.848607  \n",
       "7430   23.156902  \n",
       "64195  20.091137  \n",
       "69896  14.801315  \n",
       "97235  27.840128  \n",
       "58722  28.406387  \n",
       "46918  30.806335  \n",
       "70275  26.615353  \n",
       "5820   27.650250  \n",
       "75813  33.924526  \n",
       "3149   15.530551  \n",
       "1217   23.771561  "
      ]
     },
     "execution_count": 1389,
     "metadata": {},
     "output_type": "execute_result"
    }
   ],
   "source": [
    "n=6000\n",
    "test.sort_values(by=['n_car_cd + n_p_katashiki_id + nenshiki','e_distance','price']).iloc[n:n+100].head(30)"
   ]
  },
  {
   "cell_type": "code",
   "execution_count": 1390,
   "id": "a0fead8f-28f9-40d4-94e4-b2f32944764b",
   "metadata": {},
   "outputs": [],
   "source": [
    "import matplotlib.pyplot as  plt\n",
    "import pandas as pd"
   ]
  },
  {
   "cell_type": "code",
   "execution_count": 1391,
   "id": "2c4cbce9-670c-4ed9-b3a1-fad720458caf",
   "metadata": {},
   "outputs": [
    {
     "data": {
      "text/plain": [
       "<AxesSubplot:>"
      ]
     },
     "execution_count": 1391,
     "metadata": {},
     "output_type": "execute_result"
    },
    {
     "data": {
      "image/png": "[encoded data removed]",
      "text/plain": [
       "<Figure size 432x288 with 1 Axes>"
      ]
     },
     "metadata": {
      "needs_background": "light"
     },
     "output_type": "display_data"
    }
   ],
   "source": [
    "pd.DataFrame(model.feature_importance(),index=model.feature_name()).plot.bar()"
   ]
  },
  {
   "cell_type": "code",
   "execution_count": null,
   "id": "c893bb0f-c4f0-4090-8417-6873a82bf543",
   "metadata": {},
   "outputs": [],
   "source": [
    "train"
   ]
  }
 ],
 "metadata": {
  "kernelspec": {
   "display_name": "Python 3 (ipykernel)",
   "language": "python",
   "name": "python3"
  },
  "language_info": {
   "codemirror_mode": {
    "name": "ipython",
    "version": 3
   },
   "file_extension": ".py",
   "mimetype": "text/x-python",
   "name": "python",
   "nbconvert_exporter": "python",
   "pygments_lexer": "ipython3",
   "version": "3.7.13"
  }
 },
 "nbformat": 4,
 "nbformat_minor": 5
}
