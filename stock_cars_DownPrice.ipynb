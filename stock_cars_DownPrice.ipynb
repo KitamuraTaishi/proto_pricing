{
 "cells": [
  {
   "cell_type": "code",
   "execution_count": 1,
   "id": "64e59eb0-4d31-4cf0-a883-e843bac88f67",
   "metadata": {},
   "outputs": [],
   "source": [
    "from scripts import pricing_ai\n",
    "import pandas as pd\n",
    "import seaborn as sns\n",
    "import matplotlib.pyplot as plt\n",
    "\n",
    "sns.set()\n",
    "pd.set_option('display.max_rows',200)"
   ]
  },
  {
   "cell_type": "markdown",
   "id": "96186f37-d6e1-4d2f-85f1-879983e188a7",
   "metadata": {},
   "source": [
    "#### **データ：価格の変動を持ったstockidデータ**"
   ]
  },
  {
   "cell_type": "code",
   "execution_count": 2,
   "id": "2cb297d3-c1f6-45ac-96a2-0116ddc1104e",
   "metadata": {},
   "outputs": [
    {
     "name": "stdout",
     "output_type": "stream",
     "text": [
      "CPU times: user 1min 25s, sys: 42.8 s, total: 2min 7s\n",
      "Wall time: 13min 30s\n"
     ]
    }
   ],
   "source": [
    "%%time\n",
    "df = pricing_ai.get_data('sql/stock_cars.sql')"
   ]
  },
  {
   "cell_type": "markdown",
   "id": "6268ce4f-3952-4583-8670-b52adad4d2ee",
   "metadata": {},
   "source": [
    "#### **前処理：値段未設定を削除**"
   ]
  },
  {
   "cell_type": "code",
   "execution_count": 3,
   "id": "cc39a8ee-c656-4a7f-8b7c-26c62d712115",
   "metadata": {},
   "outputs": [
    {
     "name": "stdout",
     "output_type": "stream",
     "text": [
      "(59161303, 3)\n",
      "(58740983, 3)\n"
     ]
    }
   ],
   "source": [
    "pricing_ai.print_shape(df)\n",
    "df = df[df.price != 999999999]\n",
    "pricing_ai.print_shape(df)"
   ]
  },
  {
   "cell_type": "markdown",
   "id": "d5297370-cf60-4a8a-8989-a79bf3f9d38f",
   "metadata": {},
   "source": [
    "#### **データ：初回と成約**"
   ]
  },
  {
   "cell_type": "code",
   "execution_count": 4,
   "id": "e19f87c2-ace1-4b6e-aa73-6f14c3d40ef7",
   "metadata": {},
   "outputs": [],
   "source": [
    "first_pub = pricing_ai.get_preprocessing_data(sql_path='sql/first_pub.sql',col='min_date')\n",
    "contract = pricing_ai.get_preprocessing_data(sql_path='sql/contract.sql',col='delete_date')"
   ]
  },
  {
   "cell_type": "markdown",
   "id": "6cf9497b-8281-4e62-a606-2d438b5e5f65",
   "metadata": {},
   "source": [
    "#### **データ：初回の日付と成約の日付作成**"
   ]
  },
  {
   "cell_type": "code",
   "execution_count": 5,
   "id": "0eda8246-3497-4f19-930a-35cb18ac20e6",
   "metadata": {},
   "outputs": [],
   "source": [
    "start_day_dict = first_pub.set_index('stock_id')['min_date'].to_dict()\n",
    "end_day_dict = contract.set_index('stock_id')['delete_date'].to_dict()"
   ]
  },
  {
   "cell_type": "markdown",
   "id": "dbf89c06-9566-42f5-a9eb-d6dbb69098bf",
   "metadata": {},
   "source": [
    "#### **前処理：初回と成約の日付を結合**"
   ]
  },
  {
   "cell_type": "code",
   "execution_count": 6,
   "id": "67471237-d927-4f3a-9212-734b51c1f823",
   "metadata": {},
   "outputs": [],
   "source": [
    "df['end_day']=df.stock_id.map(end_day_dict)\n",
    "df['start_day']=df.stock_id.map(start_day_dict)"
   ]
  },
  {
   "cell_type": "code",
   "execution_count": 7,
   "id": "ec5650c5-eebe-4935-a53c-93dbdd6a7c77",
   "metadata": {},
   "outputs": [],
   "source": [
    "del start_day_dict, end_day_dict, first_pub, contract"
   ]
  },
  {
   "cell_type": "code",
   "execution_count": 8,
   "id": "e0165a24-80dc-4fb7-8840-fecb8a2eecb5",
   "metadata": {},
   "outputs": [
    {
     "name": "stderr",
     "output_type": "stream",
     "text": [
      "\n",
      "KeyboardInterrupt\n",
      "\n"
     ]
    }
   ],
   "source": [
    "df['date'] = pd.to_datetime(df['date'])\n",
    "df = df.sort_values(by=['stock_id', 'date'])\n",
    "\n",
    "df['min_price'] = df.groupby('stock_id')['price'].transform('min')\n",
    "df['max_price'] = df.groupby('stock_id')['price'].transform('max')\n",
    "\n",
    "df['diff_price'] = df['max_price'] - df['min_price']"
   ]
  },
  {
   "cell_type": "code",
   "execution_count": null,
   "id": "886de678-c2d8-4908-a2f2-303a42636101",
   "metadata": {},
   "outputs": [],
   "source": [
    "pricing_ai.print_shape(df)\n",
    "df = df.dropna(subset=['start_day'])\n",
    "pricing_ai.print_shape(df)"
   ]
  },
  {
   "cell_type": "markdown",
   "id": "9cc87be4-f80d-44a2-a97c-f083f3db945a",
   "metadata": {},
   "source": [
    "#### 前処理：価格の下落があったもの"
   ]
  },
  {
   "cell_type": "code",
   "execution_count": 8,
   "id": "91d68a63-c71e-4fe5-9acf-780ae4dd8373",
   "metadata": {},
   "outputs": [],
   "source": [
    "df['diff_per_stockid'] = df.groupby('stock_id').price.diff().fillna(0)"
   ]
  },
  {
   "cell_type": "code",
   "execution_count": 11,
   "id": "139dfd51-aa76-41d7-9758-b1938bd44777",
   "metadata": {},
   "outputs": [
    {
     "data": {
      "text/html": [
       "<div>\n",
       "<style scoped>\n",
       "    .dataframe tbody tr th:only-of-type {\n",
       "        vertical-align: middle;\n",
       "    }\n",
       "\n",
       "    .dataframe tbody tr th {\n",
       "        vertical-align: top;\n",
       "    }\n",
       "\n",
       "    .dataframe thead th {\n",
       "        text-align: right;\n",
       "    }\n",
       "</style>\n",
       "<table border=\"1\" class=\"dataframe\">\n",
       "  <thead>\n",
       "    <tr style=\"text-align: right;\">\n",
       "      <th></th>\n",
       "      <th>date</th>\n",
       "      <th>stock_id</th>\n",
       "      <th>price</th>\n",
       "      <th>end_day</th>\n",
       "      <th>start_day</th>\n",
       "      <th>diff_per_stockid</th>\n",
       "    </tr>\n",
       "  </thead>\n",
       "  <tbody>\n",
       "    <tr>\n",
       "      <th>0</th>\n",
       "      <td>2021-07-15</td>\n",
       "      <td>0205200A30210529W001</td>\n",
       "      <td>1498000</td>\n",
       "      <td>2021-09-16</td>\n",
       "      <td>2021-05-29</td>\n",
       "      <td>0</td>\n",
       "    </tr>\n",
       "    <tr>\n",
       "      <th>1</th>\n",
       "      <td>2021-10-25</td>\n",
       "      <td>0570625A30210804W001</td>\n",
       "      <td>2230000</td>\n",
       "      <td>2021-12-03</td>\n",
       "      <td>2021-08-04</td>\n",
       "      <td>0</td>\n",
       "    </tr>\n",
       "    <tr>\n",
       "      <th>2</th>\n",
       "      <td>2021-02-14</td>\n",
       "      <td>0803431A30201223W001</td>\n",
       "      <td>1630000</td>\n",
       "      <td>2021-11-19</td>\n",
       "      <td>2020-12-23</td>\n",
       "      <td>0</td>\n",
       "    </tr>\n",
       "    <tr>\n",
       "      <th>3</th>\n",
       "      <td>2020-03-27</td>\n",
       "      <td>0203664A30200201W001</td>\n",
       "      <td>2299000</td>\n",
       "      <td>2020-05-19</td>\n",
       "      <td>2020-02-01</td>\n",
       "      <td>0</td>\n",
       "    </tr>\n",
       "    <tr>\n",
       "      <th>4</th>\n",
       "      <td>2021-02-15</td>\n",
       "      <td>0505524A20201215S001</td>\n",
       "      <td>1350000</td>\n",
       "      <td>2021-09-24</td>\n",
       "      <td>2020-12-26</td>\n",
       "      <td>0</td>\n",
       "    </tr>\n",
       "    <tr>\n",
       "      <th>...</th>\n",
       "      <td>...</td>\n",
       "      <td>...</td>\n",
       "      <td>...</td>\n",
       "      <td>...</td>\n",
       "      <td>...</td>\n",
       "      <td>...</td>\n",
       "    </tr>\n",
       "    <tr>\n",
       "      <th>58861799</th>\n",
       "      <td>2020-12-17</td>\n",
       "      <td>0403977A30201105W001</td>\n",
       "      <td>150000</td>\n",
       "      <td>2021-06-02</td>\n",
       "      <td>2020-11-05</td>\n",
       "      <td>0</td>\n",
       "    </tr>\n",
       "    <tr>\n",
       "      <th>58861801</th>\n",
       "      <td>2020-06-09</td>\n",
       "      <td>0803400A30200529W001</td>\n",
       "      <td>150000</td>\n",
       "      <td>2020-07-16</td>\n",
       "      <td>2020-05-29</td>\n",
       "      <td>0</td>\n",
       "    </tr>\n",
       "    <tr>\n",
       "      <th>58861803</th>\n",
       "      <td>2020-02-15</td>\n",
       "      <td>0404091A30200108W003</td>\n",
       "      <td>150000</td>\n",
       "      <td>2020-02-16</td>\n",
       "      <td>2020-01-08</td>\n",
       "      <td>0</td>\n",
       "    </tr>\n",
       "    <tr>\n",
       "      <th>58861805</th>\n",
       "      <td>2020-10-01</td>\n",
       "      <td>0208051A30200719W001</td>\n",
       "      <td>150000</td>\n",
       "      <td>2020-11-07</td>\n",
       "      <td>2020-07-24</td>\n",
       "      <td>0</td>\n",
       "    </tr>\n",
       "    <tr>\n",
       "      <th>58861806</th>\n",
       "      <td>2021-02-21</td>\n",
       "      <td>0505237A30200621W003</td>\n",
       "      <td>150000</td>\n",
       "      <td>2021-05-09</td>\n",
       "      <td>2020-06-21</td>\n",
       "      <td>0</td>\n",
       "    </tr>\n",
       "  </tbody>\n",
       "</table>\n",
       "<p>47388779 rows × 6 columns</p>\n",
       "</div>"
      ],
      "text/plain": [
       "                date              stock_id    price    end_day  start_day  \\\n",
       "0         2021-07-15  0205200A30210529W001  1498000 2021-09-16 2021-05-29   \n",
       "1         2021-10-25  0570625A30210804W001  2230000 2021-12-03 2021-08-04   \n",
       "2         2021-02-14  0803431A30201223W001  1630000 2021-11-19 2020-12-23   \n",
       "3         2020-03-27  0203664A30200201W001  2299000 2020-05-19 2020-02-01   \n",
       "4         2021-02-15  0505524A20201215S001  1350000 2021-09-24 2020-12-26   \n",
       "...              ...                   ...      ...        ...        ...   \n",
       "58861799  2020-12-17  0403977A30201105W001   150000 2021-06-02 2020-11-05   \n",
       "58861801  2020-06-09  0803400A30200529W001   150000 2020-07-16 2020-05-29   \n",
       "58861803  2020-02-15  0404091A30200108W003   150000 2020-02-16 2020-01-08   \n",
       "58861805  2020-10-01  0208051A30200719W001   150000 2020-11-07 2020-07-24   \n",
       "58861806  2021-02-21  0505237A30200621W003   150000 2021-05-09 2020-06-21   \n",
       "\n",
       "          diff_per_stockid  \n",
       "0                        0  \n",
       "1                        0  \n",
       "2                        0  \n",
       "3                        0  \n",
       "4                        0  \n",
       "...                    ...  \n",
       "58861799                 0  \n",
       "58861801                 0  \n",
       "58861803                 0  \n",
       "58861805                 0  \n",
       "58861806                 0  \n",
       "\n",
       "[47388779 rows x 6 columns]"
      ]
     },
     "execution_count": 11,
     "metadata": {},
     "output_type": "execute_result"
    }
   ],
   "source": [
    "pricing_ai.print_shape(df)\n",
    "df = df[df.diff_price != 0]\n",
    "pricing_ai.print_shape(df)"
   ]
  },
  {
   "cell_type": "code",
   "execution_count": 11,
   "id": "fba7aacd-6dbe-4e0a-8446-44dc2e6cbda5",
   "metadata": {},
   "outputs": [],
   "source": [
    "# df = df[df.diff_price.ne(0)]\n",
    "# df.loc[:, 'price_diff'] = df.price.diff()"
   ]
  },
  {
   "cell_type": "code",
   "execution_count": 30,
   "id": "71491b2f-b46d-4e58-9678-df448491f7f6",
   "metadata": {},
   "outputs": [],
   "source": [
    "price_diff_df = df.groupby(['stock_id', 'price_diff']).size().to_frame('count').reset_index()"
   ]
  },
  {
   "cell_type": "code",
   "execution_count": 61,
   "id": "bf19b1ee-72f8-41e7-9e2a-680364d2f4d5",
   "metadata": {},
   "outputs": [
    {
     "data": {
      "image/png": "[encoded data removed]",
      "text/plain": [
       "<Figure size 432x288 with 1 Axes>"
      ]
     },
     "metadata": {
      "needs_background": "light"
     },
     "output_type": "display_data"
    }
   ],
   "source": [
    "price_diff_df[price_diff_df.price_diff.ne(0)].groupby('stock_id')['count']\\\n",
    "                                            .sum()\\\n",
    "                                            .value_counts().head(10).plot.bar()\n",
    "plt.xticks(rotation=45)\n",
    "plt.show()"
   ]
  },
  {
   "cell_type": "code",
   "execution_count": 67,
   "id": "bbbd12fa-191d-4679-a4f0-fa4870029e43",
   "metadata": {},
   "outputs": [
    {
     "data": {
      "text/plain": [
       "(1566522, 1098000)"
      ]
     },
     "execution_count": 67,
     "metadata": {},
     "output_type": "execute_result"
    }
   ],
   "source": [
    "df.drop_duplicates('stock_id').max_price.mean().astype(int), df.drop_duplicates('stock_id').max_price.median().astype(int)"
   ]
  },
  {
   "cell_type": "markdown",
   "id": "e7e14461-f274-4679-afa4-078892b85c98",
   "metadata": {},
   "source": [
    "#### 可視化：初回掲載から成約までで価格の下落があったもの"
   ]
  },
  {
   "cell_type": "code",
   "execution_count": 13,
   "id": "59f44e72-af0c-4ec0-84d6-d41116936446",
   "metadata": {},
   "outputs": [
    {
     "data": {
      "text/plain": [
       "<AxesSubplot:ylabel='Frequency'>"
      ]
     },
     "execution_count": 13,
     "metadata": {},
     "output_type": "execute_result"
    },
    {
     "data": {
      "image/png": "[encoded data removed]",
      "text/plain": [
       "<Figure size 432x288 with 1 Axes>"
      ]
     },
     "metadata": {
      "needs_background": "light"
     },
     "output_type": "display_data"
    }
   ],
   "source": [
    "df_copy = df_copy[df_copy.diff_price != 0].drop_duplicates(subset=['stock_id'])\n",
    "df_copy['keisai_day'] = df_copy['end_day']-df_copy['start_day']\n",
    "df_copy['keisai_day'] = df_copy.keisai_day.astype('timedelta64[D]').astype(int)\n",
    "df_copy['keisai_day'].plot.hist(bins=20)"
   ]
  },
  {
   "cell_type": "code",
   "execution_count": 14,
   "id": "478ade24-6b68-4fee-9cc6-5bd2ea5d4142",
   "metadata": {},
   "outputs": [
    {
     "data": {
      "text/plain": [
       "(87.0, 114.11965797195619)"
      ]
     },
     "execution_count": 14,
     "metadata": {},
     "output_type": "execute_result"
    }
   ],
   "source": [
    "df_copy.keisai_day.median(), df_copy.keisai_day.mean()"
   ]
  },
  {
   "cell_type": "code",
   "execution_count": null,
   "id": "f323ebc9-5739-47f1-8bc1-c74b4602e97c",
   "metadata": {},
   "outputs": [],
   "source": []
  },
  {
   "cell_type": "code",
   "execution_count": null,
   "id": "b1ac94eb-c2a9-4886-991f-581626fde3c2",
   "metadata": {},
   "outputs": [],
   "source": []
  }
 ],
 "metadata": {
  "kernelspec": {
   "display_name": "Python 3 (ipykernel)",
   "language": "python",
   "name": "python3"
  },
  "language_info": {
   "codemirror_mode": {
    "name": "ipython",
    "version": 3
   },
   "file_extension": ".py",
   "mimetype": "text/x-python",
   "name": "python",
   "nbconvert_exporter": "python",
   "pygments_lexer": "ipython3",
   "version": "3.7.13"
  }
 },
 "nbformat": 4,
 "nbformat_minor": 5
}
