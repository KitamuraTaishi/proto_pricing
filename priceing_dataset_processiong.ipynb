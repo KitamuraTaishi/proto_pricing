{
 "cells": [
  {
   "cell_type": "code",
   "execution_count": 17,
   "id": "2336f41d-9d4d-489f-a295-0be4f9afccfe",
   "metadata": {},
   "outputs": [],
   "source": [
    "# pip install sklearn"
   ]
  },
  {
   "cell_type": "code",
   "execution_count": 1,
   "id": "95889df7-57b7-462e-b20b-256f8b7d2d04",
   "metadata": {},
   "outputs": [],
   "source": [
    "import pandas as pd\n",
    "import pickle\n",
    "from sklearn.model_selection import train_test_split\n",
    "import seaborn as sns\n",
    "import matplotlib.pyplot as plt\n",
    "from matplotlib import font_manager\n",
    "\n",
    "sns.set()"
   ]
  },
  {
   "cell_type": "code",
   "execution_count": 2,
   "id": "6b870ee9-f491-4885-8b7f-fa5e965d1339",
   "metadata": {},
   "outputs": [],
   "source": [
    "plt.rcParams['font.family'] = [font.name for font in font_manager.FontManager().ttflist if 'jp' in str(font).lower()]"
   ]
  },
  {
   "cell_type": "code",
   "execution_count": 3,
   "id": "aeb69288-8ce8-4241-8996-1fa83c1e1ec4",
   "metadata": {},
   "outputs": [],
   "source": [
    "nesagenashi = pickle.load(open('data/nesagenashi2.pkl', 'rb'))\n",
    "nesage_Sold = pickle.load(open('data/nesage_Sold2.pkl', 'rb'))\n",
    "nesage_NotSold = pickle.load(open('data/nesage_NotSold2.pkl', 'rb'))"
   ]
  },
  {
   "cell_type": "code",
   "execution_count": 4,
   "id": "8c71ce07-d3d1-46c6-83e3-0c648a6b012a",
   "metadata": {},
   "outputs": [],
   "source": [
    "nesagenashi = nesagenashi.rename(\n",
    "    columns=\n",
    "    {\n",
    "        'Nodiscount_period': 'keisaiday'\n",
    "        ,'Nodiscount_price': 'price'\n",
    "    })\n",
    "nesage_Sold = nesage_Sold.rename(\n",
    "    columns=\n",
    "    {\n",
    "        'period': 'keisaiday'\n",
    "        ,'sold_price':'price'\n",
    "    })\n",
    "nesage_NotSold  = nesage_NotSold.rename(\n",
    "    columns=\n",
    "    {\n",
    "        'period': 'keisaiday'\n",
    "        , 'not_sold_price':'price' \n",
    "    })"
   ]
  },
  {
   "cell_type": "code",
   "execution_count": 5,
   "id": "73dd5101-ade5-43c4-95f1-40cffeb300e6",
   "metadata": {},
   "outputs": [
    {
     "name": "stdout",
     "output_type": "stream",
     "text": [
      "(182747, 17)\n",
      "(182541, 17)\n"
     ]
    }
   ],
   "source": [
    "print(nesage_Sold.shape)\n",
    "nesage_Sold = nesage_Sold[nesage_Sold.groupby('n_car_cd')['n_car_cd'].transform('count')>= 2]\n",
    "print(nesage_Sold.shape)"
   ]
  },
  {
   "cell_type": "code",
   "execution_count": 6,
   "id": "4bf9b665-7f76-4357-abfc-f65574b13192",
   "metadata": {},
   "outputs": [
    {
     "name": "stdout",
     "output_type": "stream",
     "text": [
      "(182747, 17)\n",
      "(182541, 17)\n"
     ]
    }
   ],
   "source": [
    "print(nesage_NotSold.shape)\n",
    "nesage_NotSold = nesage_NotSold[nesage_NotSold.groupby('n_car_cd')['n_car_cd'].transform('count')>= 2]\n",
    "print(nesage_NotSold.shape)"
   ]
  },
  {
   "cell_type": "code",
   "execution_count": 7,
   "id": "0704ca71-0d86-479a-8df9-6b976f441560",
   "metadata": {},
   "outputs": [
    {
     "name": "stdout",
     "output_type": "stream",
     "text": [
      "(396128, 17)\n",
      "(395907, 17)\n"
     ]
    }
   ],
   "source": [
    "print(nesagenashi.shape)\n",
    "nesagenashi = nesagenashi[nesagenashi.groupby('n_car_cd')['n_car_cd'].transform('count')>= 2]\n",
    "print(nesagenashi.shape)"
   ]
  },
  {
   "cell_type": "code",
   "execution_count": 8,
   "id": "97ab276b-ad4a-4485-b50e-683c1e32107d",
   "metadata": {},
   "outputs": [],
   "source": [
    "nesagenashi_train, nesagenashi_test = train_test_split(nesagenashi, test_size=0.2, random_state=0, stratify=nesagenashi.n_car_cd)\n",
    "nesage_Sold_train, nesage_Sold_test = train_test_split(nesage_Sold,  test_size=0.2, random_state=0, stratify=nesage_Sold.n_car_cd)\n",
    "nesage_NotSold_train, nesage_NotSold_test = train_test_split(nesage_NotSold,  test_size=0.2, random_state=0, stratify=nesage_NotSold.n_car_cd)"
   ]
  },
  {
   "cell_type": "code",
   "execution_count": 9,
   "id": "f510d391-ced7-4298-b468-4067ea3b531f",
   "metadata": {},
   "outputs": [
    {
     "data": {
      "text/plain": [
       "((316725, 17), (79182, 17))"
      ]
     },
     "execution_count": 9,
     "metadata": {},
     "output_type": "execute_result"
    }
   ],
   "source": [
    "nesagenashi_train.shape, nesagenashi_test.shape"
   ]
  },
  {
   "cell_type": "code",
   "execution_count": 10,
   "id": "192fe70b-1a40-414b-a0aa-870a5ca39597",
   "metadata": {},
   "outputs": [],
   "source": [
    "train = pd.concat([nesagenashi_train\n",
    "                   , nesage_Sold_train\n",
    "                   , nesage_NotSold_train])\n",
    "test = pd.concat([nesagenashi_test\n",
    "                 , nesage_Sold_test\n",
    "                 , nesage_NotSold_test])"
   ]
  },
  {
   "cell_type": "code",
   "execution_count": 11,
   "id": "ad247ed8-48b3-4619-a256-5d166ecb69f1",
   "metadata": {},
   "outputs": [
    {
     "data": {
      "text/html": [
       "<div>\n",
       "<style scoped>\n",
       "    .dataframe tbody tr th:only-of-type {\n",
       "        vertical-align: middle;\n",
       "    }\n",
       "\n",
       "    .dataframe tbody tr th {\n",
       "        vertical-align: top;\n",
       "    }\n",
       "\n",
       "    .dataframe thead th {\n",
       "        text-align: right;\n",
       "    }\n",
       "</style>\n",
       "<table border=\"1\" class=\"dataframe\">\n",
       "  <thead>\n",
       "    <tr style=\"text-align: right;\">\n",
       "      <th></th>\n",
       "      <th>n_car_cd</th>\n",
       "      <th>price</th>\n",
       "      <th>n_p_katashiki_id</th>\n",
       "      <th>n_p_grade_id</th>\n",
       "      <th>nenshiki</th>\n",
       "      <th>e_distance</th>\n",
       "      <th>zan_syaken</th>\n",
       "      <th>seibi</th>\n",
       "      <th>zan_syaken+α(seibi)</th>\n",
       "      <th>repair_flag</th>\n",
       "      <th>exhaust_nm_cc</th>\n",
       "      <th>client_dealer_flag</th>\n",
       "      <th>pre_n</th>\n",
       "      <th>color_cd2</th>\n",
       "      <th>sunroof</th>\n",
       "      <th>leather_seats</th>\n",
       "      <th>keisaiday</th>\n",
       "    </tr>\n",
       "  </thead>\n",
       "  <tbody>\n",
       "    <tr>\n",
       "      <th>375541</th>\n",
       "      <td>10507114</td>\n",
       "      <td>890000</td>\n",
       "      <td>5</td>\n",
       "      <td>2</td>\n",
       "      <td>1</td>\n",
       "      <td>350</td>\n",
       "      <td>510.0</td>\n",
       "      <td>2</td>\n",
       "      <td>0.0</td>\n",
       "      <td>1</td>\n",
       "      <td>660</td>\n",
       "      <td>0</td>\n",
       "      <td>沖縄県</td>\n",
       "      <td>40</td>\n",
       "      <td>0</td>\n",
       "      <td>0</td>\n",
       "      <td>12</td>\n",
       "    </tr>\n",
       "    <tr>\n",
       "      <th>150346</th>\n",
       "      <td>10102058</td>\n",
       "      <td>1540000</td>\n",
       "      <td>23</td>\n",
       "      <td>19</td>\n",
       "      <td>3</td>\n",
       "      <td>41927</td>\n",
       "      <td>658.0</td>\n",
       "      <td>1</td>\n",
       "      <td>0.0</td>\n",
       "      <td>1</td>\n",
       "      <td>1500</td>\n",
       "      <td>1</td>\n",
       "      <td>埼玉県</td>\n",
       "      <td>10</td>\n",
       "      <td>0</td>\n",
       "      <td>0</td>\n",
       "      <td>16</td>\n",
       "    </tr>\n",
       "    <tr>\n",
       "      <th>55574</th>\n",
       "      <td>10551015</td>\n",
       "      <td>325000</td>\n",
       "      <td>13</td>\n",
       "      <td>20</td>\n",
       "      <td>8</td>\n",
       "      <td>32525</td>\n",
       "      <td>559.0</td>\n",
       "      <td>0</td>\n",
       "      <td>0.0</td>\n",
       "      <td>1</td>\n",
       "      <td>660</td>\n",
       "      <td>0</td>\n",
       "      <td>岐阜県</td>\n",
       "      <td>40</td>\n",
       "      <td>0</td>\n",
       "      <td>0</td>\n",
       "      <td>5</td>\n",
       "    </tr>\n",
       "    <tr>\n",
       "      <th>51561</th>\n",
       "      <td>10402027</td>\n",
       "      <td>3578000</td>\n",
       "      <td>19</td>\n",
       "      <td>26</td>\n",
       "      <td>0</td>\n",
       "      <td>10</td>\n",
       "      <td>1040.0</td>\n",
       "      <td>2</td>\n",
       "      <td>0.0</td>\n",
       "      <td>1</td>\n",
       "      <td>2200</td>\n",
       "      <td>0</td>\n",
       "      <td>愛知県</td>\n",
       "      <td>60</td>\n",
       "      <td>0</td>\n",
       "      <td>0</td>\n",
       "      <td>30</td>\n",
       "    </tr>\n",
       "    <tr>\n",
       "      <th>136149</th>\n",
       "      <td>10202010</td>\n",
       "      <td>95000</td>\n",
       "      <td>39</td>\n",
       "      <td>130</td>\n",
       "      <td>16</td>\n",
       "      <td>115207</td>\n",
       "      <td>0.0</td>\n",
       "      <td>0</td>\n",
       "      <td>0.0</td>\n",
       "      <td>2</td>\n",
       "      <td>2000</td>\n",
       "      <td>0</td>\n",
       "      <td>埼玉県</td>\n",
       "      <td>20</td>\n",
       "      <td>0</td>\n",
       "      <td>0</td>\n",
       "      <td>2</td>\n",
       "    </tr>\n",
       "    <tr>\n",
       "      <th>...</th>\n",
       "      <td>...</td>\n",
       "      <td>...</td>\n",
       "      <td>...</td>\n",
       "      <td>...</td>\n",
       "      <td>...</td>\n",
       "      <td>...</td>\n",
       "      <td>...</td>\n",
       "      <td>...</td>\n",
       "      <td>...</td>\n",
       "      <td>...</td>\n",
       "      <td>...</td>\n",
       "      <td>...</td>\n",
       "      <td>...</td>\n",
       "      <td>...</td>\n",
       "      <td>...</td>\n",
       "      <td>...</td>\n",
       "      <td>...</td>\n",
       "    </tr>\n",
       "    <tr>\n",
       "      <th>60527</th>\n",
       "      <td>10102017</td>\n",
       "      <td>4289000</td>\n",
       "      <td>113</td>\n",
       "      <td>83</td>\n",
       "      <td>2</td>\n",
       "      <td>18000</td>\n",
       "      <td>488.0</td>\n",
       "      <td>0</td>\n",
       "      <td>0.0</td>\n",
       "      <td>1</td>\n",
       "      <td>2800</td>\n",
       "      <td>0</td>\n",
       "      <td>大阪府</td>\n",
       "      <td>30</td>\n",
       "      <td>1</td>\n",
       "      <td>0</td>\n",
       "      <td>9</td>\n",
       "    </tr>\n",
       "    <tr>\n",
       "      <th>21657</th>\n",
       "      <td>10101059</td>\n",
       "      <td>792000</td>\n",
       "      <td>23</td>\n",
       "      <td>83</td>\n",
       "      <td>7</td>\n",
       "      <td>13951</td>\n",
       "      <td>480.0</td>\n",
       "      <td>1</td>\n",
       "      <td>0.0</td>\n",
       "      <td>1</td>\n",
       "      <td>1500</td>\n",
       "      <td>1</td>\n",
       "      <td>愛知県</td>\n",
       "      <td>30</td>\n",
       "      <td>0</td>\n",
       "      <td>0</td>\n",
       "      <td>22</td>\n",
       "    </tr>\n",
       "    <tr>\n",
       "      <th>62902</th>\n",
       "      <td>10252027</td>\n",
       "      <td>1649000</td>\n",
       "      <td>19</td>\n",
       "      <td>33</td>\n",
       "      <td>1</td>\n",
       "      <td>10000</td>\n",
       "      <td>430.0</td>\n",
       "      <td>0</td>\n",
       "      <td>0.0</td>\n",
       "      <td>1</td>\n",
       "      <td>2000</td>\n",
       "      <td>0</td>\n",
       "      <td>茨城県</td>\n",
       "      <td>35</td>\n",
       "      <td>0</td>\n",
       "      <td>0</td>\n",
       "      <td>32</td>\n",
       "    </tr>\n",
       "    <tr>\n",
       "      <th>61387</th>\n",
       "      <td>20252502</td>\n",
       "      <td>1398000</td>\n",
       "      <td>54</td>\n",
       "      <td>32</td>\n",
       "      <td>8</td>\n",
       "      <td>107000</td>\n",
       "      <td>289.0</td>\n",
       "      <td>0</td>\n",
       "      <td>0.0</td>\n",
       "      <td>1</td>\n",
       "      <td>2000</td>\n",
       "      <td>0</td>\n",
       "      <td>埼玉県</td>\n",
       "      <td>30</td>\n",
       "      <td>0</td>\n",
       "      <td>1</td>\n",
       "      <td>29</td>\n",
       "    </tr>\n",
       "    <tr>\n",
       "      <th>8913</th>\n",
       "      <td>10107117</td>\n",
       "      <td>2128411</td>\n",
       "      <td>457</td>\n",
       "      <td>53</td>\n",
       "      <td>3</td>\n",
       "      <td>3267</td>\n",
       "      <td>215.0</td>\n",
       "      <td>2</td>\n",
       "      <td>0.0</td>\n",
       "      <td>2</td>\n",
       "      <td>2700</td>\n",
       "      <td>0</td>\n",
       "      <td>三重県</td>\n",
       "      <td>55</td>\n",
       "      <td>0</td>\n",
       "      <td>0</td>\n",
       "      <td>17</td>\n",
       "    </tr>\n",
       "  </tbody>\n",
       "</table>\n",
       "<p>152200 rows × 17 columns</p>\n",
       "</div>"
      ],
      "text/plain": [
       "        n_car_cd    price  n_p_katashiki_id  n_p_grade_id  nenshiki  \\\n",
       "375541  10507114   890000                 5             2         1   \n",
       "150346  10102058  1540000                23            19         3   \n",
       "55574   10551015   325000                13            20         8   \n",
       "51561   10402027  3578000                19            26         0   \n",
       "136149  10202010    95000                39           130        16   \n",
       "...          ...      ...               ...           ...       ...   \n",
       "60527   10102017  4289000               113            83         2   \n",
       "21657   10101059   792000                23            83         7   \n",
       "62902   10252027  1649000                19            33         1   \n",
       "61387   20252502  1398000                54            32         8   \n",
       "8913    10107117  2128411               457            53         3   \n",
       "\n",
       "        e_distance  zan_syaken  seibi  zan_syaken+α(seibi)  repair_flag  \\\n",
       "375541         350       510.0      2                  0.0            1   \n",
       "150346       41927       658.0      1                  0.0            1   \n",
       "55574        32525       559.0      0                  0.0            1   \n",
       "51561           10      1040.0      2                  0.0            1   \n",
       "136149      115207         0.0      0                  0.0            2   \n",
       "...            ...         ...    ...                  ...          ...   \n",
       "60527        18000       488.0      0                  0.0            1   \n",
       "21657        13951       480.0      1                  0.0            1   \n",
       "62902        10000       430.0      0                  0.0            1   \n",
       "61387       107000       289.0      0                  0.0            1   \n",
       "8913          3267       215.0      2                  0.0            2   \n",
       "\n",
       "       exhaust_nm_cc  client_dealer_flag pre_n  color_cd2  sunroof  \\\n",
       "375541           660                   0   沖縄県         40        0   \n",
       "150346          1500                   1   埼玉県         10        0   \n",
       "55574            660                   0   岐阜県         40        0   \n",
       "51561           2200                   0   愛知県         60        0   \n",
       "136149          2000                   0   埼玉県         20        0   \n",
       "...              ...                 ...   ...        ...      ...   \n",
       "60527           2800                   0   大阪府         30        1   \n",
       "21657           1500                   1   愛知県         30        0   \n",
       "62902           2000                   0   茨城県         35        0   \n",
       "61387           2000                   0   埼玉県         30        0   \n",
       "8913            2700                   0   三重県         55        0   \n",
       "\n",
       "        leather_seats  keisaiday  \n",
       "375541              0         12  \n",
       "150346              0         16  \n",
       "55574               0          5  \n",
       "51561               0         30  \n",
       "136149              0          2  \n",
       "...               ...        ...  \n",
       "60527               0          9  \n",
       "21657               0         22  \n",
       "62902               0         32  \n",
       "61387               1         29  \n",
       "8913                0         17  \n",
       "\n",
       "[152200 rows x 17 columns]"
      ]
     },
     "execution_count": 11,
     "metadata": {},
     "output_type": "execute_result"
    }
   ],
   "source": [
    "test"
   ]
  },
  {
   "cell_type": "code",
   "execution_count": 44,
   "id": "06113013-8db8-4357-a4b9-fc066b1dee31",
   "metadata": {},
   "outputs": [],
   "source": [
    "train = pd.concat([nesagenashi_train\n",
    "                   , nesage_Sold_train\n",
    "                  ])\n",
    "test = pd.concat([nesagenashi_test\n",
    "                 , nesage_Sold_test])"
   ]
  },
  {
   "cell_type": "code",
   "execution_count": 45,
   "id": "16500c26-0f0a-42a4-9b6b-7bcfde4bdb0f",
   "metadata": {},
   "outputs": [
    {
     "data": {
      "text/html": [
       "<div>\n",
       "<style scoped>\n",
       "    .dataframe tbody tr th:only-of-type {\n",
       "        vertical-align: middle;\n",
       "    }\n",
       "\n",
       "    .dataframe tbody tr th {\n",
       "        vertical-align: top;\n",
       "    }\n",
       "\n",
       "    .dataframe thead th {\n",
       "        text-align: right;\n",
       "    }\n",
       "</style>\n",
       "<table border=\"1\" class=\"dataframe\">\n",
       "  <thead>\n",
       "    <tr style=\"text-align: right;\">\n",
       "      <th></th>\n",
       "      <th>n_car_cd</th>\n",
       "      <th>price</th>\n",
       "      <th>n_p_katashiki_id</th>\n",
       "      <th>n_p_grade_id</th>\n",
       "      <th>nenshiki</th>\n",
       "      <th>e_distance</th>\n",
       "      <th>zan_syaken</th>\n",
       "      <th>seibi</th>\n",
       "      <th>zan_syaken+α(seibi)</th>\n",
       "      <th>repair_flag</th>\n",
       "      <th>exhaust_nm_cc</th>\n",
       "      <th>client_dealer_flag</th>\n",
       "      <th>pre_n</th>\n",
       "      <th>color_cd2</th>\n",
       "      <th>sunroof</th>\n",
       "      <th>leather_seats</th>\n",
       "      <th>keisaiday</th>\n",
       "    </tr>\n",
       "  </thead>\n",
       "  <tbody>\n",
       "    <tr>\n",
       "      <th>375541</th>\n",
       "      <td>10507114</td>\n",
       "      <td>890000</td>\n",
       "      <td>5</td>\n",
       "      <td>2</td>\n",
       "      <td>1</td>\n",
       "      <td>350</td>\n",
       "      <td>510.0</td>\n",
       "      <td>2</td>\n",
       "      <td>0.0</td>\n",
       "      <td>1</td>\n",
       "      <td>660</td>\n",
       "      <td>0</td>\n",
       "      <td>沖縄県</td>\n",
       "      <td>40</td>\n",
       "      <td>0</td>\n",
       "      <td>0</td>\n",
       "      <td>12</td>\n",
       "    </tr>\n",
       "    <tr>\n",
       "      <th>150346</th>\n",
       "      <td>10102058</td>\n",
       "      <td>1540000</td>\n",
       "      <td>23</td>\n",
       "      <td>19</td>\n",
       "      <td>3</td>\n",
       "      <td>41927</td>\n",
       "      <td>658.0</td>\n",
       "      <td>1</td>\n",
       "      <td>0.0</td>\n",
       "      <td>1</td>\n",
       "      <td>1500</td>\n",
       "      <td>1</td>\n",
       "      <td>埼玉県</td>\n",
       "      <td>10</td>\n",
       "      <td>0</td>\n",
       "      <td>0</td>\n",
       "      <td>16</td>\n",
       "    </tr>\n",
       "    <tr>\n",
       "      <th>55574</th>\n",
       "      <td>10551015</td>\n",
       "      <td>325000</td>\n",
       "      <td>13</td>\n",
       "      <td>20</td>\n",
       "      <td>8</td>\n",
       "      <td>32525</td>\n",
       "      <td>559.0</td>\n",
       "      <td>0</td>\n",
       "      <td>0.0</td>\n",
       "      <td>1</td>\n",
       "      <td>660</td>\n",
       "      <td>0</td>\n",
       "      <td>岐阜県</td>\n",
       "      <td>40</td>\n",
       "      <td>0</td>\n",
       "      <td>0</td>\n",
       "      <td>5</td>\n",
       "    </tr>\n",
       "    <tr>\n",
       "      <th>51561</th>\n",
       "      <td>10402027</td>\n",
       "      <td>3578000</td>\n",
       "      <td>19</td>\n",
       "      <td>26</td>\n",
       "      <td>0</td>\n",
       "      <td>10</td>\n",
       "      <td>1040.0</td>\n",
       "      <td>2</td>\n",
       "      <td>0.0</td>\n",
       "      <td>1</td>\n",
       "      <td>2200</td>\n",
       "      <td>0</td>\n",
       "      <td>愛知県</td>\n",
       "      <td>60</td>\n",
       "      <td>0</td>\n",
       "      <td>0</td>\n",
       "      <td>30</td>\n",
       "    </tr>\n",
       "    <tr>\n",
       "      <th>136149</th>\n",
       "      <td>10202010</td>\n",
       "      <td>95000</td>\n",
       "      <td>39</td>\n",
       "      <td>130</td>\n",
       "      <td>16</td>\n",
       "      <td>115207</td>\n",
       "      <td>0.0</td>\n",
       "      <td>0</td>\n",
       "      <td>0.0</td>\n",
       "      <td>2</td>\n",
       "      <td>2000</td>\n",
       "      <td>0</td>\n",
       "      <td>埼玉県</td>\n",
       "      <td>20</td>\n",
       "      <td>0</td>\n",
       "      <td>0</td>\n",
       "      <td>2</td>\n",
       "    </tr>\n",
       "    <tr>\n",
       "      <th>...</th>\n",
       "      <td>...</td>\n",
       "      <td>...</td>\n",
       "      <td>...</td>\n",
       "      <td>...</td>\n",
       "      <td>...</td>\n",
       "      <td>...</td>\n",
       "      <td>...</td>\n",
       "      <td>...</td>\n",
       "      <td>...</td>\n",
       "      <td>...</td>\n",
       "      <td>...</td>\n",
       "      <td>...</td>\n",
       "      <td>...</td>\n",
       "      <td>...</td>\n",
       "      <td>...</td>\n",
       "      <td>...</td>\n",
       "      <td>...</td>\n",
       "    </tr>\n",
       "    <tr>\n",
       "      <th>60527</th>\n",
       "      <td>10102017</td>\n",
       "      <td>4274000</td>\n",
       "      <td>113</td>\n",
       "      <td>83</td>\n",
       "      <td>2</td>\n",
       "      <td>18000</td>\n",
       "      <td>479.0</td>\n",
       "      <td>0</td>\n",
       "      <td>0.0</td>\n",
       "      <td>1</td>\n",
       "      <td>2800</td>\n",
       "      <td>0</td>\n",
       "      <td>大阪府</td>\n",
       "      <td>30</td>\n",
       "      <td>1</td>\n",
       "      <td>0</td>\n",
       "      <td>2</td>\n",
       "    </tr>\n",
       "    <tr>\n",
       "      <th>21657</th>\n",
       "      <td>10101059</td>\n",
       "      <td>748000</td>\n",
       "      <td>23</td>\n",
       "      <td>83</td>\n",
       "      <td>7</td>\n",
       "      <td>13951</td>\n",
       "      <td>458.0</td>\n",
       "      <td>1</td>\n",
       "      <td>0.0</td>\n",
       "      <td>1</td>\n",
       "      <td>1500</td>\n",
       "      <td>1</td>\n",
       "      <td>愛知県</td>\n",
       "      <td>30</td>\n",
       "      <td>0</td>\n",
       "      <td>0</td>\n",
       "      <td>2</td>\n",
       "    </tr>\n",
       "    <tr>\n",
       "      <th>62902</th>\n",
       "      <td>10252027</td>\n",
       "      <td>1398000</td>\n",
       "      <td>19</td>\n",
       "      <td>33</td>\n",
       "      <td>1</td>\n",
       "      <td>10000</td>\n",
       "      <td>398.0</td>\n",
       "      <td>0</td>\n",
       "      <td>0.0</td>\n",
       "      <td>1</td>\n",
       "      <td>2000</td>\n",
       "      <td>0</td>\n",
       "      <td>茨城県</td>\n",
       "      <td>35</td>\n",
       "      <td>0</td>\n",
       "      <td>0</td>\n",
       "      <td>18</td>\n",
       "    </tr>\n",
       "    <tr>\n",
       "      <th>61387</th>\n",
       "      <td>20252502</td>\n",
       "      <td>1298000</td>\n",
       "      <td>54</td>\n",
       "      <td>32</td>\n",
       "      <td>8</td>\n",
       "      <td>107000</td>\n",
       "      <td>260.0</td>\n",
       "      <td>0</td>\n",
       "      <td>0.0</td>\n",
       "      <td>1</td>\n",
       "      <td>2000</td>\n",
       "      <td>0</td>\n",
       "      <td>埼玉県</td>\n",
       "      <td>30</td>\n",
       "      <td>0</td>\n",
       "      <td>1</td>\n",
       "      <td>11</td>\n",
       "    </tr>\n",
       "    <tr>\n",
       "      <th>8913</th>\n",
       "      <td>10107117</td>\n",
       "      <td>1899000</td>\n",
       "      <td>457</td>\n",
       "      <td>53</td>\n",
       "      <td>3</td>\n",
       "      <td>3267</td>\n",
       "      <td>198.0</td>\n",
       "      <td>2</td>\n",
       "      <td>0.0</td>\n",
       "      <td>2</td>\n",
       "      <td>2700</td>\n",
       "      <td>0</td>\n",
       "      <td>三重県</td>\n",
       "      <td>55</td>\n",
       "      <td>0</td>\n",
       "      <td>0</td>\n",
       "      <td>10</td>\n",
       "    </tr>\n",
       "  </tbody>\n",
       "</table>\n",
       "<p>115691 rows × 17 columns</p>\n",
       "</div>"
      ],
      "text/plain": [
       "        n_car_cd    price  n_p_katashiki_id  n_p_grade_id  nenshiki  \\\n",
       "375541  10507114   890000                 5             2         1   \n",
       "150346  10102058  1540000                23            19         3   \n",
       "55574   10551015   325000                13            20         8   \n",
       "51561   10402027  3578000                19            26         0   \n",
       "136149  10202010    95000                39           130        16   \n",
       "...          ...      ...               ...           ...       ...   \n",
       "60527   10102017  4274000               113            83         2   \n",
       "21657   10101059   748000                23            83         7   \n",
       "62902   10252027  1398000                19            33         1   \n",
       "61387   20252502  1298000                54            32         8   \n",
       "8913    10107117  1899000               457            53         3   \n",
       "\n",
       "        e_distance  zan_syaken  seibi  zan_syaken+α(seibi)  repair_flag  \\\n",
       "375541         350       510.0      2                  0.0            1   \n",
       "150346       41927       658.0      1                  0.0            1   \n",
       "55574        32525       559.0      0                  0.0            1   \n",
       "51561           10      1040.0      2                  0.0            1   \n",
       "136149      115207         0.0      0                  0.0            2   \n",
       "...            ...         ...    ...                  ...          ...   \n",
       "60527        18000       479.0      0                  0.0            1   \n",
       "21657        13951       458.0      1                  0.0            1   \n",
       "62902        10000       398.0      0                  0.0            1   \n",
       "61387       107000       260.0      0                  0.0            1   \n",
       "8913          3267       198.0      2                  0.0            2   \n",
       "\n",
       "       exhaust_nm_cc  client_dealer_flag pre_n  color_cd2  sunroof  \\\n",
       "375541           660                   0   沖縄県         40        0   \n",
       "150346          1500                   1   埼玉県         10        0   \n",
       "55574            660                   0   岐阜県         40        0   \n",
       "51561           2200                   0   愛知県         60        0   \n",
       "136149          2000                   0   埼玉県         20        0   \n",
       "...              ...                 ...   ...        ...      ...   \n",
       "60527           2800                   0   大阪府         30        1   \n",
       "21657           1500                   1   愛知県         30        0   \n",
       "62902           2000                   0   茨城県         35        0   \n",
       "61387           2000                   0   埼玉県         30        0   \n",
       "8913            2700                   0   三重県         55        0   \n",
       "\n",
       "        leather_seats  keisaiday  \n",
       "375541              0         12  \n",
       "150346              0         16  \n",
       "55574               0          5  \n",
       "51561               0         30  \n",
       "136149              0          2  \n",
       "...               ...        ...  \n",
       "60527               0          2  \n",
       "21657               0          2  \n",
       "62902               0         18  \n",
       "61387               1         11  \n",
       "8913                0         10  \n",
       "\n",
       "[115691 rows x 17 columns]"
      ]
     },
     "execution_count": 45,
     "metadata": {},
     "output_type": "execute_result"
    }
   ],
   "source": [
    "test"
   ]
  },
  {
   "cell_type": "markdown",
   "id": "b9785b62-cd27-4827-846b-fbcf678ec2dc",
   "metadata": {
    "tags": []
   },
   "source": [
    "# 学習データの中身"
   ]
  },
  {
   "cell_type": "code",
   "execution_count": 46,
   "id": "1d834c18-9457-45ab-b59a-0c40b73b5472",
   "metadata": {},
   "outputs": [
    {
     "name": "stdout",
     "output_type": "stream",
     "text": [
      "車種数 1343\n"
     ]
    },
    {
     "data": {
      "image/png": "[encoded data removed]",
      "text/plain": [
       "<Figure size 864x288 with 1 Axes>"
      ]
     },
     "metadata": {
      "needs_background": "light"
     },
     "output_type": "display_data"
    }
   ],
   "source": [
    "print('車種数',  train.n_car_cd.nunique())\n",
    "train.n_car_cd.value_counts().head(50).plot.bar(figsize=(12, 4))\n",
    "plt.title('車種の出現数（一部抜粋）')\n",
    "plt.show()"
   ]
  },
  {
   "cell_type": "code",
   "execution_count": 47,
   "id": "f75ce231-cab5-4cd5-8122-6242d342ee4c",
   "metadata": {},
   "outputs": [
    {
     "data": {
      "text/plain": [
       "32.0"
      ]
     },
     "execution_count": 47,
     "metadata": {},
     "output_type": "execute_result"
    }
   ],
   "source": [
    "train.n_car_cd.value_counts().median()"
   ]
  },
  {
   "cell_type": "code",
   "execution_count": 48,
   "id": "a0017657-cc51-4622-bac6-1ab4467bd3f4",
   "metadata": {},
   "outputs": [
    {
     "data": {
      "image/png": "[encoded data removed]",
      "text/plain": [
       "<Figure size 864x288 with 1 Axes>"
      ]
     },
     "metadata": {
      "needs_background": "light"
     },
     "output_type": "display_data"
    }
   ],
   "source": [
    "n_car_cd = train.n_car_cd.value_counts().to_frame()\n",
    "n_car_cd[n_car_cd.n_car_cd <= 1000].n_car_cd.plot.hist(bins=30, figsize=(12, 4))\n",
    "plt.title('車種の出現数')\n",
    "plt.vlines(train.n_car_cd.value_counts().median(), ymin=0, ymax=600,color='red')\n",
    "plt.show()"
   ]
  },
  {
   "cell_type": "code",
   "execution_count": 49,
   "id": "1ef2b042-b605-46f9-9d50-f664bef28e35",
   "metadata": {},
   "outputs": [
    {
     "data": {
      "text/plain": [
       "0.25      6\n",
       "0.75    212\n",
       "Name: n_car_cd, dtype: Int64"
      ]
     },
     "execution_count": 49,
     "metadata": {},
     "output_type": "execute_result"
    }
   ],
   "source": [
    "train.n_car_cd.value_counts().quantile([0.25, 0.75])"
   ]
  },
  {
   "cell_type": "code",
   "execution_count": null,
   "id": "be4b0480-27d8-4d57-a031-3c2ca9a80f9e",
   "metadata": {},
   "outputs": [],
   "source": []
  },
  {
   "cell_type": "code",
   "execution_count": 50,
   "id": "55fc1a74-b3cb-45f5-9926-0bd6bfd4622d",
   "metadata": {},
   "outputs": [],
   "source": [
    "train['n_car_cd + n_p_katashiki_id + nenshiki'] = \\\n",
    "train['n_car_cd'].astype(str)+ '+' + train['n_p_katashiki_id'].astype(str) + '+' + train['n_p_grade_id'].astype(str)"
   ]
  },
  {
   "cell_type": "code",
   "execution_count": 51,
   "id": "268276ab-ed0b-4878-8b33-4d80367581bb",
   "metadata": {},
   "outputs": [
    {
     "data": {
      "image/png": "[encoded data removed]",
      "text/plain": [
       "<Figure size 432x288 with 1 Axes>"
      ]
     },
     "metadata": {
      "needs_background": "light"
     },
     "output_type": "display_data"
    }
   ],
   "source": [
    "\n",
    "train.repair_flag.value_counts(normalize=True).plot.bar()\n",
    "plt.title('修理歴有りなし')\n",
    "plt.show()"
   ]
  },
  {
   "cell_type": "code",
   "execution_count": 52,
   "id": "ef2b1544-4f91-44fb-b47b-f7a8fb5e80e4",
   "metadata": {},
   "outputs": [
    {
     "data": {
      "text/plain": [
       "1    415626\n",
       "2     47131\n",
       "Name: repair_flag, dtype: Int64"
      ]
     },
     "execution_count": 52,
     "metadata": {},
     "output_type": "execute_result"
    }
   ],
   "source": [
    "train.repair_flag.value_counts()"
   ]
  },
  {
   "cell_type": "code",
   "execution_count": 53,
   "id": "add508d6-2519-4f25-aba6-fd88f03fc853",
   "metadata": {},
   "outputs": [
    {
     "data": {
      "text/plain": [
       "1    0.898152\n",
       "2    0.101848\n",
       "Name: repair_flag, dtype: Float64"
      ]
     },
     "execution_count": 53,
     "metadata": {},
     "output_type": "execute_result"
    }
   ],
   "source": [
    "train.repair_flag.value_counts(normalize=True)"
   ]
  },
  {
   "cell_type": "code",
   "execution_count": 54,
   "id": "4532aab7-75e4-45f0-ae27-88cf418d97e3",
   "metadata": {},
   "outputs": [
    {
     "data": {
      "image/png": "[encoded data removed]",
      "text/plain": [
       "<Figure size 1440x288 with 1 Axes>"
      ]
     },
     "metadata": {
      "needs_background": "light"
     },
     "output_type": "display_data"
    }
   ],
   "source": [
    "train.pre_n.value_counts(normalize=True).plot.bar(figsize=(20, 4))\n",
    "plt.title('都道府県')\n",
    "plt.show()"
   ]
  },
  {
   "cell_type": "code",
   "execution_count": 55,
   "id": "871719a2-e64b-4fef-84d6-d03aba8ed238",
   "metadata": {},
   "outputs": [
    {
     "data": {
      "text/plain": [
       "埼玉県     0.109087\n",
       "愛知県     0.098782\n",
       "大阪府     0.068051\n",
       "神奈川県    0.065373\n",
       "千葉県     0.058452\n",
       "北海道     0.048667\n",
       "東京都     0.048053\n",
       "沖縄県     0.041052\n",
       "兵庫県     0.037555\n",
       "静岡県     0.036974\n",
       "福岡県     0.034794\n",
       "茨城県     0.032313\n",
       "群馬県     0.024603\n",
       "宮城県     0.024494\n",
       "岐阜県     0.021752\n",
       "岡山県     0.021097\n",
       "広島県     0.020920\n",
       "熊本県     0.016413\n",
       "長野県     0.014677\n",
       "栃木県     0.014139\n",
       "京都府     0.011775\n",
       "三重県     0.011014\n",
       "鹿児島県    0.010768\n",
       "福島県     0.010649\n",
       "岩手県     0.009945\n",
       "石川県     0.008977\n",
       "滋賀県     0.008964\n",
       "新潟県     0.008795\n",
       "秋田県     0.007190\n",
       "富山県     0.007066\n",
       "山形県     0.006252\n",
       "愛媛県     0.006170\n",
       "青森県     0.006068\n",
       "奈良県     0.005776\n",
       "宮崎県     0.005735\n",
       "山口県     0.005331\n",
       "香川県     0.004787\n",
       "山梨県     0.004387\n",
       "大分県     0.004255\n",
       "鳥取県     0.003898\n",
       "佐賀県     0.003030\n",
       "徳島県     0.002900\n",
       "長崎県     0.002397\n",
       "島根県     0.002232\n",
       "和歌山県    0.001647\n",
       "福井県     0.001539\n",
       "高知県     0.001206\n",
       "Name: pre_n, dtype: float64"
      ]
     },
     "execution_count": 55,
     "metadata": {},
     "output_type": "execute_result"
    }
   ],
   "source": [
    "train.pre_n.value_counts(normalize=True)"
   ]
  },
  {
   "cell_type": "markdown",
   "id": "c49b52fb-db7e-49c0-92fb-e864c6954375",
   "metadata": {},
   "source": [
    "# 削除処理の追加"
   ]
  },
  {
   "cell_type": "code",
   "execution_count": 56,
   "id": "238f1a74-c771-4f7a-a27e-8b3d5073d2ce",
   "metadata": {},
   "outputs": [
    {
     "data": {
      "image/png": "[encoded data removed]",
      "text/plain": [
       "<Figure size 720x288 with 1 Axes>"
      ]
     },
     "metadata": {
      "needs_background": "light"
     },
     "output_type": "display_data"
    }
   ],
   "source": [
    "train[train.e_distance <0.5e6].e_distance.plot.hist(bins=30, figsize=(10, 4))\n",
    "plt.title('走行距離')\n",
    "plt.vlines(train[train.e_distance <0.5e6].e_distance.median(), ymin=0, ymax=40000, color='red')\n",
    "plt.show()"
   ]
  },
  {
   "cell_type": "code",
   "execution_count": 57,
   "id": "cbf8642e-2954-4a44-9afd-d712e659ac6f",
   "metadata": {},
   "outputs": [
    {
     "data": {
      "text/plain": [
       "53115.0"
      ]
     },
     "execution_count": 57,
     "metadata": {},
     "output_type": "execute_result"
    }
   ],
   "source": [
    "train[train.e_distance <0.5e6].e_distance.median()"
   ]
  },
  {
   "cell_type": "code",
   "execution_count": 58,
   "id": "879a4a78-2dbb-48e5-98bf-c2f4d0e05963",
   "metadata": {},
   "outputs": [
    {
     "data": {
      "text/plain": [
       "0.25    25254.5\n",
       "0.75    86900.0\n",
       "Name: e_distance, dtype: float64"
      ]
     },
     "execution_count": 58,
     "metadata": {},
     "output_type": "execute_result"
    }
   ],
   "source": [
    "train[train.e_distance <0.5e6].e_distance.quantile([0.25, 0.75])"
   ]
  },
  {
   "cell_type": "markdown",
   "id": "8640a76e-5328-4fa4-a985-df3af46199e9",
   "metadata": {},
   "source": [
    "# 排気量の削除処理"
   ]
  },
  {
   "cell_type": "code",
   "execution_count": 59,
   "id": "bd17c3cb-c86c-43c6-868d-3f93c4df3dcd",
   "metadata": {},
   "outputs": [
    {
     "name": "stdout",
     "output_type": "stream",
     "text": [
      "(462757, 18)\n",
      "(462305, 18)\n"
     ]
    }
   ],
   "source": [
    "print(train.shape)\n",
    "train = train[(train.exhaust_nm_cc != '****') & (train.exhaust_nm_cc != 'FC') & (train.exhaust_nm_cc != 'EV')]\n",
    "print(train.shape)"
   ]
  },
  {
   "cell_type": "code",
   "execution_count": 60,
   "id": "2eef567e-6ba5-4c11-af71-dbefef63b885",
   "metadata": {},
   "outputs": [
    {
     "name": "stdout",
     "output_type": "stream",
     "text": [
      "(115691, 17)\n",
      "(115566, 17)\n"
     ]
    }
   ],
   "source": [
    "print(test.shape)\n",
    "test = test[(test.exhaust_nm_cc != '****') & (test.exhaust_nm_cc != 'FC') & (test.exhaust_nm_cc != 'EV')]\n",
    "print(test.shape)"
   ]
  },
  {
   "cell_type": "code",
   "execution_count": 61,
   "id": "7fc9de40-9706-4964-8e6f-219f8feb22f0",
   "metadata": {},
   "outputs": [
    {
     "name": "stdout",
     "output_type": "stream",
     "text": [
      "(462305, 18)\n",
      "(115566, 17)\n",
      "(462305, 18)\n",
      "(115566, 17)\n"
     ]
    }
   ],
   "source": [
    "print(train.shape)\n",
    "print(test.shape)\n",
    "train = train[train.exhaust_nm_cc.astype(int) >= 0]\n",
    "test = test[test.exhaust_nm_cc.astype(int) >= 0]\n",
    "\n",
    "print(train.shape)\n",
    "print(test.shape)"
   ]
  },
  {
   "cell_type": "code",
   "execution_count": 62,
   "id": "e7095fbc-7027-4590-b991-eb51f864da05",
   "metadata": {},
   "outputs": [
    {
     "data": {
      "image/png": "[encoded data removed]",
      "text/plain": [
       "<Figure size 720x288 with 1 Axes>"
      ]
     },
     "metadata": {
      "needs_background": "light"
     },
     "output_type": "display_data"
    }
   ],
   "source": [
    "train.exhaust_nm_cc.astype(int).plot.hist(figsize=(10, 4))\n",
    "plt.title('排気量')\n",
    "plt.vlines(train.exhaust_nm_cc.astype(int).median(),ymin=0,ymax=200000,color='red')\n",
    "plt.show()"
   ]
  },
  {
   "cell_type": "code",
   "execution_count": 63,
   "id": "adf7832f-6eec-48a2-ba7f-7c44e542aafc",
   "metadata": {},
   "outputs": [
    {
     "ename": "NameError",
     "evalue": "name 'exhaust_nm_cc' is not defined",
     "output_type": "error",
     "traceback": [
      "\u001b[0;31m---------------------------------------------------------------------------\u001b[0m",
      "\u001b[0;31mNameError\u001b[0m                                 Traceback (most recent call last)",
      "Input \u001b[0;32mIn [63]\u001b[0m, in \u001b[0;36m<cell line: 1>\u001b[0;34m()\u001b[0m\n\u001b[0;32m----> 1\u001b[0m train \u001b[38;5;241m=\u001b[39m train[\u001b[43mexhaust_nm_cc\u001b[49m\u001b[38;5;241m.\u001b[39mastype(\u001b[38;5;28mint\u001b[39m) \u001b[38;5;241m>\u001b[39m\u001b[38;5;241m=\u001b[39m \u001b[38;5;241m0\u001b[39m]\n",
      "\u001b[0;31mNameError\u001b[0m: name 'exhaust_nm_cc' is not defined"
     ]
    }
   ],
   "source": [
    "train = train[exhaust_nm_cc.astype(int) >= 0]"
   ]
  },
  {
   "cell_type": "code",
   "execution_count": 64,
   "id": "034fc089-23fb-47ed-af12-ee02b4228a0c",
   "metadata": {},
   "outputs": [
    {
     "data": {
      "text/plain": [
       "0.25     660.0\n",
       "0.50    1500.0\n",
       "0.75    2000.0\n",
       "Name: exhaust_nm_cc, dtype: float64"
      ]
     },
     "execution_count": 64,
     "metadata": {},
     "output_type": "execute_result"
    }
   ],
   "source": [
    "train.exhaust_nm_cc.astype(int).quantile([0.25, 0.5, 0.75])"
   ]
  },
  {
   "cell_type": "code",
   "execution_count": null,
   "id": "9b37d6c5-68e2-4399-bd2b-3569ce7b9776",
   "metadata": {},
   "outputs": [],
   "source": []
  },
  {
   "cell_type": "code",
   "execution_count": 65,
   "id": "06324b42-415a-438d-a438-c6fa22bc970a",
   "metadata": {},
   "outputs": [
    {
     "data": {
      "image/png": "[encoded data removed]",
      "text/plain": [
       "<Figure size 720x288 with 1 Axes>"
      ]
     },
     "metadata": {
      "needs_background": "light"
     },
     "output_type": "display_data"
    }
   ],
   "source": [
    "train.color_cd2.value_counts(normalize=True).plot.bar(figsize=(10, 4))\n",
    "plt.title('カラーコード')\n",
    "plt.show()"
   ]
  },
  {
   "cell_type": "code",
   "execution_count": 66,
   "id": "e631bac5-9dea-445c-a925-85e06df9f5d4",
   "metadata": {},
   "outputs": [
    {
     "data": {
      "text/plain": [
       "22.0"
      ]
     },
     "execution_count": 66,
     "metadata": {},
     "output_type": "execute_result"
    }
   ],
   "source": [
    "train.keisaiday.median()"
   ]
  },
  {
   "cell_type": "code",
   "execution_count": 67,
   "id": "6e51320c-70be-4613-be51-cbe995a82ca1",
   "metadata": {},
   "outputs": [
    {
     "data": {
      "image/png": "[encoded data removed]",
      "text/plain": [
       "<Figure size 432x288 with 1 Axes>"
      ]
     },
     "metadata": {
      "needs_background": "light"
     },
     "output_type": "display_data"
    }
   ],
   "source": [
    "train.sunroof.value_counts(normalize=True).plot.bar()\n",
    "plt.title('sunroof')\n",
    "plt.show()"
   ]
  },
  {
   "cell_type": "code",
   "execution_count": 68,
   "id": "3602a354-7094-49cd-aa4f-a07a186bc21e",
   "metadata": {},
   "outputs": [
    {
     "data": {
      "text/plain": [
       "0    0.932997\n",
       "1    0.067003\n",
       "Name: sunroof, dtype: Float64"
      ]
     },
     "execution_count": 68,
     "metadata": {},
     "output_type": "execute_result"
    }
   ],
   "source": [
    "train.sunroof.value_counts(normalize=True)"
   ]
  },
  {
   "cell_type": "code",
   "execution_count": 69,
   "id": "9a811456-6530-4af4-b5b5-8ebeb7770884",
   "metadata": {},
   "outputs": [
    {
     "data": {
      "image/png": "[encoded data removed]",
      "text/plain": [
       "<Figure size 432x288 with 1 Axes>"
      ]
     },
     "metadata": {
      "needs_background": "light"
     },
     "output_type": "display_data"
    }
   ],
   "source": [
    "train.leather_seats.value_counts(normalize=True).plot.bar()\n",
    "plt.title('leather_seats')\n",
    "plt.show()"
   ]
  },
  {
   "cell_type": "code",
   "execution_count": 70,
   "id": "d0e6022c-7f6d-4761-af76-34d37df25738",
   "metadata": {},
   "outputs": [
    {
     "data": {
      "text/plain": [
       "0    0.880265\n",
       "1    0.119735\n",
       "Name: leather_seats, dtype: Float64"
      ]
     },
     "execution_count": 70,
     "metadata": {},
     "output_type": "execute_result"
    }
   ],
   "source": [
    "train.leather_seats.value_counts(normalize=True)"
   ]
  },
  {
   "cell_type": "code",
   "execution_count": 71,
   "id": "d21632b0-0b22-41e1-b0d6-baeb29e55441",
   "metadata": {},
   "outputs": [
    {
     "data": {
      "text/plain": [
       "43.361529726046655"
      ]
     },
     "execution_count": 71,
     "metadata": {},
     "output_type": "execute_result"
    }
   ],
   "source": [
    "train.keisaiday.mean()"
   ]
  },
  {
   "cell_type": "code",
   "execution_count": 72,
   "id": "b3c115b3-8d36-41f0-84ae-bfff58707143",
   "metadata": {},
   "outputs": [
    {
     "data": {
      "text/html": [
       "<div>\n",
       "<style scoped>\n",
       "    .dataframe tbody tr th:only-of-type {\n",
       "        vertical-align: middle;\n",
       "    }\n",
       "\n",
       "    .dataframe tbody tr th {\n",
       "        vertical-align: top;\n",
       "    }\n",
       "\n",
       "    .dataframe thead th {\n",
       "        text-align: right;\n",
       "    }\n",
       "</style>\n",
       "<table border=\"1\" class=\"dataframe\">\n",
       "  <thead>\n",
       "    <tr style=\"text-align: right;\">\n",
       "      <th></th>\n",
       "      <th>n_car_cd</th>\n",
       "      <th>price</th>\n",
       "      <th>n_p_katashiki_id</th>\n",
       "      <th>n_p_grade_id</th>\n",
       "      <th>nenshiki</th>\n",
       "      <th>e_distance</th>\n",
       "      <th>zan_syaken</th>\n",
       "      <th>seibi</th>\n",
       "      <th>zan_syaken+α(seibi)</th>\n",
       "      <th>repair_flag</th>\n",
       "      <th>exhaust_nm_cc</th>\n",
       "      <th>client_dealer_flag</th>\n",
       "      <th>pre_n</th>\n",
       "      <th>color_cd2</th>\n",
       "      <th>sunroof</th>\n",
       "      <th>leather_seats</th>\n",
       "      <th>keisaiday</th>\n",
       "      <th>n_car_cd + n_p_katashiki_id + nenshiki</th>\n",
       "    </tr>\n",
       "  </thead>\n",
       "  <tbody>\n",
       "    <tr>\n",
       "      <th>306053</th>\n",
       "      <td>10201013</td>\n",
       "      <td>898000</td>\n",
       "      <td>59</td>\n",
       "      <td>136</td>\n",
       "      <td>19</td>\n",
       "      <td>122000</td>\n",
       "      <td>631.0</td>\n",
       "      <td>2</td>\n",
       "      <td>0.0</td>\n",
       "      <td>2</td>\n",
       "      <td>2000</td>\n",
       "      <td>0</td>\n",
       "      <td>宮城県</td>\n",
       "      <td>10</td>\n",
       "      <td>0</td>\n",
       "      <td>0</td>\n",
       "      <td>168</td>\n",
       "      <td>10201013+59+136</td>\n",
       "    </tr>\n",
       "    <tr>\n",
       "      <th>242430</th>\n",
       "      <td>10102047</td>\n",
       "      <td>1650000</td>\n",
       "      <td>43</td>\n",
       "      <td>100</td>\n",
       "      <td>5</td>\n",
       "      <td>90608</td>\n",
       "      <td>0.0</td>\n",
       "      <td>1</td>\n",
       "      <td>0.0</td>\n",
       "      <td>1</td>\n",
       "      <td>1800</td>\n",
       "      <td>0</td>\n",
       "      <td>大阪府</td>\n",
       "      <td>10</td>\n",
       "      <td>0</td>\n",
       "      <td>0</td>\n",
       "      <td>14</td>\n",
       "      <td>10102047+43+100</td>\n",
       "    </tr>\n",
       "    <tr>\n",
       "      <th>270948</th>\n",
       "      <td>30151502</td>\n",
       "      <td>5480000</td>\n",
       "      <td>26</td>\n",
       "      <td>39</td>\n",
       "      <td>10</td>\n",
       "      <td>17000</td>\n",
       "      <td>625.0</td>\n",
       "      <td>2</td>\n",
       "      <td>0.0</td>\n",
       "      <td>1</td>\n",
       "      <td>4700</td>\n",
       "      <td>1</td>\n",
       "      <td>福岡県</td>\n",
       "      <td>40</td>\n",
       "      <td>1</td>\n",
       "      <td>0</td>\n",
       "      <td>53</td>\n",
       "      <td>30151502+26+39</td>\n",
       "    </tr>\n",
       "    <tr>\n",
       "      <th>192502</th>\n",
       "      <td>10101062</td>\n",
       "      <td>398000</td>\n",
       "      <td>23</td>\n",
       "      <td>50</td>\n",
       "      <td>7</td>\n",
       "      <td>22800</td>\n",
       "      <td>0.0</td>\n",
       "      <td>1</td>\n",
       "      <td>0.0</td>\n",
       "      <td>1</td>\n",
       "      <td>1000</td>\n",
       "      <td>0</td>\n",
       "      <td>千葉県</td>\n",
       "      <td>55</td>\n",
       "      <td>0</td>\n",
       "      <td>0</td>\n",
       "      <td>60</td>\n",
       "      <td>10101062+23+50</td>\n",
       "    </tr>\n",
       "    <tr>\n",
       "      <th>349838</th>\n",
       "      <td>10101004</td>\n",
       "      <td>398000</td>\n",
       "      <td>193</td>\n",
       "      <td>506</td>\n",
       "      <td>16</td>\n",
       "      <td>46450</td>\n",
       "      <td>0.0</td>\n",
       "      <td>1</td>\n",
       "      <td>1.0</td>\n",
       "      <td>1</td>\n",
       "      <td>3000</td>\n",
       "      <td>0</td>\n",
       "      <td>石川県</td>\n",
       "      <td>40</td>\n",
       "      <td>0</td>\n",
       "      <td>0</td>\n",
       "      <td>1</td>\n",
       "      <td>10101004+193+506</td>\n",
       "    </tr>\n",
       "    <tr>\n",
       "      <th>...</th>\n",
       "      <td>...</td>\n",
       "      <td>...</td>\n",
       "      <td>...</td>\n",
       "      <td>...</td>\n",
       "      <td>...</td>\n",
       "      <td>...</td>\n",
       "      <td>...</td>\n",
       "      <td>...</td>\n",
       "      <td>...</td>\n",
       "      <td>...</td>\n",
       "      <td>...</td>\n",
       "      <td>...</td>\n",
       "      <td>...</td>\n",
       "      <td>...</td>\n",
       "      <td>...</td>\n",
       "      <td>...</td>\n",
       "      <td>...</td>\n",
       "      <td>...</td>\n",
       "    </tr>\n",
       "    <tr>\n",
       "      <th>110273</th>\n",
       "      <td>10452006</td>\n",
       "      <td>618000</td>\n",
       "      <td>26</td>\n",
       "      <td>143</td>\n",
       "      <td>13</td>\n",
       "      <td>95000</td>\n",
       "      <td>522.0</td>\n",
       "      <td>0</td>\n",
       "      <td>0.0</td>\n",
       "      <td>2</td>\n",
       "      <td>2000</td>\n",
       "      <td>0</td>\n",
       "      <td>千葉県</td>\n",
       "      <td>30</td>\n",
       "      <td>0</td>\n",
       "      <td>0</td>\n",
       "      <td>14</td>\n",
       "      <td>10452006+26+143</td>\n",
       "    </tr>\n",
       "    <tr>\n",
       "      <th>5477</th>\n",
       "      <td>10101040</td>\n",
       "      <td>900000</td>\n",
       "      <td>23</td>\n",
       "      <td>27</td>\n",
       "      <td>6</td>\n",
       "      <td>49480</td>\n",
       "      <td>0.0</td>\n",
       "      <td>1</td>\n",
       "      <td>1.0</td>\n",
       "      <td>1</td>\n",
       "      <td>1800</td>\n",
       "      <td>1</td>\n",
       "      <td>愛知県</td>\n",
       "      <td>20</td>\n",
       "      <td>0</td>\n",
       "      <td>0</td>\n",
       "      <td>8</td>\n",
       "      <td>10101040+23+27</td>\n",
       "    </tr>\n",
       "    <tr>\n",
       "      <th>11272</th>\n",
       "      <td>10152029</td>\n",
       "      <td>450000</td>\n",
       "      <td>33</td>\n",
       "      <td>243</td>\n",
       "      <td>9</td>\n",
       "      <td>50331</td>\n",
       "      <td>0.0</td>\n",
       "      <td>1</td>\n",
       "      <td>1.0</td>\n",
       "      <td>1</td>\n",
       "      <td>1500</td>\n",
       "      <td>0</td>\n",
       "      <td>三重県</td>\n",
       "      <td>30</td>\n",
       "      <td>1</td>\n",
       "      <td>0</td>\n",
       "      <td>40</td>\n",
       "      <td>10152029+33+243</td>\n",
       "    </tr>\n",
       "    <tr>\n",
       "      <th>132340</th>\n",
       "      <td>10101062</td>\n",
       "      <td>170000</td>\n",
       "      <td>13</td>\n",
       "      <td>15</td>\n",
       "      <td>14</td>\n",
       "      <td>10433</td>\n",
       "      <td>547.0</td>\n",
       "      <td>1</td>\n",
       "      <td>0.0</td>\n",
       "      <td>1</td>\n",
       "      <td>1000</td>\n",
       "      <td>0</td>\n",
       "      <td>大阪府</td>\n",
       "      <td>40</td>\n",
       "      <td>0</td>\n",
       "      <td>0</td>\n",
       "      <td>25</td>\n",
       "      <td>10101062+13+15</td>\n",
       "    </tr>\n",
       "    <tr>\n",
       "      <th>28368</th>\n",
       "      <td>10507114</td>\n",
       "      <td>600000</td>\n",
       "      <td>6</td>\n",
       "      <td>12</td>\n",
       "      <td>7</td>\n",
       "      <td>78100</td>\n",
       "      <td>0.0</td>\n",
       "      <td>1</td>\n",
       "      <td>1.0</td>\n",
       "      <td>2</td>\n",
       "      <td>660</td>\n",
       "      <td>0</td>\n",
       "      <td>北海道</td>\n",
       "      <td>40</td>\n",
       "      <td>0</td>\n",
       "      <td>0</td>\n",
       "      <td>85</td>\n",
       "      <td>10507114+6+12</td>\n",
       "    </tr>\n",
       "  </tbody>\n",
       "</table>\n",
       "<p>462305 rows × 18 columns</p>\n",
       "</div>"
      ],
      "text/plain": [
       "        n_car_cd    price  n_p_katashiki_id  n_p_grade_id  nenshiki  \\\n",
       "306053  10201013   898000                59           136        19   \n",
       "242430  10102047  1650000                43           100         5   \n",
       "270948  30151502  5480000                26            39        10   \n",
       "192502  10101062   398000                23            50         7   \n",
       "349838  10101004   398000               193           506        16   \n",
       "...          ...      ...               ...           ...       ...   \n",
       "110273  10452006   618000                26           143        13   \n",
       "5477    10101040   900000                23            27         6   \n",
       "11272   10152029   450000                33           243         9   \n",
       "132340  10101062   170000                13            15        14   \n",
       "28368   10507114   600000                 6            12         7   \n",
       "\n",
       "        e_distance  zan_syaken  seibi  zan_syaken+α(seibi)  repair_flag  \\\n",
       "306053      122000       631.0      2                  0.0            2   \n",
       "242430       90608         0.0      1                  0.0            1   \n",
       "270948       17000       625.0      2                  0.0            1   \n",
       "192502       22800         0.0      1                  0.0            1   \n",
       "349838       46450         0.0      1                  1.0            1   \n",
       "...            ...         ...    ...                  ...          ...   \n",
       "110273       95000       522.0      0                  0.0            2   \n",
       "5477         49480         0.0      1                  1.0            1   \n",
       "11272        50331         0.0      1                  1.0            1   \n",
       "132340       10433       547.0      1                  0.0            1   \n",
       "28368        78100         0.0      1                  1.0            2   \n",
       "\n",
       "       exhaust_nm_cc  client_dealer_flag pre_n  color_cd2  sunroof  \\\n",
       "306053          2000                   0   宮城県         10        0   \n",
       "242430          1800                   0   大阪府         10        0   \n",
       "270948          4700                   1   福岡県         40        1   \n",
       "192502          1000                   0   千葉県         55        0   \n",
       "349838          3000                   0   石川県         40        0   \n",
       "...              ...                 ...   ...        ...      ...   \n",
       "110273          2000                   0   千葉県         30        0   \n",
       "5477            1800                   1   愛知県         20        0   \n",
       "11272           1500                   0   三重県         30        1   \n",
       "132340          1000                   0   大阪府         40        0   \n",
       "28368            660                   0   北海道         40        0   \n",
       "\n",
       "        leather_seats  keisaiday n_car_cd + n_p_katashiki_id + nenshiki  \n",
       "306053              0        168                        10201013+59+136  \n",
       "242430              0         14                        10102047+43+100  \n",
       "270948              0         53                         30151502+26+39  \n",
       "192502              0         60                         10101062+23+50  \n",
       "349838              0          1                       10101004+193+506  \n",
       "...               ...        ...                                    ...  \n",
       "110273              0         14                        10452006+26+143  \n",
       "5477                0          8                         10101040+23+27  \n",
       "11272               0         40                        10152029+33+243  \n",
       "132340              0         25                         10101062+13+15  \n",
       "28368               0         85                          10507114+6+12  \n",
       "\n",
       "[462305 rows x 18 columns]"
      ]
     },
     "execution_count": 72,
     "metadata": {},
     "output_type": "execute_result"
    }
   ],
   "source": [
    "train"
   ]
  },
  {
   "cell_type": "code",
   "execution_count": 73,
   "id": "0263b978-034e-42ed-9226-d5097179c4b1",
   "metadata": {},
   "outputs": [],
   "source": [
    "# e_distance < 0.2e6\n",
    "# exhaust_nm_cc < 0.6e4\n",
    "\n",
    "#車種が２つ以上データに存在しているもの"
   ]
  },
  {
   "cell_type": "code",
   "execution_count": 74,
   "id": "c5c2924a-3f0e-4a2d-b8f1-69eceef82733",
   "metadata": {},
   "outputs": [
    {
     "name": "stdout",
     "output_type": "stream",
     "text": [
      "(462305, 18)\n",
      "(458347, 18)\n"
     ]
    }
   ],
   "source": [
    "print(train.shape)\n",
    "train = train[(train.e_distance < 0.2e6) & (train.exhaust_nm_cc.astype(int) < 0.6e4) & (train.groupby('n_car_cd').n_car_cd.transform('count')>=2)]\n",
    "print(train.shape)"
   ]
  },
  {
   "cell_type": "code",
   "execution_count": 75,
   "id": "9ab2ae54-5193-44c6-b691-ee279241061f",
   "metadata": {},
   "outputs": [
    {
     "name": "stdout",
     "output_type": "stream",
     "text": [
      "(115566, 17)\n",
      "(114482, 17)\n"
     ]
    }
   ],
   "source": [
    "print(test.shape)\n",
    "test = test[(test.e_distance < 0.2e6) & (test.exhaust_nm_cc.astype(int) < 0.6e4) & (test.groupby('n_car_cd').n_car_cd.transform('count')>=2)]\n",
    "print(test.shape)"
   ]
  },
  {
   "cell_type": "code",
   "execution_count": 76,
   "id": "5acbf705-898f-45ce-bb3a-bbf8240d883b",
   "metadata": {},
   "outputs": [],
   "source": [
    "pickle.dump(train, open('data/processed_train3.pkl', 'wb'))\n",
    "pickle.dump(test, open('data/processed_test3.pkl', 'wb'))"
   ]
  },
  {
   "cell_type": "code",
   "execution_count": 346,
   "id": "a1781b9b-88e3-41f8-ba95-839b78e5aaa4",
   "metadata": {},
   "outputs": [
    {
     "data": {
      "text/html": [
       "<div>\n",
       "<style scoped>\n",
       "    .dataframe tbody tr th:only-of-type {\n",
       "        vertical-align: middle;\n",
       "    }\n",
       "\n",
       "    .dataframe tbody tr th {\n",
       "        vertical-align: top;\n",
       "    }\n",
       "\n",
       "    .dataframe thead th {\n",
       "        text-align: right;\n",
       "    }\n",
       "</style>\n",
       "<table border=\"1\" class=\"dataframe\">\n",
       "  <thead>\n",
       "    <tr style=\"text-align: right;\">\n",
       "      <th></th>\n",
       "      <th>n_car_cd</th>\n",
       "      <th>price</th>\n",
       "      <th>n_p_katashiki_id</th>\n",
       "      <th>n_p_grade_id</th>\n",
       "      <th>nenshiki</th>\n",
       "      <th>e_distance</th>\n",
       "      <th>zan_syaken</th>\n",
       "      <th>seibi</th>\n",
       "      <th>zan_syaken+α(seibi)</th>\n",
       "      <th>repair_flag</th>\n",
       "      <th>exhaust_nm_cc</th>\n",
       "      <th>client_dealer_flag</th>\n",
       "      <th>pre_n</th>\n",
       "      <th>color_cd2</th>\n",
       "      <th>sunroof</th>\n",
       "      <th>leather_seats</th>\n",
       "      <th>keisaiday</th>\n",
       "      <th>n_car_cd + n_p_katashiki_id + nenshiki</th>\n",
       "    </tr>\n",
       "  </thead>\n",
       "  <tbody>\n",
       "    <tr>\n",
       "      <th>256414</th>\n",
       "      <td>10102062</td>\n",
       "      <td>3280000</td>\n",
       "      <td>16</td>\n",
       "      <td>63</td>\n",
       "      <td>3</td>\n",
       "      <td>25000</td>\n",
       "      <td>101.0</td>\n",
       "      <td>1</td>\n",
       "      <td>0.0</td>\n",
       "      <td>1</td>\n",
       "      <td>2500</td>\n",
       "      <td>1</td>\n",
       "      <td>福岡県</td>\n",
       "      <td>30</td>\n",
       "      <td>0</td>\n",
       "      <td>0</td>\n",
       "      <td>70</td>\n",
       "      <td>10102062+16+63</td>\n",
       "    </tr>\n",
       "    <tr>\n",
       "      <th>121638</th>\n",
       "      <td>10501018</td>\n",
       "      <td>349000</td>\n",
       "      <td>13</td>\n",
       "      <td>30</td>\n",
       "      <td>10</td>\n",
       "      <td>67000</td>\n",
       "      <td>612.0</td>\n",
       "      <td>0</td>\n",
       "      <td>0.0</td>\n",
       "      <td>1</td>\n",
       "      <td>660</td>\n",
       "      <td>0</td>\n",
       "      <td>群馬県</td>\n",
       "      <td>30</td>\n",
       "      <td>0</td>\n",
       "      <td>0</td>\n",
       "      <td>53</td>\n",
       "      <td>10501018+13+30</td>\n",
       "    </tr>\n",
       "    <tr>\n",
       "      <th>126902</th>\n",
       "      <td>20351502</td>\n",
       "      <td>999000</td>\n",
       "      <td>130</td>\n",
       "      <td>188</td>\n",
       "      <td>4</td>\n",
       "      <td>33000</td>\n",
       "      <td>193.0</td>\n",
       "      <td>0</td>\n",
       "      <td>0.0</td>\n",
       "      <td>1</td>\n",
       "      <td>1200</td>\n",
       "      <td>0</td>\n",
       "      <td>埼玉県</td>\n",
       "      <td>10</td>\n",
       "      <td>0</td>\n",
       "      <td>0</td>\n",
       "      <td>4</td>\n",
       "      <td>20351502+130+188</td>\n",
       "    </tr>\n",
       "    <tr>\n",
       "      <th>312777</th>\n",
       "      <td>10452019</td>\n",
       "      <td>1988000</td>\n",
       "      <td>13</td>\n",
       "      <td>29</td>\n",
       "      <td>3</td>\n",
       "      <td>72400</td>\n",
       "      <td>0.0</td>\n",
       "      <td>1</td>\n",
       "      <td>0.0</td>\n",
       "      <td>1</td>\n",
       "      <td>1600</td>\n",
       "      <td>0</td>\n",
       "      <td>岡山県</td>\n",
       "      <td>20</td>\n",
       "      <td>0</td>\n",
       "      <td>1</td>\n",
       "      <td>24</td>\n",
       "      <td>10452019+13+29</td>\n",
       "    </tr>\n",
       "    <tr>\n",
       "      <th>348698</th>\n",
       "      <td>10101040</td>\n",
       "      <td>590000</td>\n",
       "      <td>23</td>\n",
       "      <td>37</td>\n",
       "      <td>11</td>\n",
       "      <td>51100</td>\n",
       "      <td>128.0</td>\n",
       "      <td>1</td>\n",
       "      <td>0.0</td>\n",
       "      <td>1</td>\n",
       "      <td>1800</td>\n",
       "      <td>0</td>\n",
       "      <td>沖縄県</td>\n",
       "      <td>20</td>\n",
       "      <td>0</td>\n",
       "      <td>0</td>\n",
       "      <td>55</td>\n",
       "      <td>10101040+23+37</td>\n",
       "    </tr>\n",
       "    <tr>\n",
       "      <th>...</th>\n",
       "      <td>...</td>\n",
       "      <td>...</td>\n",
       "      <td>...</td>\n",
       "      <td>...</td>\n",
       "      <td>...</td>\n",
       "      <td>...</td>\n",
       "      <td>...</td>\n",
       "      <td>...</td>\n",
       "      <td>...</td>\n",
       "      <td>...</td>\n",
       "      <td>...</td>\n",
       "      <td>...</td>\n",
       "      <td>...</td>\n",
       "      <td>...</td>\n",
       "      <td>...</td>\n",
       "      <td>...</td>\n",
       "      <td>...</td>\n",
       "      <td>...</td>\n",
       "    </tr>\n",
       "    <tr>\n",
       "      <th>28260</th>\n",
       "      <td>10201029</td>\n",
       "      <td>398000</td>\n",
       "      <td>26</td>\n",
       "      <td>74</td>\n",
       "      <td>11</td>\n",
       "      <td>25514</td>\n",
       "      <td>712.0</td>\n",
       "      <td>1</td>\n",
       "      <td>0.0</td>\n",
       "      <td>1</td>\n",
       "      <td>1300</td>\n",
       "      <td>0</td>\n",
       "      <td>茨城県</td>\n",
       "      <td>50</td>\n",
       "      <td>0</td>\n",
       "      <td>0</td>\n",
       "      <td>18</td>\n",
       "      <td>10201029+26+74</td>\n",
       "    </tr>\n",
       "    <tr>\n",
       "      <th>17092</th>\n",
       "      <td>20351505</td>\n",
       "      <td>1199000</td>\n",
       "      <td>73</td>\n",
       "      <td>119</td>\n",
       "      <td>3</td>\n",
       "      <td>19000</td>\n",
       "      <td>0.0</td>\n",
       "      <td>1</td>\n",
       "      <td>1.0</td>\n",
       "      <td>1</td>\n",
       "      <td>1000</td>\n",
       "      <td>1</td>\n",
       "      <td>大阪府</td>\n",
       "      <td>10</td>\n",
       "      <td>0</td>\n",
       "      <td>0</td>\n",
       "      <td>42</td>\n",
       "      <td>20351505+73+119</td>\n",
       "    </tr>\n",
       "    <tr>\n",
       "      <th>41775</th>\n",
       "      <td>10457111</td>\n",
       "      <td>355985</td>\n",
       "      <td>8</td>\n",
       "      <td>20</td>\n",
       "      <td>11</td>\n",
       "      <td>91000</td>\n",
       "      <td>526.0</td>\n",
       "      <td>0</td>\n",
       "      <td>0.0</td>\n",
       "      <td>1</td>\n",
       "      <td>660</td>\n",
       "      <td>0</td>\n",
       "      <td>埼玉県</td>\n",
       "      <td>20</td>\n",
       "      <td>0</td>\n",
       "      <td>0</td>\n",
       "      <td>71</td>\n",
       "      <td>10457111+8+20</td>\n",
       "    </tr>\n",
       "    <tr>\n",
       "      <th>98289</th>\n",
       "      <td>20151502</td>\n",
       "      <td>4631190</td>\n",
       "      <td>173</td>\n",
       "      <td>436</td>\n",
       "      <td>1</td>\n",
       "      <td>10000</td>\n",
       "      <td>0.0</td>\n",
       "      <td>1</td>\n",
       "      <td>1.0</td>\n",
       "      <td>1</td>\n",
       "      <td>2000</td>\n",
       "      <td>1</td>\n",
       "      <td>兵庫県</td>\n",
       "      <td>30</td>\n",
       "      <td>1</td>\n",
       "      <td>1</td>\n",
       "      <td>84</td>\n",
       "      <td>20151502+173+436</td>\n",
       "    </tr>\n",
       "    <tr>\n",
       "      <th>76183</th>\n",
       "      <td>10501018</td>\n",
       "      <td>237090</td>\n",
       "      <td>13</td>\n",
       "      <td>22</td>\n",
       "      <td>6</td>\n",
       "      <td>29368</td>\n",
       "      <td>0.0</td>\n",
       "      <td>1</td>\n",
       "      <td>1.0</td>\n",
       "      <td>1</td>\n",
       "      <td>660</td>\n",
       "      <td>0</td>\n",
       "      <td>千葉県</td>\n",
       "      <td>40</td>\n",
       "      <td>0</td>\n",
       "      <td>0</td>\n",
       "      <td>55</td>\n",
       "      <td>10501018+13+22</td>\n",
       "    </tr>\n",
       "  </tbody>\n",
       "</table>\n",
       "<p>526130 rows × 18 columns</p>\n",
       "</div>"
      ],
      "text/plain": [
       "        n_car_cd    price  n_p_katashiki_id  n_p_grade_id  nenshiki  \\\n",
       "256414  10102062  3280000                16            63         3   \n",
       "121638  10501018   349000                13            30        10   \n",
       "126902  20351502   999000               130           188         4   \n",
       "312777  10452019  1988000                13            29         3   \n",
       "348698  10101040   590000                23            37        11   \n",
       "...          ...      ...               ...           ...       ...   \n",
       "28260   10201029   398000                26            74        11   \n",
       "17092   20351505  1199000                73           119         3   \n",
       "41775   10457111   355985                 8            20        11   \n",
       "98289   20151502  4631190               173           436         1   \n",
       "76183   10501018   237090                13            22         6   \n",
       "\n",
       "        e_distance  zan_syaken  seibi  zan_syaken+α(seibi)  repair_flag  \\\n",
       "256414       25000       101.0      1                  0.0            1   \n",
       "121638       67000       612.0      0                  0.0            1   \n",
       "126902       33000       193.0      0                  0.0            1   \n",
       "312777       72400         0.0      1                  0.0            1   \n",
       "348698       51100       128.0      1                  0.0            1   \n",
       "...            ...         ...    ...                  ...          ...   \n",
       "28260        25514       712.0      1                  0.0            1   \n",
       "17092        19000         0.0      1                  1.0            1   \n",
       "41775        91000       526.0      0                  0.0            1   \n",
       "98289        10000         0.0      1                  1.0            1   \n",
       "76183        29368         0.0      1                  1.0            1   \n",
       "\n",
       "       exhaust_nm_cc  client_dealer_flag pre_n  color_cd2  sunroof  \\\n",
       "256414          2500                   1   福岡県         30        0   \n",
       "121638           660                   0   群馬県         30        0   \n",
       "126902          1200                   0   埼玉県         10        0   \n",
       "312777          1600                   0   岡山県         20        0   \n",
       "348698          1800                   0   沖縄県         20        0   \n",
       "...              ...                 ...   ...        ...      ...   \n",
       "28260           1300                   0   茨城県         50        0   \n",
       "17092           1000                   1   大阪府         10        0   \n",
       "41775            660                   0   埼玉県         20        0   \n",
       "98289           2000                   1   兵庫県         30        1   \n",
       "76183            660                   0   千葉県         40        0   \n",
       "\n",
       "        leather_seats  keisaiday n_car_cd + n_p_katashiki_id + nenshiki  \n",
       "256414              0         70                         10102062+16+63  \n",
       "121638              0         53                         10501018+13+30  \n",
       "126902              0          4                       20351502+130+188  \n",
       "312777              1         24                         10452019+13+29  \n",
       "348698              0         55                         10101040+23+37  \n",
       "...               ...        ...                                    ...  \n",
       "28260               0         18                         10201029+26+74  \n",
       "17092               0         42                        20351505+73+119  \n",
       "41775               0         71                          10457111+8+20  \n",
       "98289               1         84                       20151502+173+436  \n",
       "76183               0         55                         10501018+13+22  \n",
       "\n",
       "[526130 rows x 18 columns]"
      ]
     },
     "execution_count": 346,
     "metadata": {},
     "output_type": "execute_result"
    }
   ],
   "source": [
    "train"
   ]
  },
  {
   "cell_type": "code",
   "execution_count": 347,
   "id": "fd8405d9-4086-4277-892b-7d16194bebb5",
   "metadata": {},
   "outputs": [
    {
     "data": {
      "text/plain": [
       "(526130, 18)"
      ]
     },
     "execution_count": 347,
     "metadata": {},
     "output_type": "execute_result"
    }
   ],
   "source": [
    "train.shape"
   ]
  },
  {
   "cell_type": "code",
   "execution_count": 348,
   "id": "d3054b4b-ca8a-4b26-b7fa-18a9ae34fb3a",
   "metadata": {},
   "outputs": [
    {
     "data": {
      "text/plain": [
       "(132502, 17)"
      ]
     },
     "execution_count": 348,
     "metadata": {},
     "output_type": "execute_result"
    }
   ],
   "source": [
    "test.shape"
   ]
  },
  {
   "cell_type": "code",
   "execution_count": null,
   "id": "e5ced360-91e5-4275-86af-f5efc32e9405",
   "metadata": {},
   "outputs": [],
   "source": []
  }
 ],
 "metadata": {
  "kernelspec": {
   "display_name": "Python 3 (ipykernel)",
   "language": "python",
   "name": "python3"
  },
  "language_info": {
   "codemirror_mode": {
    "name": "ipython",
    "version": 3
   },
   "file_extension": ".py",
   "mimetype": "text/x-python",
   "name": "python",
   "nbconvert_exporter": "python",
   "pygments_lexer": "ipython3",
   "version": "3.7.13"
  }
 },
 "nbformat": 4,
 "nbformat_minor": 5
}
