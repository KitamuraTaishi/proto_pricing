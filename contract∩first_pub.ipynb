{
 "cells": [
  {
   "cell_type": "code",
   "execution_count": 2,
   "id": "7e0d111b-ec84-4ff9-b892-357d12a5484c",
   "metadata": {},
   "outputs": [],
   "source": [
    "%load_ext autoreload"
   ]
  },
  {
   "cell_type": "code",
   "execution_count": 3,
   "id": "70edad65-4440-4331-a232-00c6a03e7aab",
   "metadata": {},
   "outputs": [],
   "source": [
    "%reload_ext autoreload"
   ]
  },
  {
   "cell_type": "code",
   "execution_count": 4,
   "id": "2a07a788-c20f-4404-ad45-45c8c2903740",
   "metadata": {},
   "outputs": [],
   "source": [
    "# pip install seaborn"
   ]
  },
  {
   "cell_type": "code",
   "execution_count": 5,
   "id": "645c587b-ebc7-49b9-97f6-57461df41499",
   "metadata": {},
   "outputs": [],
   "source": [
    "import pricing_ai\n",
    "import matplotlib.pyplot as plt\n",
    "import seaborn as sns\n",
    "import warnings\n",
    "\n",
    "sns.set()\n",
    "warnings.simplefilter('ignore')"
   ]
  },
  {
   "cell_type": "markdown",
   "id": "3f6986f7-2653-4396-bb33-d355e17e514a",
   "metadata": {},
   "source": [
    "### データ"
   ]
  },
  {
   "cell_type": "code",
   "execution_count": 6,
   "id": "d219d509-4907-4d15-874f-c7ac187de838",
   "metadata": {},
   "outputs": [],
   "source": [
    "first_pub = pricing_ai.get_preprocessing_data(sql_path='sql/first_pub.sql',col='min_date')"
   ]
  },
  {
   "cell_type": "code",
   "execution_count": 7,
   "id": "2aaef951-59b0-4637-8fa0-027e42e5b263",
   "metadata": {},
   "outputs": [],
   "source": [
    "contract = pricing_ai.get_preprocessing_data(sql_path='sql/contract.sql',col='delete_date')"
   ]
  },
  {
   "cell_type": "markdown",
   "id": "ab5d17ae-c039-4397-9941-3021a3aa5bfc",
   "metadata": {},
   "source": [
    "### 使用stockid"
   ]
  },
  {
   "cell_type": "code",
   "execution_count": 8,
   "id": "1155127c-ae5d-481b-b5b8-59899ee5675f",
   "metadata": {},
   "outputs": [],
   "source": [
    "use_stockids = set(contract.stock_id.unique()) & set(first_pub.stock_id.unique())"
   ]
  },
  {
   "cell_type": "code",
   "execution_count": 9,
   "id": "7e9ac348-2a4c-4715-8896-84c1624d6a07",
   "metadata": {},
   "outputs": [],
   "source": [
    "use_stockids_dict = {key:1 for key in use_stockids}"
   ]
  },
  {
   "cell_type": "markdown",
   "id": "aa47fd4b-2287-4bcb-adb3-69c63a08277e",
   "metadata": {},
   "source": [
    "### 使用stockidだけ"
   ]
  },
  {
   "cell_type": "code",
   "execution_count": 6,
   "id": "28ac47d2-6da2-4a32-8361-eb6f11d1a454",
   "metadata": {},
   "outputs": [],
   "source": [
    "contract['use'] = contract.stock_id.map(use_stockids_dict)"
   ]
  },
  {
   "cell_type": "code",
   "execution_count": 7,
   "id": "3f2c0440-4a03-47e0-bab5-6f63708eac96",
   "metadata": {},
   "outputs": [
    {
     "name": "stdout",
     "output_type": "stream",
     "text": [
      "(969454, 7)\n",
      "(903619, 7)\n"
     ]
    }
   ],
   "source": [
    "pricing_ai.print_shape(contract)\n",
    "contract = contract[contract.use == 1]\n",
    "pricing_ai.print_shape(contract)"
   ]
  },
  {
   "cell_type": "code",
   "execution_count": 12,
   "id": "af47e09b-ed02-444f-adb0-b4ab08d2e5c0",
   "metadata": {},
   "outputs": [
    {
     "data": {
      "text/plain": [
       "8.0"
      ]
     },
     "execution_count": 12,
     "metadata": {},
     "output_type": "execute_result"
    }
   ],
   "source": [
    "contract.day.quantile(0.25)"
   ]
  },
  {
   "cell_type": "markdown",
   "id": "e7949140-8561-4e2e-9177-d6d2713155c4",
   "metadata": {},
   "source": [
    "### 　掲載落ちの日付だけ残す"
   ]
  },
  {
   "cell_type": "code",
   "execution_count": 8,
   "id": "1b5daca3-f82d-4a23-8dcc-0d18ae605e58",
   "metadata": {},
   "outputs": [
    {
     "name": "stdout",
     "output_type": "stream",
     "text": [
      "(903619, 7)\n",
      "(903619, 2)\n"
     ]
    }
   ],
   "source": [
    "pricing_ai.print_shape(contract)\n",
    "contract = contract[['stock_id', 'delete_date']]\n",
    "pricing_ai.print_shape(contract)"
   ]
  },
  {
   "cell_type": "markdown",
   "id": "9dcd1be4-7fd6-4575-953c-921d445096e0",
   "metadata": {},
   "source": [
    "### 掲載初日から掲載落ちするまでの日数を出す準備"
   ]
  },
  {
   "cell_type": "code",
   "execution_count": 9,
   "id": "1c2fdbf8-515d-4793-a522-5d85018dafb0",
   "metadata": {},
   "outputs": [],
   "source": [
    "first_pub_dict = first_pub.set_index('stock_id')['min_date'].to_dict()"
   ]
  },
  {
   "cell_type": "code",
   "execution_count": 10,
   "id": "d5dca6c3-b8fb-4adf-9c64-3a9d91091458",
   "metadata": {},
   "outputs": [],
   "source": [
    "contract['first_pub'] = contract.stock_id.map(first_pub_dict)"
   ]
  },
  {
   "cell_type": "markdown",
   "id": "9cf6e8d2-548c-4df4-8a03-afa6c4dac20f",
   "metadata": {},
   "source": [
    "### 掲載初日から掲載落ちするまでの日数"
   ]
  },
  {
   "cell_type": "code",
   "execution_count": 11,
   "id": "15f47fc5-233e-4c70-a555-b54ce0272fa7",
   "metadata": {},
   "outputs": [],
   "source": [
    "contract['days_diff'] = contract['delete_date']-contract['first_pub']"
   ]
  },
  {
   "cell_type": "code",
   "execution_count": 12,
   "id": "bd2cba3c-0d2b-4c35-81b6-9e103965e6e1",
   "metadata": {},
   "outputs": [],
   "source": [
    "contract['days_diff'] = contract.days_diff.astype('timedelta64[D]').astype(int)"
   ]
  },
  {
   "cell_type": "code",
   "execution_count": 13,
   "id": "25d97372-5b94-4ca0-9c76-23225cc636d1",
   "metadata": {},
   "outputs": [
    {
     "data": {
      "image/png": "[encoded data removed]",
      "text/plain": [
       "<Figure size 432x288 with 1 Axes>"
      ]
     },
     "metadata": {
      "needs_background": "light"
     },
     "output_type": "display_data"
    }
   ],
   "source": [
    "contract.days_diff.plot.hist(bins=30)\n",
    "plt.show()"
   ]
  },
  {
   "cell_type": "code",
   "execution_count": 17,
   "id": "a91fc152-820b-4dbc-9942-79b81075834d",
   "metadata": {},
   "outputs": [
    {
     "data": {
      "text/plain": [
       "53.0"
      ]
     },
     "execution_count": 17,
     "metadata": {},
     "output_type": "execute_result"
    }
   ],
   "source": [
    "contract.days_diff.median()"
   ]
  },
  {
   "cell_type": "code",
   "execution_count": 18,
   "id": "8914b654-f09f-40fe-bec2-8b73992706c9",
   "metadata": {},
   "outputs": [
    {
     "data": {
      "text/plain": [
       "86.00544366596984"
      ]
     },
     "execution_count": 18,
     "metadata": {},
     "output_type": "execute_result"
    }
   ],
   "source": [
    "contract.days_diff.mean()"
   ]
  },
  {
   "cell_type": "code",
   "execution_count": 19,
   "id": "f9891fdd-ef0b-4140-91b5-05ad61f5b985",
   "metadata": {},
   "outputs": [
    {
     "data": {
      "text/plain": [
       "((903619, 4), 53.0, 86.00544366596984)"
      ]
     },
     "execution_count": 19,
     "metadata": {},
     "output_type": "execute_result"
    }
   ],
   "source": [
    "contract.shape,contract.days_diff.median(), contract.days_diff.mean()"
   ]
  },
  {
   "cell_type": "code",
   "execution_count": 20,
   "id": "ffa3ae8c-ef75-4a48-be47-b152bdfe45b3",
   "metadata": {},
   "outputs": [
    {
     "data": {
      "text/plain": [
       "0.6730303369008398"
      ]
     },
     "execution_count": 20,
     "metadata": {},
     "output_type": "execute_result"
    }
   ],
   "source": [
    "contract[contract.days_diff < contract.days_diff.mean()].shape[0]/contract.shape[0]"
   ]
  },
  {
   "cell_type": "code",
   "execution_count": 21,
   "id": "949514ce-5cd9-4ae6-a995-d07fadfac9c6",
   "metadata": {},
   "outputs": [
    {
     "name": "stdout",
     "output_type": "stream",
     "text": [
      "(903619, 4)\n",
      "(903548, 4)\n"
     ]
    }
   ],
   "source": [
    "pricing_ai.print_shape(contract)\n",
    "contract = contract[contract.days_diff >0]\n",
    "pricing_ai.print_shape(contract)"
   ]
  },
  {
   "cell_type": "code",
   "execution_count": 23,
   "id": "f4ed0fac-2cd6-4966-9e39-a8b32cae80b3",
   "metadata": {},
   "outputs": [],
   "source": [
    "contract = contract.sort_values(by='days_diff')"
   ]
  },
  {
   "cell_type": "code",
   "execution_count": 27,
   "id": "62ab5175-13be-4985-8a35-06402997abc2",
   "metadata": {},
   "outputs": [
    {
     "data": {
      "text/plain": [
       "731"
      ]
     },
     "execution_count": 27,
     "metadata": {},
     "output_type": "execute_result"
    }
   ],
   "source": [
    "contract.days_diff.nunique()"
   ]
  },
  {
   "cell_type": "code",
   "execution_count": 67,
   "id": "cbf6accc-32a1-41f3-a6f5-cea40abe8ca3",
   "metadata": {},
   "outputs": [],
   "source": [
    "contract_cumsum = contract.groupby('days_diff').size().to_frame('days')"
   ]
  },
  {
   "cell_type": "code",
   "execution_count": 68,
   "id": "913a752e-d9ff-489b-80d2-b2899c21d681",
   "metadata": {},
   "outputs": [],
   "source": [
    "contract_cumsum['cumsum_days'] = contract_cumsum.days.cumsum()"
   ]
  },
  {
   "cell_type": "code",
   "execution_count": 69,
   "id": "6acca094-2ec3-4550-b197-80c61c9e7d82",
   "metadata": {},
   "outputs": [],
   "source": [
    "contract_cumsum['cumsum_days_max'] = contract_cumsum.days.sum()"
   ]
  },
  {
   "cell_type": "code",
   "execution_count": 70,
   "id": "b7cc6dc4-0896-4b73-be33-62dff2e82dc0",
   "metadata": {},
   "outputs": [],
   "source": [
    "contract_cumsum['per_cumsum'] = contract_cumsum['cumsum_days']/contract_cumsum['cumsum_days_max']"
   ]
  },
  {
   "cell_type": "code",
   "execution_count": 87,
   "id": "fb2f6a85-447d-4b5b-b5db-a4f094c495d5",
   "metadata": {},
   "outputs": [
    {
     "data": {
      "image/png": "[encoded data removed]",
      "text/plain": [
       "<Figure size 720x360 with 2 Axes>"
      ]
     },
     "metadata": {},
     "output_type": "display_data"
    }
   ],
   "source": [
    "fig, axes = plt.subplots(1,1, figsize=(10,5))\n",
    "ax0 = axes.twinx()\n",
    "contract.days_diff.plot.hist(bins=30, ax=axes)\n",
    "contract_cumsum.per_cumsum.plot(ax=ax0, c='red')\n",
    "plt.show()"
   ]
  },
  {
   "cell_type": "code",
   "execution_count": null,
   "id": "16df442f-0a99-45c0-8520-ce9394a27673",
   "metadata": {},
   "outputs": [],
   "source": [
    "stock_cars "
   ]
  }
 ],
 "metadata": {
  "kernelspec": {
   "display_name": "Python 3 (ipykernel)",
   "language": "python",
   "name": "python3"
  },
  "language_info": {
   "codemirror_mode": {
    "name": "ipython",
    "version": 3
   },
   "file_extension": ".py",
   "mimetype": "text/x-python",
   "name": "python",
   "nbconvert_exporter": "python",
   "pygments_lexer": "ipython3",
   "version": "3.7.13"
  }
 },
 "nbformat": 4,
 "nbformat_minor": 5
}
