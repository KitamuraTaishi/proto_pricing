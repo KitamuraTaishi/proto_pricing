{
 "cells": [
  {
   "cell_type": "code",
   "execution_count": 1,
   "id": "64e59eb0-4d31-4cf0-a883-e843bac88f67",
   "metadata": {},
   "outputs": [],
   "source": [
    "from scripts import pricing_ai\n",
    "import pandas as pd\n",
    "import seaborn as sns\n",
    "import matplotlib.pyplot as plt\n",
    "\n",
    "sns.set()\n",
    "pd.set_option('display.max_rows',200)"
   ]
  },
  {
   "cell_type": "markdown",
   "id": "96186f37-d6e1-4d2f-85f1-879983e188a7",
   "metadata": {},
   "source": [
    "#### **データ：価格の変動を持ったstockidデータ**"
   ]
  },
  {
   "cell_type": "code",
   "execution_count": 2,
   "id": "2cb297d3-c1f6-45ac-96a2-0116ddc1104e",
   "metadata": {},
   "outputs": [
    {
     "name": "stdout",
     "output_type": "stream",
     "text": [
      "CPU times: user 1min 3s, sys: 32.5 s, total: 1min 36s\n",
      "Wall time: 3min\n"
     ]
    }
   ],
   "source": [
    "%%time\n",
    "df = pricing_ai.get_data('sql/stock_cars.sql')"
   ]
  },
  {
   "cell_type": "markdown",
   "id": "6268ce4f-3952-4583-8670-b52adad4d2ee",
   "metadata": {},
   "source": [
    "#### **前処理：値段未設定を削除**"
   ]
  },
  {
   "cell_type": "code",
   "execution_count": 3,
   "id": "cc39a8ee-c656-4a7f-8b7c-26c62d712115",
   "metadata": {},
   "outputs": [
    {
     "name": "stdout",
     "output_type": "stream",
     "text": [
      "(59161303, 3)\n",
      "(58740983, 3)\n"
     ]
    }
   ],
   "source": [
    "pricing_ai.print_shape(df)\n",
    "df = df[df.price != 999999999]\n",
    "pricing_ai.print_shape(df)"
   ]
  },
  {
   "cell_type": "markdown",
   "id": "d5297370-cf60-4a8a-8989-a79bf3f9d38f",
   "metadata": {},
   "source": [
    "#### **データ：初回と成約**"
   ]
  },
  {
   "cell_type": "code",
   "execution_count": 4,
   "id": "e19f87c2-ace1-4b6e-aa73-6f14c3d40ef7",
   "metadata": {},
   "outputs": [],
   "source": [
    "first_pub = pricing_ai.get_preprocessing_data(sql_path='sql/first_pub.sql',col='min_date')\n",
    "contract = pricing_ai.get_preprocessing_data(sql_path='sql/contract.sql',col='delete_date')"
   ]
  },
  {
   "cell_type": "markdown",
   "id": "6cf9497b-8281-4e62-a606-2d438b5e5f65",
   "metadata": {},
   "source": [
    "#### **データ：初回の日付と成約の日付作成**"
   ]
  },
  {
   "cell_type": "code",
   "execution_count": 5,
   "id": "0eda8246-3497-4f19-930a-35cb18ac20e6",
   "metadata": {},
   "outputs": [],
   "source": [
    "start_day_dict = first_pub.set_index('stock_id')['min_date'].to_dict()\n",
    "end_day_dict = contract.set_index('stock_id')['delete_date'].to_dict()"
   ]
  },
  {
   "cell_type": "markdown",
   "id": "dbf89c06-9566-42f5-a9eb-d6dbb69098bf",
   "metadata": {},
   "source": [
    "#### **前処理：初回と成約の日付を結合**"
   ]
  },
  {
   "cell_type": "code",
   "execution_count": 6,
   "id": "67471237-d927-4f3a-9212-734b51c1f823",
   "metadata": {},
   "outputs": [],
   "source": [
    "df['end_day']=df.stock_id.map(end_day_dict)\n",
    "df['start_day']=df.stock_id.map(start_day_dict)"
   ]
  },
  {
   "cell_type": "code",
   "execution_count": 7,
   "id": "ec5650c5-eebe-4935-a53c-93dbdd6a7c77",
   "metadata": {},
   "outputs": [],
   "source": [
    "del start_day_dict, end_day_dict, first_pub, contract"
   ]
  },
  {
   "cell_type": "code",
   "execution_count": 8,
   "id": "e0165a24-80dc-4fb7-8840-fecb8a2eecb5",
   "metadata": {},
   "outputs": [],
   "source": [
    "df['date'] = pd.to_datetime(df['date'])\n",
    "df = df.sort_values(by=['stock_id', 'date'])\n",
    "\n",
    "df['min_price'] = df.groupby('stock_id')['price'].transform('min')\n",
    "df['max_price'] = df.groupby('stock_id')['price'].transform('max')\n",
    "\n",
    "df['diff_price'] = df['max_price'] - df['min_price']"
   ]
  },
  {
   "cell_type": "code",
   "execution_count": 9,
   "id": "886de678-c2d8-4908-a2f2-303a42636101",
   "metadata": {},
   "outputs": [
    {
     "name": "stdout",
     "output_type": "stream",
     "text": [
      "(58740983, 8)\n",
      "(47388779, 8)\n"
     ]
    }
   ],
   "source": [
    "pricing_ai.print_shape(df)\n",
    "df = df.dropna(subset=['start_day'])\n",
    "pricing_ai.print_shape(df)"
   ]
  },
  {
   "cell_type": "code",
   "execution_count": 10,
   "id": "8797d8f6-40ec-4a48-82f7-769918fffd2b",
   "metadata": {},
   "outputs": [],
   "source": [
    "df_copy = df.copy()"
   ]
  },
  {
   "cell_type": "markdown",
   "id": "2e5ad69b-0d1b-4259-89be-c8a8c0e81fed",
   "metadata": {},
   "source": [
    "#### 前処理：価格の下落がなかったもの"
   ]
  },
  {
   "cell_type": "code",
   "execution_count": 13,
   "id": "f2c6918d-6e80-4d10-a197-1983640a379e",
   "metadata": {},
   "outputs": [],
   "source": [
    "df['diff_per_stockid'] = df.groupby('stock_id').price.diff().fillna(0)"
   ]
  },
  {
   "cell_type": "code",
   "execution_count": 23,
   "id": "1b0fe468-1376-4ba2-8f8f-fe8f173e856a",
   "metadata": {},
   "outputs": [
    {
     "name": "stdout",
     "output_type": "stream",
     "text": [
      "(47388779, 9)\n",
      "(20511433, 9)\n"
     ]
    }
   ],
   "source": [
    "pricing_ai.print_shape(df)\n",
    "df = df[df.diff_price == 0]\n",
    "pricing_ai.print_shape(df)"
   ]
  },
  {
   "cell_type": "code",
   "execution_count": 25,
   "id": "71491b2f-b46d-4e58-9678-df448491f7f6",
   "metadata": {},
   "outputs": [],
   "source": [
    "price_diff_df = df.groupby(['stock_id', 'diff_per_stockid']).size().to_frame('count').reset_index()"
   ]
  },
  {
   "cell_type": "code",
   "execution_count": null,
   "id": "bf19b1ee-72f8-41e7-9e2a-680364d2f4d5",
   "metadata": {},
   "outputs": [],
   "source": [
    "price_diff_df[price_diff_df.diff_per_stockid.ne(0)].groupby('stock_id')['count']\\\n",
    "                                            .sum()\\\n",
    "                                            .value_counts().head(10).plot.bar()\n",
    "plt.xticks(rotation=45)\n",
    "plt.show()"
   ]
  },
  {
   "cell_type": "code",
   "execution_count": 14,
   "id": "bbbd12fa-191d-4679-a4f0-fa4870029e43",
   "metadata": {},
   "outputs": [
    {
     "data": {
      "text/plain": [
       "(1330468, 830000)"
      ]
     },
     "execution_count": 14,
     "metadata": {},
     "output_type": "execute_result"
    }
   ],
   "source": [
    "df.drop_duplicates('stock_id').max_price.mean().astype(int), df.drop_duplicates('stock_id').max_price.median().astype(int)"
   ]
  },
  {
   "cell_type": "markdown",
   "id": "08f7db7a-eb63-4801-978f-832c205e77c0",
   "metadata": {},
   "source": [
    "#### **前処理：stockidごとの物件詳細読み込み(価格下げ無し)**"
   ]
  },
  {
   "cell_type": "code",
   "execution_count": 23,
   "id": "68be8ac3-9bbc-4b29-a9be-47fed588ff71",
   "metadata": {},
   "outputs": [],
   "source": [
    "stock_detail = pricing_ai.get_data('sql/stock_cars_options.sql')"
   ]
  },
  {
   "cell_type": "code",
   "execution_count": 35,
   "id": "09c67a83-57d2-4f10-8fd5-9cc3a73d9d9d",
   "metadata": {},
   "outputs": [
    {
     "data": {
      "text/plain": [
       "(9607267, 9)"
      ]
     },
     "execution_count": 35,
     "metadata": {},
     "output_type": "execute_result"
    }
   ],
   "source": [
    "stock_detail.shape"
   ]
  },
  {
   "cell_type": "code",
   "execution_count": 179,
   "id": "b5afa782-cdee-470d-859d-8a11bba57da2",
   "metadata": {},
   "outputs": [],
   "source": [
    "stay_cars = stock_detail[stock_detail.stock_id.isin(df[df.diff_price == 0].stock_id.unique())]"
   ]
  },
  {
   "cell_type": "code",
   "execution_count": 26,
   "id": "b6d5478c-75e5-4537-90d1-47131b8f613d",
   "metadata": {
    "tags": []
   },
   "outputs": [],
   "source": [
    "plt.rcParams['font.family'] = 'Noto Sans CJK JP'"
   ]
  },
  {
   "cell_type": "code",
   "execution_count": 30,
   "id": "1cc6a009-6c41-40eb-82b1-b09023d3b690",
   "metadata": {},
   "outputs": [
    {
     "data": {
      "image/png": "[encoded data removed]",
      "text/plain": [
       "<Figure size 432x288 with 1 Axes>"
      ]
     },
     "metadata": {
      "needs_background": "light"
     },
     "output_type": "display_data"
    }
   ],
   "source": [
    "stay_cars.n_p_car_nm_n.value_counts(normalize=True).head(10).plot.bar()\n",
    "plt.xticks(rotation=90)\n",
    "plt.show()"
   ]
  },
  {
   "cell_type": "markdown",
   "id": "f7fa667f-101b-4ce9-8463-fa5cd325712a",
   "metadata": {},
   "source": [
    "#### **データ：stockidごとの物件詳細読み込み(価格下げ有り)**"
   ]
  },
  {
   "cell_type": "code",
   "execution_count": 22,
   "id": "0aa75953-74e3-4329-8b27-7610cf353369",
   "metadata": {},
   "outputs": [
    {
     "name": "stdout",
     "output_type": "stream",
     "text": [
      "(26877346, 8)\n",
      "(26877346, 8)\n"
     ]
    }
   ],
   "source": [
    "pricing_ai.print_shape(df_copy)\n",
    "df_copy = df_copy[df_copy.diff_price != 0]\n",
    "pricing_ai.print_shape(df_copy)"
   ]
  },
  {
   "cell_type": "code",
   "execution_count": 193,
   "id": "2c454cf2-f7c3-4871-afc9-fc012a8ed9b2",
   "metadata": {},
   "outputs": [],
   "source": [
    "stay_cars2 = stock_detail[stock_detail.stock_id.isin(df_copy.stock_id.unique())]"
   ]
  },
  {
   "cell_type": "code",
   "execution_count": 27,
   "id": "24b6553c-45c4-4fe9-8d4c-a147a0efa7e6",
   "metadata": {},
   "outputs": [
    {
     "data": {
      "image/png": "[encoded data removed]",
      "text/plain": [
       "<Figure size 432x288 with 1 Axes>"
      ]
     },
     "metadata": {
      "needs_background": "light"
     },
     "output_type": "display_data"
    }
   ],
   "source": [
    "stay_cars2.n_p_car_nm_n.value_counts(normalize=True).head(10).plot.bar()\n",
    "plt.xticks(rotation=90)\n",
    "plt.show()"
   ]
  },
  {
   "cell_type": "code",
   "execution_count": 180,
   "id": "85299a3a-c213-4251-aab8-793807fb7cd2",
   "metadata": {},
   "outputs": [],
   "source": [
    "stay_price = stay_cars.n_p_car_nm_n.value_counts(normalize=True)\n",
    "change_price = stay_cars2.n_p_car_nm_n.value_counts(normalize=True)"
   ]
  },
  {
   "cell_type": "code",
   "execution_count": 181,
   "id": "52d0fde7-dbaf-4722-9857-03d95ab55411",
   "metadata": {},
   "outputs": [
    {
     "data": {
      "text/plain": [
       "(1887, 1728, 1548)"
      ]
     },
     "execution_count": 181,
     "metadata": {},
     "output_type": "execute_result"
    }
   ],
   "source": [
    "len(stay_price), len(change_price), len(set(stay_price.index) & set(change_price.index))"
   ]
  },
  {
   "cell_type": "code",
   "execution_count": 182,
   "id": "ddf64c57-bc6d-4b75-945e-195cd485bf52",
   "metadata": {},
   "outputs": [],
   "source": [
    "only_in_stay_price = pd.DataFrame(set(stay_cars.n_p_car_nm_n) - set(stay_cars2.n_p_car_nm_n), columns=['car_name'])\n",
    "only_in_change_price = pd.DataFrame(set(stay_cars2.n_p_car_nm_n) - set(stay_cars.n_p_car_nm_n), columns=['car_name'])"
   ]
  },
  {
   "cell_type": "code",
   "execution_count": 269,
   "id": "c95271cb-4b3f-4784-9ee3-8e5b928a3cbe",
   "metadata": {},
   "outputs": [
    {
     "data": {
      "text/plain": [
       "((339, 1), (180, 1))"
      ]
     },
     "execution_count": 269,
     "metadata": {},
     "output_type": "execute_result"
    }
   ],
   "source": [
    "only_in_stay_price.shape, only_in_change_price.shape"
   ]
  },
  {
   "cell_type": "code",
   "execution_count": 267,
   "id": "2dc0376c-cfee-4b29-ad83-c8e1f2b009ef",
   "metadata": {},
   "outputs": [
    {
     "data": {
      "text/html": [
       "<div>\n",
       "<style scoped>\n",
       "    .dataframe tbody tr th:only-of-type {\n",
       "        vertical-align: middle;\n",
       "    }\n",
       "\n",
       "    .dataframe tbody tr th {\n",
       "        vertical-align: top;\n",
       "    }\n",
       "\n",
       "    .dataframe thead th {\n",
       "        text-align: right;\n",
       "    }\n",
       "</style>\n",
       "<table border=\"1\" class=\"dataframe\">\n",
       "  <thead>\n",
       "    <tr style=\"text-align: right;\">\n",
       "      <th></th>\n",
       "      <th>stock_id</th>\n",
       "      <th>goo_car_id</th>\n",
       "      <th>n_p_country_nm_n</th>\n",
       "      <th>n_p_brand_nm_n</th>\n",
       "      <th>n_p_car_nm_n</th>\n",
       "      <th>n_p_grade_nm_n</th>\n",
       "      <th>syear</th>\n",
       "      <th>e_distance</th>\n",
       "      <th>price</th>\n",
       "    </tr>\n",
       "  </thead>\n",
       "  <tbody>\n",
       "    <tr>\n",
       "      <th>35447</th>\n",
       "      <td>0507246A20201012J001</td>\n",
       "      <td>941020101300507246001</td>\n",
       "      <td>ドイツ</td>\n",
       "      <td>メルセデス・ベンツ</td>\n",
       "      <td>Ａクラスセダン</td>\n",
       "      <td>Ａクラスセダン　４ＭＡＴＩＣ</td>\n",
       "      <td>2019</td>\n",
       "      <td>6000</td>\n",
       "      <td>3598000</td>\n",
       "    </tr>\n",
       "    <tr>\n",
       "      <th>62391</th>\n",
       "      <td>0505174A20210319J002</td>\n",
       "      <td>941021032000505174002</td>\n",
       "      <td>アメリカ</td>\n",
       "      <td>テスラ</td>\n",
       "      <td>モデル３</td>\n",
       "      <td>ロングレンジ　ＡＷＤ</td>\n",
       "      <td>2020</td>\n",
       "      <td>4000</td>\n",
       "      <td>6081000</td>\n",
       "    </tr>\n",
       "    <tr>\n",
       "      <th>68235</th>\n",
       "      <td>9510173A30210212W001</td>\n",
       "      <td>700951017330210212001</td>\n",
       "      <td>ドイツ</td>\n",
       "      <td>ＢＭＷアルピナ</td>\n",
       "      <td>アルピナ ＸＤ４</td>\n",
       "      <td>オールラッド</td>\n",
       "      <td>2020</td>\n",
       "      <td>12000</td>\n",
       "      <td>11680000</td>\n",
       "    </tr>\n",
       "    <tr>\n",
       "      <th>74490</th>\n",
       "      <td>0208255A20210121Q003</td>\n",
       "      <td>965021012200208255003</td>\n",
       "      <td>フランス</td>\n",
       "      <td>シトロエン</td>\n",
       "      <td>シトロエン　ＤＳ３クロスバック</td>\n",
       "      <td>ソーシック</td>\n",
       "      <td>2020</td>\n",
       "      <td>2765</td>\n",
       "      <td>2639000</td>\n",
       "    </tr>\n",
       "    <tr>\n",
       "      <th>106000</th>\n",
       "      <td>0510328A30210522W001</td>\n",
       "      <td>700051032830210522001</td>\n",
       "      <td>日本</td>\n",
       "      <td>ダイハツ</td>\n",
       "      <td>グランマックストラック</td>\n",
       "      <td>ＧＬ　スマートアシスト　ＬＥＤヘッドライト　キーレス</td>\n",
       "      <td>2020</td>\n",
       "      <td>17</td>\n",
       "      <td>1705000</td>\n",
       "    </tr>\n",
       "  </tbody>\n",
       "</table>\n",
       "</div>"
      ],
      "text/plain": [
       "                    stock_id             goo_car_id n_p_country_nm_n  \\\n",
       "35447   0507246A20201012J001  941020101300507246001              ドイツ   \n",
       "62391   0505174A20210319J002  941021032000505174002             アメリカ   \n",
       "68235   9510173A30210212W001  700951017330210212001              ドイツ   \n",
       "74490   0208255A20210121Q003  965021012200208255003             フランス   \n",
       "106000  0510328A30210522W001  700051032830210522001               日本   \n",
       "\n",
       "       n_p_brand_nm_n     n_p_car_nm_n              n_p_grade_nm_n syear  \\\n",
       "35447       メルセデス・ベンツ          Ａクラスセダン              Ａクラスセダン　４ＭＡＴＩＣ  2019   \n",
       "62391             テスラ             モデル３                  ロングレンジ　ＡＷＤ  2020   \n",
       "68235         ＢＭＷアルピナ         アルピナ ＸＤ４                      オールラッド  2020   \n",
       "74490           シトロエン  シトロエン　ＤＳ３クロスバック                       ソーシック  2020   \n",
       "106000           ダイハツ      グランマックストラック  ＧＬ　スマートアシスト　ＬＥＤヘッドライト　キーレス  2020   \n",
       "\n",
       "       e_distance     price  \n",
       "35447        6000   3598000  \n",
       "62391        4000   6081000  \n",
       "68235       12000  11680000  \n",
       "74490        2765   2639000  \n",
       "106000         17   1705000  "
      ]
     },
     "execution_count": 267,
     "metadata": {},
     "output_type": "execute_result"
    }
   ],
   "source": [
    "stay_cars2[stay_cars2.n_p_car_nm_n.isin(only_in_change_price.car_name)].head()"
   ]
  },
  {
   "cell_type": "code",
   "execution_count": 268,
   "id": "98f46cf0-58aa-438f-bdb4-c46931b73dd6",
   "metadata": {},
   "outputs": [
    {
     "data": {
      "text/html": [
       "<div>\n",
       "<style scoped>\n",
       "    .dataframe tbody tr th:only-of-type {\n",
       "        vertical-align: middle;\n",
       "    }\n",
       "\n",
       "    .dataframe tbody tr th {\n",
       "        vertical-align: top;\n",
       "    }\n",
       "\n",
       "    .dataframe thead th {\n",
       "        text-align: right;\n",
       "    }\n",
       "</style>\n",
       "<table border=\"1\" class=\"dataframe\">\n",
       "  <thead>\n",
       "    <tr style=\"text-align: right;\">\n",
       "      <th></th>\n",
       "      <th>stock_id</th>\n",
       "      <th>goo_car_id</th>\n",
       "      <th>n_p_country_nm_n</th>\n",
       "      <th>n_p_brand_nm_n</th>\n",
       "      <th>n_p_car_nm_n</th>\n",
       "      <th>n_p_grade_nm_n</th>\n",
       "      <th>syear</th>\n",
       "      <th>e_distance</th>\n",
       "      <th>price</th>\n",
       "    </tr>\n",
       "  </thead>\n",
       "  <tbody>\n",
       "    <tr>\n",
       "      <th>36238</th>\n",
       "      <td>0402838A20200605Q001</td>\n",
       "      <td>976020060600402838001</td>\n",
       "      <td>フランス</td>\n",
       "      <td>ルノー</td>\n",
       "      <td>キャプチャー</td>\n",
       "      <td>インテンス</td>\n",
       "      <td>2018</td>\n",
       "      <td>6415</td>\n",
       "      <td>1820000</td>\n",
       "    </tr>\n",
       "    <tr>\n",
       "      <th>60133</th>\n",
       "      <td>1157656A20200718Q002</td>\n",
       "      <td>965020071901157656002</td>\n",
       "      <td>フランス</td>\n",
       "      <td>シトロエン</td>\n",
       "      <td>シトロエン　Ｃ３　エアクロス</td>\n",
       "      <td>シャイン　登録済み未使用車　アップルカープレイ</td>\n",
       "      <td>2020</td>\n",
       "      <td>20</td>\n",
       "      <td>2099000</td>\n",
       "    </tr>\n",
       "    <tr>\n",
       "      <th>75453</th>\n",
       "      <td>9510160A20210629Q001</td>\n",
       "      <td>965021063009510160001</td>\n",
       "      <td>イギリス</td>\n",
       "      <td>ランドローバー</td>\n",
       "      <td>ランドローバー　ディフェンダー</td>\n",
       "      <td>１１０ＳＥ</td>\n",
       "      <td>2020</td>\n",
       "      <td>15600</td>\n",
       "      <td>8499000</td>\n",
       "    </tr>\n",
       "    <tr>\n",
       "      <th>75573</th>\n",
       "      <td>0202629A30211113W001</td>\n",
       "      <td>700020262930211113001</td>\n",
       "      <td>イギリス</td>\n",
       "      <td>ジャガー</td>\n",
       "      <td>ジャガー Ｉペイス</td>\n",
       "      <td>ＳＥ</td>\n",
       "      <td>2020</td>\n",
       "      <td>9000</td>\n",
       "      <td>7999000</td>\n",
       "    </tr>\n",
       "    <tr>\n",
       "      <th>132449</th>\n",
       "      <td>0570670A20210429Q001</td>\n",
       "      <td>965021043000570670001</td>\n",
       "      <td>ドイツ</td>\n",
       "      <td>アウディ</td>\n",
       "      <td>アウディ　ＲＳ３</td>\n",
       "      <td>ベースグレード</td>\n",
       "      <td>2020</td>\n",
       "      <td>800</td>\n",
       "      <td>7499000</td>\n",
       "    </tr>\n",
       "  </tbody>\n",
       "</table>\n",
       "</div>"
      ],
      "text/plain": [
       "                    stock_id             goo_car_id n_p_country_nm_n  \\\n",
       "36238   0402838A20200605Q001  976020060600402838001             フランス   \n",
       "60133   1157656A20200718Q002  965020071901157656002             フランス   \n",
       "75453   9510160A20210629Q001  965021063009510160001             イギリス   \n",
       "75573   0202629A30211113W001  700020262930211113001             イギリス   \n",
       "132449  0570670A20210429Q001  965021043000570670001              ドイツ   \n",
       "\n",
       "       n_p_brand_nm_n     n_p_car_nm_n           n_p_grade_nm_n syear  \\\n",
       "36238             ルノー           キャプチャー                    インテンス  2018   \n",
       "60133           シトロエン   シトロエン　Ｃ３　エアクロス  シャイン　登録済み未使用車　アップルカープレイ  2020   \n",
       "75453         ランドローバー  ランドローバー　ディフェンダー                    １１０ＳＥ  2020   \n",
       "75573            ジャガー        ジャガー Ｉペイス                       ＳＥ  2020   \n",
       "132449           アウディ         アウディ　ＲＳ３                  ベースグレード  2020   \n",
       "\n",
       "       e_distance    price  \n",
       "36238        6415  1820000  \n",
       "60133          20  2099000  \n",
       "75453       15600  8499000  \n",
       "75573        9000  7999000  \n",
       "132449        800  7499000  "
      ]
     },
     "execution_count": 268,
     "metadata": {},
     "output_type": "execute_result"
    }
   ],
   "source": [
    "stay_cars[stay_cars.n_p_car_nm_n.isin(only_in_stay_price.car_name)].head()"
   ]
  },
  {
   "cell_type": "code",
   "execution_count": 183,
   "id": "e38056c0-1118-4401-a385-b5896cf273c8",
   "metadata": {},
   "outputs": [
    {
     "name": "stdout",
     "output_type": "stream",
     "text": [
      "0.9891298929723494\n"
     ]
    }
   ],
   "source": [
    "print(stay_cars[stay_cars.price.astype(int) != 999999999].shape[0]/stay_cars.shape[0])\n",
    "stay_cars = stay_cars[stay_cars.price.astype(int) != 999999999] "
   ]
  },
  {
   "cell_type": "code",
   "execution_count": 188,
   "id": "d39e0a92-039b-42af-898e-b855c08dd8c8",
   "metadata": {},
   "outputs": [
    {
     "data": {
      "text/plain": [
       "8960000    9999000\n",
       "9306557    9999000\n",
       "1457166    9999000\n",
       "1730011    9999000\n",
       "342090     9999000\n",
       "Name: price, dtype: object"
      ]
     },
     "execution_count": 188,
     "metadata": {},
     "output_type": "execute_result"
    }
   ],
   "source": [
    "stay_cars.price.sort_values(ascending=False).head()"
   ]
  },
  {
   "cell_type": "code",
   "execution_count": 186,
   "id": "8521bae5-5f11-48c6-a17f-ee5288efd700",
   "metadata": {},
   "outputs": [
    {
     "data": {
      "text/plain": [
       "<AxesSubplot:ylabel='Frequency'>"
      ]
     },
     "execution_count": 186,
     "metadata": {},
     "output_type": "execute_result"
    },
    {
     "data": {
      "image/png": "[encoded data removed]",
      "text/plain": [
       "<Figure size 432x288 with 1 Axes>"
      ]
     },
     "metadata": {
      "needs_background": "light"
     },
     "output_type": "display_data"
    }
   ],
   "source": [
    "stay_cars[stay_cars.price.astype(int) <= 9999000].price.astype(int).plot.hist(bins=50)"
   ]
  },
  {
   "cell_type": "code",
   "execution_count": 194,
   "id": "1f745232-95a3-4831-b879-006200be4ec2",
   "metadata": {},
   "outputs": [
    {
     "name": "stdout",
     "output_type": "stream",
     "text": [
      "0.9967542775769298\n"
     ]
    }
   ],
   "source": [
    "print(stay_cars2[stay_cars2.price.astype(int) != 999999999].shape[0]/stay_cars2.shape[0])\n",
    "stay_cars2 = stay_cars2[stay_cars2.price.astype(int) != 999999999] "
   ]
  },
  {
   "cell_type": "code",
   "execution_count": 198,
   "id": "bc3e61da-55ba-4de1-bbc4-2ad3de058c5a",
   "metadata": {},
   "outputs": [
    {
     "name": "stdout",
     "output_type": "stream",
     "text": [
      "0.9999958225895559\n"
     ]
    }
   ],
   "source": [
    "print(stay_cars2[stay_cars2.price.astype(int) != 999999000].shape[0]/stay_cars2.shape[0])\n",
    "stay_cars2 = stay_cars2[stay_cars2.price.astype(int) != 999999000] "
   ]
  },
  {
   "cell_type": "code",
   "execution_count": 200,
   "id": "a43ba305-6b99-4974-afe7-ffdee7445434",
   "metadata": {},
   "outputs": [
    {
     "data": {
      "text/plain": [
       "6878569    99990000\n",
       "8997322    99990000\n",
       "3432483     9999000\n",
       "3067846     9999000\n",
       "8244579     9999000\n",
       "Name: price, dtype: object"
      ]
     },
     "execution_count": 200,
     "metadata": {},
     "output_type": "execute_result"
    }
   ],
   "source": [
    "stay_cars2.price.sort_values(ascending=False).head()"
   ]
  },
  {
   "cell_type": "code",
   "execution_count": 201,
   "id": "26466c91-d12e-4212-9b11-37fe9a0da561",
   "metadata": {},
   "outputs": [
    {
     "data": {
      "text/plain": [
       "<AxesSubplot:ylabel='Frequency'>"
      ]
     },
     "execution_count": 201,
     "metadata": {},
     "output_type": "execute_result"
    },
    {
     "data": {
      "image/png": "[encoded data removed]",
      "text/plain": [
       "<Figure size 432x288 with 1 Axes>"
      ]
     },
     "metadata": {
      "needs_background": "light"
     },
     "output_type": "display_data"
    }
   ],
   "source": [
    "stay_cars2[stay_cars2.price.astype(int) <= 9999000].price.astype(int).plot.hist(bins=50)"
   ]
  },
  {
   "cell_type": "code",
   "execution_count": null,
   "id": "d4b3ee2a-404c-4e5b-b77d-6c1c70dae69a",
   "metadata": {},
   "outputs": [],
   "source": [
    "axes.twinx"
   ]
  },
  {
   "cell_type": "code",
   "execution_count": 298,
   "id": "d304c4dc-da5f-4856-9d66-e9185cb0d57e",
   "metadata": {},
   "outputs": [
    {
     "data": {
      "text/plain": [
       "506471"
      ]
     },
     "execution_count": 298,
     "metadata": {},
     "output_type": "execute_result"
    }
   ],
   "source": [
    "stay_cars.stock_id.nunique()"
   ]
  },
  {
   "cell_type": "code",
   "execution_count": 299,
   "id": "f966ed55-f347-41bd-9d10-5648cb231674",
   "metadata": {},
   "outputs": [
    {
     "data": {
      "text/plain": [
       "<matplotlib.legend.Legend at 0x7f3f38714e50>"
      ]
     },
     "execution_count": 299,
     "metadata": {},
     "output_type": "execute_result"
    },
    {
     "data": {
      "image/png": "[encoded data removed]",
      "text/plain": [
       "<Figure size 864x288 with 2 Axes>"
      ]
     },
     "metadata": {
      "needs_background": "light"
     },
     "output_type": "display_data"
    }
   ],
   "source": [
    "fig, axes = plt.subplots(1, 1 ,figsize=(12, 4) )\n",
    "axes0 = axes.twinx()\n",
    "stay_cars[stay_cars.price.astype(int) <= 1e7].price.astype(int).plot.hist(bins=100, ax=axes, alpha=0.5, label='値下げなし',legend=True)\n",
    "axes.legend(loc=(0.8, 0.9))\n",
    "stay_cars2[stay_cars2.price.astype(int) <= 1e7].price.astype(int).plot.hist(bins=100, ax=axes0, color='red', alpha=0.4, label='値下げあり',legend=True)\n",
    "axes.legend(loc=(0.7, 0.9))\n"
   ]
  },
  {
   "cell_type": "code",
   "execution_count": 41,
   "id": "ead76f3e-8c69-4180-a697-07eae6d3df1f",
   "metadata": {},
   "outputs": [],
   "source": [
    "car_exit_per = pd.concat([stay_price.sort_index(), change_price.sort_index()], axis=1)"
   ]
  },
  {
   "cell_type": "code",
   "execution_count": 43,
   "id": "dc7c5d72-3eb9-4054-996b-824591148638",
   "metadata": {},
   "outputs": [],
   "source": [
    "car_exit_per = car_exit_per.dropna()"
   ]
  },
  {
   "cell_type": "code",
   "execution_count": 45,
   "id": "06f02888-4175-4f93-a46f-10dc8847b5c4",
   "metadata": {},
   "outputs": [],
   "source": [
    "car_exit_per.columns = ['stay', 'change']"
   ]
  },
  {
   "cell_type": "code",
   "execution_count": 103,
   "id": "49afdf23-bbda-4156-af9d-f4547f9f62e3",
   "metadata": {},
   "outputs": [],
   "source": [
    "car_exit_per['diif_per'] = car_exit_per['change']- car_exit_per['stay']"
   ]
  },
  {
   "cell_type": "code",
   "execution_count": 104,
   "id": "ee54a38e-8b1d-4f7a-9cee-e8f44ecc49a9",
   "metadata": {},
   "outputs": [],
   "source": [
    "car_exit_per = car_exit_per.sort_values(by='diif_per',ascending=False)"
   ]
  },
  {
   "cell_type": "code",
   "execution_count": 85,
   "id": "2bdab2a4-bad7-46bd-8ede-c106d8cace0b",
   "metadata": {},
   "outputs": [
    {
     "data": {
      "image/png": "[encoded data removed]",
      "text/plain": [
       "<Figure size 1440x288 with 1 Axes>"
      ]
     },
     "metadata": {
      "needs_background": "light"
     },
     "output_type": "display_data"
    }
   ],
   "source": [
    "car_exit_per[['stay', 'change']].sort_values(by='stay', ascending=False).rename(columns={'stay':'値下げ無し','change':'値下げ有り'}).head(50).plot.bar(figsize=(20,4), width=0.8, stacked=False)\n",
    "plt.xticks(rotation=80)\n",
    "plt.show()"
   ]
  },
  {
   "cell_type": "code",
   "execution_count": 86,
   "id": "9beaf848-af52-4c7d-a495-8b520b5f872b",
   "metadata": {},
   "outputs": [
    {
     "data": {
      "image/png": "[encoded data removed]",
      "text/plain": [
       "<Figure size 1440x288 with 1 Axes>"
      ]
     },
     "metadata": {
      "needs_background": "light"
     },
     "output_type": "display_data"
    }
   ],
   "source": [
    "car_exit_per[['stay', 'change']].sort_values(by='change', ascending=False).rename(columns={'stay':'値下げ無し','change':'値下げ有り'}).head(50).plot.bar(figsize=(20,4), width=0.8, stacked=False)\n",
    "plt.xticks(rotation=80)\n",
    "plt.show()"
   ]
  },
  {
   "cell_type": "code",
   "execution_count": 105,
   "id": "804c9898-b6e8-414d-9dbc-9130163cc35b",
   "metadata": {},
   "outputs": [
    {
     "data": {
      "image/png": "[encoded data removed]",
      "text/plain": [
       "<Figure size 1440x288 with 1 Axes>"
      ]
     },
     "metadata": {
      "needs_background": "light"
     },
     "output_type": "display_data"
    }
   ],
   "source": [
    "plt.figure(figsize=(20,4))\n",
    "car_exit_per['diif_per'][car_exit_per.diif_per.abs().sort_values(ascending=False).index].head(50).plot.bar()\n",
    "plt.xticks(rotation=80)\n",
    "plt.show()"
   ]
  },
  {
   "cell_type": "code",
   "execution_count": 118,
   "id": "0e6a7aca-ee41-4a81-8c52-7054bd1696af",
   "metadata": {},
   "outputs": [
    {
     "name": "stderr",
     "output_type": "stream",
     "text": [
      "/tmp/ipykernel_72840/2077947206.py:1: UserWarning: Boolean Series key will be reindexed to match DataFrame index.\n",
      "  df.drop_duplicates(subset=['stock_id'])[(df.diff_price==0) & (df.max_price<=1e7)].max_price.plot.hist(bins=50)\n"
     ]
    },
    {
     "data": {
      "text/plain": [
       "<AxesSubplot:ylabel='Frequency'>"
      ]
     },
     "execution_count": 118,
     "metadata": {},
     "output_type": "execute_result"
    },
    {
     "data": {
      "image/png": "[encoded data removed]",
      "text/plain": [
       "<Figure size 432x288 with 1 Axes>"
      ]
     },
     "metadata": {
      "needs_background": "light"
     },
     "output_type": "display_data"
    }
   ],
   "source": [
    "df.drop_duplicates(subset=['stock_id'])[(df.diff_price==0) & (df.max_price<=1e7)].max_price.plot.hist(bins=50)"
   ]
  },
  {
   "cell_type": "code",
   "execution_count": 117,
   "id": "3f75e14d-d2b8-4631-a076-d08e11e51b75",
   "metadata": {},
   "outputs": [
    {
     "name": "stderr",
     "output_type": "stream",
     "text": [
      "/tmp/ipykernel_72840/4287585121.py:1: UserWarning: Boolean Series key will be reindexed to match DataFrame index.\n",
      "  df.drop_duplicates(subset=['stock_id'])[(df.diff_price!=0) & (df.max_price<=1e7)].max_price.plot.hist(bins=50)\n"
     ]
    },
    {
     "data": {
      "text/plain": [
       "<AxesSubplot:ylabel='Frequency'>"
      ]
     },
     "execution_count": 117,
     "metadata": {},
     "output_type": "execute_result"
    },
    {
     "data": {
      "image/png": "[encoded data removed]",
      "text/plain": [
       "<Figure size 432x288 with 1 Axes>"
      ]
     },
     "metadata": {
      "needs_background": "light"
     },
     "output_type": "display_data"
    }
   ],
   "source": [
    "df.drop_duplicates(subset=['stock_id'])[(df.diff_price!=0) & (df.max_price<=1e7)].max_price.plot.hist(bins=50)"
   ]
  },
  {
   "cell_type": "markdown",
   "id": "e7e14461-f274-4679-afa4-078892b85c98",
   "metadata": {},
   "source": [
    "#### 可視化：初回掲載から成約までで価格の下落があったもの"
   ]
  },
  {
   "cell_type": "code",
   "execution_count": 13,
   "id": "59f44e72-af0c-4ec0-84d6-d41116936446",
   "metadata": {},
   "outputs": [
    {
     "data": {
      "text/plain": [
       "<AxesSubplot:ylabel='Frequency'>"
      ]
     },
     "execution_count": 13,
     "metadata": {},
     "output_type": "execute_result"
    },
    {
     "data": {
      "image/png": "[encoded data removed]",
      "text/plain": [
       "<Figure size 432x288 with 1 Axes>"
      ]
     },
     "metadata": {
      "needs_background": "light"
     },
     "output_type": "display_data"
    }
   ],
   "source": [
    "df_copy = df_copy[df_copy.diff_price != 0].drop_duplicates(subset=['stock_id'])\n",
    "df_copy['keisai_day'] = df_copy['end_day']-df_copy['start_day']\n",
    "df_copy['keisai_day'] = df_copy.keisai_day.astype('timedelta64[D]').astype(int)\n",
    "df_copy['keisai_day'].plot.hist(bins=20)"
   ]
  },
  {
   "cell_type": "code",
   "execution_count": 14,
   "id": "478ade24-6b68-4fee-9cc6-5bd2ea5d4142",
   "metadata": {},
   "outputs": [
    {
     "data": {
      "text/plain": [
       "(87.0, 114.11965797195619)"
      ]
     },
     "execution_count": 14,
     "metadata": {},
     "output_type": "execute_result"
    }
   ],
   "source": [
    "df_copy.keisai_day.median(), df_copy.keisai_day.mean()"
   ]
  },
  {
   "cell_type": "code",
   "execution_count": 31,
   "id": "5d90cedc-53ef-440c-a154-d37a8c8cd175",
   "metadata": {},
   "outputs": [
    {
     "ename": "NameError",
     "evalue": "name 'df_copy' is not defined",
     "output_type": "error",
     "traceback": [
      "\u001b[0;31m---------------------------------------------------------------------------\u001b[0m",
      "\u001b[0;31mNameError\u001b[0m                                 Traceback (most recent call last)",
      "Input \u001b[0;32mIn [31]\u001b[0m, in \u001b[0;36m<cell line: 1>\u001b[0;34m()\u001b[0m\n\u001b[0;32m----> 1\u001b[0m \u001b[43mdf_copy\u001b[49m\n",
      "\u001b[0;31mNameError\u001b[0m: name 'df_copy' is not defined"
     ]
    }
   ],
   "source": [
    "df_copy"
   ]
  },
  {
   "cell_type": "code",
   "execution_count": 270,
   "id": "6a9713b7-5d00-4384-bb6a-564b1c740561",
   "metadata": {},
   "outputs": [],
   "source": [
    "stayANDchange_carnames = set(stay_price.index) & set(change_price.index)"
   ]
  },
  {
   "cell_type": "code",
   "execution_count": 275,
   "id": "3a14a304-9fb6-4498-8bd4-79e1be9e7da9",
   "metadata": {},
   "outputs": [
    {
     "data": {
      "text/plain": [
       "1548"
      ]
     },
     "execution_count": 275,
     "metadata": {},
     "output_type": "execute_result"
    }
   ],
   "source": [
    "len(stayANDchange_carnames)"
   ]
  },
  {
   "cell_type": "code",
   "execution_count": 277,
   "id": "4f19e9e9-1c62-408b-9312-8d159d8d60ae",
   "metadata": {},
   "outputs": [],
   "source": [
    "df['car_name'] = df['stock_id'].map(stock_detail.set_index('stock_id')['n_p_car_nm_n'].to_dict())"
   ]
  },
  {
   "cell_type": "code",
   "execution_count": 280,
   "id": "35cab4ac-8ef1-42d3-85eb-d8130f077a5b",
   "metadata": {},
   "outputs": [],
   "source": [
    "stayANDchange_df = df[df.car_name.isin(stayANDchange_carnames)]"
   ]
  },
  {
   "cell_type": "code",
   "execution_count": 283,
   "id": "08bfd585-5c0e-4c98-8d22-35a07cf5396f",
   "metadata": {},
   "outputs": [
    {
     "data": {
      "text/plain": [
       "0.9986396779710235"
      ]
     },
     "execution_count": 283,
     "metadata": {},
     "output_type": "execute_result"
    }
   ],
   "source": [
    "stayANDchange_df.shape[0]/df.shape[0]"
   ]
  },
  {
   "cell_type": "code",
   "execution_count": 285,
   "id": "c0dc1a85-0011-4739-b663-e4f300668423",
   "metadata": {},
   "outputs": [
    {
     "data": {
      "text/html": [
       "<div>\n",
       "<style scoped>\n",
       "    .dataframe tbody tr th:only-of-type {\n",
       "        vertical-align: middle;\n",
       "    }\n",
       "\n",
       "    .dataframe tbody tr th {\n",
       "        vertical-align: top;\n",
       "    }\n",
       "\n",
       "    .dataframe thead th {\n",
       "        text-align: right;\n",
       "    }\n",
       "</style>\n",
       "<table border=\"1\" class=\"dataframe\">\n",
       "  <thead>\n",
       "    <tr style=\"text-align: right;\">\n",
       "      <th></th>\n",
       "      <th>date</th>\n",
       "      <th>stock_id</th>\n",
       "      <th>price</th>\n",
       "      <th>end_day</th>\n",
       "      <th>start_day</th>\n",
       "      <th>min_price</th>\n",
       "      <th>max_price</th>\n",
       "      <th>diff_price</th>\n",
       "      <th>car_name</th>\n",
       "    </tr>\n",
       "  </thead>\n",
       "  <tbody>\n",
       "    <tr>\n",
       "      <th>21905771</th>\n",
       "      <td>2020-03-21</td>\n",
       "      <td>0100012A20200321Q001</td>\n",
       "      <td>1890000</td>\n",
       "      <td>2021-08-05</td>\n",
       "      <td>2020-03-21</td>\n",
       "      <td>1730000</td>\n",
       "      <td>1890000</td>\n",
       "      <td>160000</td>\n",
       "      <td>ヴェゼル</td>\n",
       "    </tr>\n",
       "    <tr>\n",
       "      <th>36527216</th>\n",
       "      <td>2020-03-22</td>\n",
       "      <td>0100012A20200321Q001</td>\n",
       "      <td>1890000</td>\n",
       "      <td>2021-08-05</td>\n",
       "      <td>2020-03-21</td>\n",
       "      <td>1730000</td>\n",
       "      <td>1890000</td>\n",
       "      <td>160000</td>\n",
       "      <td>ヴェゼル</td>\n",
       "    </tr>\n",
       "    <tr>\n",
       "      <th>27632509</th>\n",
       "      <td>2020-03-23</td>\n",
       "      <td>0100012A20200321Q001</td>\n",
       "      <td>1890000</td>\n",
       "      <td>2021-08-05</td>\n",
       "      <td>2020-03-21</td>\n",
       "      <td>1730000</td>\n",
       "      <td>1890000</td>\n",
       "      <td>160000</td>\n",
       "      <td>ヴェゼル</td>\n",
       "    </tr>\n",
       "    <tr>\n",
       "      <th>11011871</th>\n",
       "      <td>2020-03-24</td>\n",
       "      <td>0100012A20200321Q001</td>\n",
       "      <td>1890000</td>\n",
       "      <td>2021-08-05</td>\n",
       "      <td>2020-03-21</td>\n",
       "      <td>1730000</td>\n",
       "      <td>1890000</td>\n",
       "      <td>160000</td>\n",
       "      <td>ヴェゼル</td>\n",
       "    </tr>\n",
       "    <tr>\n",
       "      <th>37591003</th>\n",
       "      <td>2020-03-25</td>\n",
       "      <td>0100012A20200321Q001</td>\n",
       "      <td>1890000</td>\n",
       "      <td>2021-08-05</td>\n",
       "      <td>2020-03-21</td>\n",
       "      <td>1730000</td>\n",
       "      <td>1890000</td>\n",
       "      <td>160000</td>\n",
       "      <td>ヴェゼル</td>\n",
       "    </tr>\n",
       "    <tr>\n",
       "      <th>...</th>\n",
       "      <td>...</td>\n",
       "      <td>...</td>\n",
       "      <td>...</td>\n",
       "      <td>...</td>\n",
       "      <td>...</td>\n",
       "      <td>...</td>\n",
       "      <td>...</td>\n",
       "      <td>...</td>\n",
       "      <td>...</td>\n",
       "    </tr>\n",
       "    <tr>\n",
       "      <th>56422526</th>\n",
       "      <td>2021-07-25</td>\n",
       "      <td>9950045A30210706W001</td>\n",
       "      <td>280000</td>\n",
       "      <td>2021-07-30</td>\n",
       "      <td>2021-07-06</td>\n",
       "      <td>280000</td>\n",
       "      <td>280000</td>\n",
       "      <td>0</td>\n",
       "      <td>サンバートラック</td>\n",
       "    </tr>\n",
       "    <tr>\n",
       "      <th>56583253</th>\n",
       "      <td>2021-07-26</td>\n",
       "      <td>9950045A30210706W001</td>\n",
       "      <td>280000</td>\n",
       "      <td>2021-07-30</td>\n",
       "      <td>2021-07-06</td>\n",
       "      <td>280000</td>\n",
       "      <td>280000</td>\n",
       "      <td>0</td>\n",
       "      <td>サンバートラック</td>\n",
       "    </tr>\n",
       "    <tr>\n",
       "      <th>56562166</th>\n",
       "      <td>2021-07-27</td>\n",
       "      <td>9950045A30210706W001</td>\n",
       "      <td>280000</td>\n",
       "      <td>2021-07-30</td>\n",
       "      <td>2021-07-06</td>\n",
       "      <td>280000</td>\n",
       "      <td>280000</td>\n",
       "      <td>0</td>\n",
       "      <td>サンバートラック</td>\n",
       "    </tr>\n",
       "    <tr>\n",
       "      <th>56242036</th>\n",
       "      <td>2021-07-28</td>\n",
       "      <td>9950045A30210706W001</td>\n",
       "      <td>280000</td>\n",
       "      <td>2021-07-30</td>\n",
       "      <td>2021-07-06</td>\n",
       "      <td>280000</td>\n",
       "      <td>280000</td>\n",
       "      <td>0</td>\n",
       "      <td>サンバートラック</td>\n",
       "    </tr>\n",
       "    <tr>\n",
       "      <th>56278439</th>\n",
       "      <td>2021-07-29</td>\n",
       "      <td>9950045A30210706W001</td>\n",
       "      <td>280000</td>\n",
       "      <td>2021-07-30</td>\n",
       "      <td>2021-07-06</td>\n",
       "      <td>280000</td>\n",
       "      <td>280000</td>\n",
       "      <td>0</td>\n",
       "      <td>サンバートラック</td>\n",
       "    </tr>\n",
       "  </tbody>\n",
       "</table>\n",
       "<p>47324315 rows × 9 columns</p>\n",
       "</div>"
      ],
      "text/plain": [
       "               date              stock_id    price    end_day  start_day  \\\n",
       "21905771 2020-03-21  0100012A20200321Q001  1890000 2021-08-05 2020-03-21   \n",
       "36527216 2020-03-22  0100012A20200321Q001  1890000 2021-08-05 2020-03-21   \n",
       "27632509 2020-03-23  0100012A20200321Q001  1890000 2021-08-05 2020-03-21   \n",
       "11011871 2020-03-24  0100012A20200321Q001  1890000 2021-08-05 2020-03-21   \n",
       "37591003 2020-03-25  0100012A20200321Q001  1890000 2021-08-05 2020-03-21   \n",
       "...             ...                   ...      ...        ...        ...   \n",
       "56422526 2021-07-25  9950045A30210706W001   280000 2021-07-30 2021-07-06   \n",
       "56583253 2021-07-26  9950045A30210706W001   280000 2021-07-30 2021-07-06   \n",
       "56562166 2021-07-27  9950045A30210706W001   280000 2021-07-30 2021-07-06   \n",
       "56242036 2021-07-28  9950045A30210706W001   280000 2021-07-30 2021-07-06   \n",
       "56278439 2021-07-29  9950045A30210706W001   280000 2021-07-30 2021-07-06   \n",
       "\n",
       "          min_price  max_price  diff_price  car_name  \n",
       "21905771    1730000    1890000      160000      ヴェゼル  \n",
       "36527216    1730000    1890000      160000      ヴェゼル  \n",
       "27632509    1730000    1890000      160000      ヴェゼル  \n",
       "11011871    1730000    1890000      160000      ヴェゼル  \n",
       "37591003    1730000    1890000      160000      ヴェゼル  \n",
       "...             ...        ...         ...       ...  \n",
       "56422526     280000     280000           0  サンバートラック  \n",
       "56583253     280000     280000           0  サンバートラック  \n",
       "56562166     280000     280000           0  サンバートラック  \n",
       "56242036     280000     280000           0  サンバートラック  \n",
       "56278439     280000     280000           0  サンバートラック  \n",
       "\n",
       "[47324315 rows x 9 columns]"
      ]
     },
     "execution_count": 285,
     "metadata": {},
     "output_type": "execute_result"
    }
   ],
   "source": [
    "stayANDchange_df"
   ]
  },
  {
   "cell_type": "code",
   "execution_count": 284,
   "id": "98e5e026-25b1-4e2d-9ef6-a3cb12161f00",
   "metadata": {},
   "outputs": [
    {
     "data": {
      "text/plain": [
       "47324315"
      ]
     },
     "execution_count": 284,
     "metadata": {},
     "output_type": "execute_result"
    }
   ],
   "source": [
    "stayANDchange_df.shape[0]"
   ]
  },
  {
   "cell_type": "code",
   "execution_count": 294,
   "id": "091c9dde-302d-4e13-b2e5-e0db573c8ba3",
   "metadata": {},
   "outputs": [
    {
     "name": "stderr",
     "output_type": "stream",
     "text": [
      "/tmp/ipykernel_72840/1210447265.py:1: SettingWithCopyWarning: \n",
      "A value is trying to be set on a copy of a slice from a DataFrame.\n",
      "Try using .loc[row_indexer,col_indexer] = value instead\n",
      "\n",
      "See the caveats in the documentation: https://pandas.pydata.org/pandas-docs/stable/user_guide/indexing.html#returning-a-view-versus-a-copy\n",
      "  stayANDchange_df.loc[:, 'diff_days'] = stayANDchange_df['end_day']-stayANDchange_df['start_day']\n",
      "/tmp/ipykernel_72840/1210447265.py:2: SettingWithCopyWarning: \n",
      "A value is trying to be set on a copy of a slice from a DataFrame.\n",
      "Try using .loc[row_indexer,col_indexer] = value instead\n",
      "\n",
      "See the caveats in the documentation: https://pandas.pydata.org/pandas-docs/stable/user_guide/indexing.html#returning-a-view-versus-a-copy\n",
      "  stayANDchange_df.loc[:, 'diff_days'] = stayANDchange_df['diff_days'].astype('timedelta64[D]')\n"
     ]
    }
   ],
   "source": [
    "stayANDchange_df.loc[:, 'diff_days'] = stayANDchange_df['end_day']-stayANDchange_df['start_day']\n",
    "stayANDchange_df.loc[:, 'diff_days'] = stayANDchange_df['diff_days'].astype('timedelta64[D]')"
   ]
  },
  {
   "cell_type": "code",
   "execution_count": 296,
   "id": "a3986304-cfe9-4c4e-af03-84511bced9ef",
   "metadata": {},
   "outputs": [
    {
     "data": {
      "text/html": [
       "<div>\n",
       "<style scoped>\n",
       "    .dataframe tbody tr th:only-of-type {\n",
       "        vertical-align: middle;\n",
       "    }\n",
       "\n",
       "    .dataframe tbody tr th {\n",
       "        vertical-align: top;\n",
       "    }\n",
       "\n",
       "    .dataframe thead th {\n",
       "        text-align: right;\n",
       "    }\n",
       "</style>\n",
       "<table border=\"1\" class=\"dataframe\">\n",
       "  <thead>\n",
       "    <tr style=\"text-align: right;\">\n",
       "      <th></th>\n",
       "      <th>date</th>\n",
       "      <th>stock_id</th>\n",
       "      <th>price</th>\n",
       "      <th>end_day</th>\n",
       "      <th>start_day</th>\n",
       "      <th>min_price</th>\n",
       "      <th>max_price</th>\n",
       "      <th>diff_price</th>\n",
       "      <th>car_name</th>\n",
       "      <th>diff_days</th>\n",
       "    </tr>\n",
       "  </thead>\n",
       "  <tbody>\n",
       "    <tr>\n",
       "      <th>21905771</th>\n",
       "      <td>2020-03-21</td>\n",
       "      <td>0100012A20200321Q001</td>\n",
       "      <td>1890000</td>\n",
       "      <td>2021-08-05</td>\n",
       "      <td>2020-03-21</td>\n",
       "      <td>1730000</td>\n",
       "      <td>1890000</td>\n",
       "      <td>160000</td>\n",
       "      <td>ヴェゼル</td>\n",
       "      <td>502.0</td>\n",
       "    </tr>\n",
       "    <tr>\n",
       "      <th>50769395</th>\n",
       "      <td>2020-03-21</td>\n",
       "      <td>0100012A20200321Q004</td>\n",
       "      <td>680000</td>\n",
       "      <td>2020-06-14</td>\n",
       "      <td>2020-03-21</td>\n",
       "      <td>590000</td>\n",
       "      <td>680000</td>\n",
       "      <td>90000</td>\n",
       "      <td>Ｎ－ＯＮＥ</td>\n",
       "      <td>85.0</td>\n",
       "    </tr>\n",
       "    <tr>\n",
       "      <th>1288998</th>\n",
       "      <td>2020-04-04</td>\n",
       "      <td>0100012A20200404Q001</td>\n",
       "      <td>990000</td>\n",
       "      <td>2021-08-05</td>\n",
       "      <td>2020-04-04</td>\n",
       "      <td>850000</td>\n",
       "      <td>990000</td>\n",
       "      <td>140000</td>\n",
       "      <td>プリウスアルファ</td>\n",
       "      <td>488.0</td>\n",
       "    </tr>\n",
       "    <tr>\n",
       "      <th>22900045</th>\n",
       "      <td>2020-06-13</td>\n",
       "      <td>0100012A20200613Q001</td>\n",
       "      <td>2850000</td>\n",
       "      <td>2020-11-17</td>\n",
       "      <td>2020-06-13</td>\n",
       "      <td>2780000</td>\n",
       "      <td>2850000</td>\n",
       "      <td>70000</td>\n",
       "      <td>エルグランド</td>\n",
       "      <td>157.0</td>\n",
       "    </tr>\n",
       "    <tr>\n",
       "      <th>11653276</th>\n",
       "      <td>2020-06-27</td>\n",
       "      <td>0100012A20200627Q001</td>\n",
       "      <td>920000</td>\n",
       "      <td>2021-08-05</td>\n",
       "      <td>2020-06-27</td>\n",
       "      <td>890000</td>\n",
       "      <td>920000</td>\n",
       "      <td>30000</td>\n",
       "      <td>ＮＴ１００クリッパートラック</td>\n",
       "      <td>404.0</td>\n",
       "    </tr>\n",
       "    <tr>\n",
       "      <th>...</th>\n",
       "      <td>...</td>\n",
       "      <td>...</td>\n",
       "      <td>...</td>\n",
       "      <td>...</td>\n",
       "      <td>...</td>\n",
       "      <td>...</td>\n",
       "      <td>...</td>\n",
       "      <td>...</td>\n",
       "      <td>...</td>\n",
       "      <td>...</td>\n",
       "    </tr>\n",
       "    <tr>\n",
       "      <th>28075009</th>\n",
       "      <td>2021-03-26</td>\n",
       "      <td>9940003A30210326W001</td>\n",
       "      <td>1399000</td>\n",
       "      <td>2021-05-05</td>\n",
       "      <td>2021-03-26</td>\n",
       "      <td>1359000</td>\n",
       "      <td>1399000</td>\n",
       "      <td>40000</td>\n",
       "      <td>ソリオバンディット</td>\n",
       "      <td>40.0</td>\n",
       "    </tr>\n",
       "    <tr>\n",
       "      <th>1029152</th>\n",
       "      <td>2021-06-13</td>\n",
       "      <td>9940003A30210613W003</td>\n",
       "      <td>899000</td>\n",
       "      <td>2021-08-22</td>\n",
       "      <td>2021-06-13</td>\n",
       "      <td>799000</td>\n",
       "      <td>899000</td>\n",
       "      <td>100000</td>\n",
       "      <td>パッソ</td>\n",
       "      <td>70.0</td>\n",
       "    </tr>\n",
       "    <tr>\n",
       "      <th>31764101</th>\n",
       "      <td>2021-07-07</td>\n",
       "      <td>9940003A30210707W001</td>\n",
       "      <td>999000</td>\n",
       "      <td>2021-09-28</td>\n",
       "      <td>2021-07-07</td>\n",
       "      <td>899000</td>\n",
       "      <td>999000</td>\n",
       "      <td>100000</td>\n",
       "      <td>アルトターボＲＳ</td>\n",
       "      <td>83.0</td>\n",
       "    </tr>\n",
       "    <tr>\n",
       "      <th>31130477</th>\n",
       "      <td>2021-08-14</td>\n",
       "      <td>9940003A30210814W001</td>\n",
       "      <td>3299000</td>\n",
       "      <td>2021-12-14</td>\n",
       "      <td>2021-08-14</td>\n",
       "      <td>3139000</td>\n",
       "      <td>3299000</td>\n",
       "      <td>160000</td>\n",
       "      <td>ハイエースバン</td>\n",
       "      <td>122.0</td>\n",
       "    </tr>\n",
       "    <tr>\n",
       "      <th>28399509</th>\n",
       "      <td>2021-09-21</td>\n",
       "      <td>9940003A30210921W003</td>\n",
       "      <td>959000</td>\n",
       "      <td>2021-11-14</td>\n",
       "      <td>2021-09-21</td>\n",
       "      <td>899000</td>\n",
       "      <td>959000</td>\n",
       "      <td>60000</td>\n",
       "      <td>アウディ Ａ１</td>\n",
       "      <td>54.0</td>\n",
       "    </tr>\n",
       "  </tbody>\n",
       "</table>\n",
       "<p>289138 rows × 10 columns</p>\n",
       "</div>"
      ],
      "text/plain": [
       "               date              stock_id    price    end_day  start_day  \\\n",
       "21905771 2020-03-21  0100012A20200321Q001  1890000 2021-08-05 2020-03-21   \n",
       "50769395 2020-03-21  0100012A20200321Q004   680000 2020-06-14 2020-03-21   \n",
       "1288998  2020-04-04  0100012A20200404Q001   990000 2021-08-05 2020-04-04   \n",
       "22900045 2020-06-13  0100012A20200613Q001  2850000 2020-11-17 2020-06-13   \n",
       "11653276 2020-06-27  0100012A20200627Q001   920000 2021-08-05 2020-06-27   \n",
       "...             ...                   ...      ...        ...        ...   \n",
       "28075009 2021-03-26  9940003A30210326W001  1399000 2021-05-05 2021-03-26   \n",
       "1029152  2021-06-13  9940003A30210613W003   899000 2021-08-22 2021-06-13   \n",
       "31764101 2021-07-07  9940003A30210707W001   999000 2021-09-28 2021-07-07   \n",
       "31130477 2021-08-14  9940003A30210814W001  3299000 2021-12-14 2021-08-14   \n",
       "28399509 2021-09-21  9940003A30210921W003   959000 2021-11-14 2021-09-21   \n",
       "\n",
       "          min_price  max_price  diff_price        car_name  diff_days  \n",
       "21905771    1730000    1890000      160000            ヴェゼル      502.0  \n",
       "50769395     590000     680000       90000           Ｎ－ＯＮＥ       85.0  \n",
       "1288998      850000     990000      140000        プリウスアルファ      488.0  \n",
       "22900045    2780000    2850000       70000          エルグランド      157.0  \n",
       "11653276     890000     920000       30000  ＮＴ１００クリッパートラック      404.0  \n",
       "...             ...        ...         ...             ...        ...  \n",
       "28075009    1359000    1399000       40000       ソリオバンディット       40.0  \n",
       "1029152      799000     899000      100000             パッソ       70.0  \n",
       "31764101     899000     999000      100000        アルトターボＲＳ       83.0  \n",
       "31130477    3139000    3299000      160000         ハイエースバン      122.0  \n",
       "28399509     899000     959000       60000         アウディ Ａ１       54.0  \n",
       "\n",
       "[289138 rows x 10 columns]"
      ]
     },
     "execution_count": 296,
     "metadata": {},
     "output_type": "execute_result"
    }
   ],
   "source": [
    "stayANDchange_df[stayANDchange_df.diff_price.ne(0)].drop_duplicates(subset=['stock_id'])"
   ]
  },
  {
   "cell_type": "code",
   "execution_count": null,
   "id": "66880c75-1d1d-425f-a2e1-042b16b0eba7",
   "metadata": {},
   "outputs": [],
   "source": []
  }
 ],
 "metadata": {
  "kernelspec": {
   "display_name": "Python 3 (ipykernel)",
   "language": "python",
   "name": "python3"
  },
  "language_info": {
   "codemirror_mode": {
    "name": "ipython",
    "version": 3
   },
   "file_extension": ".py",
   "mimetype": "text/x-python",
   "name": "python",
   "nbconvert_exporter": "python",
   "pygments_lexer": "ipython3",
   "version": "3.8.13"
  }
 },
 "nbformat": 4,
 "nbformat_minor": 5
}
