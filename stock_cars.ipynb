{
 "cells": [
  {
   "cell_type": "code",
   "execution_count": null,
   "id": "64e59eb0-4d31-4cf0-a883-e843bac88f67",
   "metadata": {},
   "outputs": [],
   "source": [
    "import pricing_ai\n",
    "import pandas as pd\n",
    "import seaborn as sns\n",
    "import matplotlib.pyplot as plt\n",
    "\n",
    "sns.set()\n",
    "pd.set_option('display.max_rows',200)"
   ]
  },
  {
   "cell_type": "markdown",
   "id": "96186f37-d6e1-4d2f-85f1-879983e188a7",
   "metadata": {},
   "source": [
    "#### **データ：価格の変動を持ったstockidデータ**"
   ]
  },
  {
   "cell_type": "code",
   "execution_count": 2,
   "id": "2cb297d3-c1f6-45ac-96a2-0116ddc1104e",
   "metadata": {},
   "outputs": [
    {
     "name": "stdout",
     "output_type": "stream",
     "text": [
      "CPU times: user 1min 14s, sys: 38.7 s, total: 1min 53s\n",
      "Wall time: 7min 40s\n"
     ]
    }
   ],
   "source": [
    "%%time\n",
    "df = pricing_ai.get_data('sql/stock_cars.sql')"
   ]
  },
  {
   "cell_type": "markdown",
   "id": "6268ce4f-3952-4583-8670-b52adad4d2ee",
   "metadata": {},
   "source": [
    "#### **前処理：値段未設定を削除**"
   ]
  },
  {
   "cell_type": "code",
   "execution_count": 3,
   "id": "cc39a8ee-c656-4a7f-8b7c-26c62d712115",
   "metadata": {},
   "outputs": [
    {
     "name": "stdout",
     "output_type": "stream",
     "text": [
      "(59161303, 3)\n",
      "(58740983, 3)\n"
     ]
    }
   ],
   "source": [
    "pricing_ai.print_shape(df)\n",
    "df = df[df.price != 999999999]\n",
    "pricing_ai.print_shape(df)"
   ]
  },
  {
   "cell_type": "markdown",
   "id": "d5297370-cf60-4a8a-8989-a79bf3f9d38f",
   "metadata": {},
   "source": [
    "#### **データ：初回と成約**"
   ]
  },
  {
   "cell_type": "code",
   "execution_count": 4,
   "id": "e19f87c2-ace1-4b6e-aa73-6f14c3d40ef7",
   "metadata": {},
   "outputs": [],
   "source": [
    "first_pub = pricing_ai.get_preprocessing_data(sql_path='sql/first_pub.sql',col='min_date')\n",
    "contract = pricing_ai.get_preprocessing_data(sql_path='sql/contract.sql',col='delete_date')"
   ]
  },
  {
   "cell_type": "markdown",
   "id": "6cf9497b-8281-4e62-a606-2d438b5e5f65",
   "metadata": {},
   "source": [
    "#### **データ：初回の日付と成約の日付作成**"
   ]
  },
  {
   "cell_type": "code",
   "execution_count": 5,
   "id": "0eda8246-3497-4f19-930a-35cb18ac20e6",
   "metadata": {},
   "outputs": [],
   "source": [
    "start_day_dict = first_pub.set_index('stock_id')['min_date'].to_dict()\n",
    "end_day_dict = contract.set_index('stock_id')['delete_date'].to_dict()"
   ]
  },
  {
   "cell_type": "markdown",
   "id": "dbf89c06-9566-42f5-a9eb-d6dbb69098bf",
   "metadata": {},
   "source": [
    "#### **前処理：初回と成約の日付を結合**"
   ]
  },
  {
   "cell_type": "code",
   "execution_count": 6,
   "id": "67471237-d927-4f3a-9212-734b51c1f823",
   "metadata": {},
   "outputs": [],
   "source": [
    "df['end_day']=df.stock_id.map(end_day_dict)\n",
    "df['start_day']=df.stock_id.map(start_day_dict)"
   ]
  },
  {
   "cell_type": "code",
   "execution_count": 7,
   "id": "ec5650c5-eebe-4935-a53c-93dbdd6a7c77",
   "metadata": {},
   "outputs": [],
   "source": [
    "del start_day_dict, end_day_dict, first_pub, contract"
   ]
  },
  {
   "cell_type": "code",
   "execution_count": 10,
   "id": "e0165a24-80dc-4fb7-8840-fecb8a2eecb5",
   "metadata": {},
   "outputs": [],
   "source": [
    "df['date'] = pd.to_datetime(df['date'])\n",
    "df = df.sort_values(by=['stock_id', 'date'])\n",
    "\n",
    "df['min_price'] = df.groupby('stock_id')['price'].transform('min')\n",
    "df['max_price'] = df.groupby('stock_id')['price'].transform('max')\n",
    "\n",
    "df['diff_price'] = df['max_price'] - df['min_price']"
   ]
  },
  {
   "cell_type": "code",
   "execution_count": 11,
   "id": "886de678-c2d8-4908-a2f2-303a42636101",
   "metadata": {},
   "outputs": [
    {
     "name": "stdout",
     "output_type": "stream",
     "text": [
      "(58740983, 8)\n",
      "(47388779, 8)\n"
     ]
    }
   ],
   "source": [
    "pricing_ai.print_shape(df)\n",
    "df = df.dropna(subset=['start_day'])\n",
    "pricing_ai.print_shape(df)"
   ]
  },
  {
   "cell_type": "code",
   "execution_count": 12,
   "id": "e3e86970-bb3b-49da-9ede-26dbf4214357",
   "metadata": {},
   "outputs": [],
   "source": [
    "df_copy = df.copy()"
   ]
  },
  {
   "cell_type": "code",
   "execution_count": 15,
   "id": "59f50889-d99f-4789-991b-358dd5c48aba",
   "metadata": {},
   "outputs": [],
   "source": [
    "df_copy2 = df.copy()"
   ]
  },
  {
   "cell_type": "markdown",
   "id": "e7e14461-f274-4679-afa4-078892b85c98",
   "metadata": {},
   "source": [
    "#### 可視化：初回掲載から成約までで価格の下落があったもの"
   ]
  },
  {
   "cell_type": "code",
   "execution_count": 13,
   "id": "59f44e72-af0c-4ec0-84d6-d41116936446",
   "metadata": {},
   "outputs": [
    {
     "data": {
      "text/plain": [
       "<AxesSubplot:ylabel='Frequency'>"
      ]
     },
     "execution_count": 13,
     "metadata": {},
     "output_type": "execute_result"
    },
    {
     "data": {
      "image/png": "[encoded data removed]",
      "text/plain": [
       "<Figure size 432x288 with 1 Axes>"
      ]
     },
     "metadata": {
      "needs_background": "light"
     },
     "output_type": "display_data"
    }
   ],
   "source": [
    "df_copy = df_copy[df_copy.diff_price != 0].drop_duplicates(subset=['stock_id'])\n",
    "df_copy['keisai_day'] = df_copy['end_day']-df_copy['start_day']\n",
    "df_copy['keisai_day'] = df_copy.keisai_day.astype('timedelta64[D]').astype(int)\n",
    "df_copy['keisai_day'].plot.hist(bins=20)"
   ]
  },
  {
   "cell_type": "code",
   "execution_count": 14,
   "id": "478ade24-6b68-4fee-9cc6-5bd2ea5d4142",
   "metadata": {},
   "outputs": [
    {
     "data": {
      "text/plain": [
       "(87.0, 114.11965797195619)"
      ]
     },
     "execution_count": 14,
     "metadata": {},
     "output_type": "execute_result"
    }
   ],
   "source": [
    "df_copy.keisai_day.median(), df_copy.keisai_day.mean()"
   ]
  },
  {
   "cell_type": "markdown",
   "id": "e44304c8-1772-409e-abf2-6743f945d23b",
   "metadata": {},
   "source": [
    "#### 可視化：初回掲載から成約まで価格の下落がないもの "
   ]
  },
  {
   "cell_type": "code",
   "execution_count": 16,
   "id": "a6003cc2-e5bf-4923-a8a3-b37f195c2211",
   "metadata": {},
   "outputs": [
    {
     "data": {
      "text/plain": [
       "<AxesSubplot:ylabel='Frequency'>"
      ]
     },
     "execution_count": 16,
     "metadata": {},
     "output_type": "execute_result"
    },
    {
     "data": {
      "image/png": "[encoded data removed]",
      "text/plain": [
       "<Figure size 432x288 with 1 Axes>"
      ]
     },
     "metadata": {
      "needs_background": "light"
     },
     "output_type": "display_data"
    }
   ],
   "source": [
    "df_copy2 = df_copy2[df_copy2.diff_price == 0].drop_duplicates(subset=['stock_id'])\n",
    "df_copy2['keisai_day'] = df_copy2['end_day']-df_copy2['start_day']\n",
    "df_copy2['keisai_day'] = df_copy2.keisai_day.astype('timedelta64[D]').astype(int)\n",
    "df_copy2['keisai_day'].plot.hist(bins=20)"
   ]
  },
  {
   "cell_type": "code",
   "execution_count": 17,
   "id": "ee669895-476d-4041-9275-4a257b788cff",
   "metadata": {},
   "outputs": [
    {
     "data": {
      "text/plain": [
       "(34.0, 58.164040981615926)"
      ]
     },
     "execution_count": 17,
     "metadata": {},
     "output_type": "execute_result"
    }
   ],
   "source": [
    "df_copy2.keisai_day.median(), df_copy2.keisai_day.mean()"
   ]
  },
  {
   "cell_type": "markdown",
   "id": "b702b9e9-d000-43c2-bc01-3b9c3717839d",
   "metadata": {},
   "source": [
    "#### データ：以下は値下げしているもののデータ"
   ]
  },
  {
   "cell_type": "code",
   "execution_count": null,
   "id": "bd72123b-300e-4600-9e8c-0853cc1b1bdd",
   "metadata": {},
   "outputs": [],
   "source": [
    "#値下げ回数をｓりたい\n",
    "#値下げ車種の具体例時系列推移\n",
    "#一ヶ月２ヶ月・・・・での価格推移"
   ]
  },
  {
   "cell_type": "code",
   "execution_count": null,
   "id": "b47279bc-0982-4c81-9575-6e2ff50badca",
   "metadata": {},
   "outputs": [],
   "source": [
    "str_price = [str(price) for price in df.diff_price.value_counts().index.tolist()]"
   ]
  },
  {
   "cell_type": "code",
   "execution_count": null,
   "id": "c1006976-0a13-424a-a67f-b1e6c74caf2a",
   "metadata": {},
   "outputs": [],
   "source": [
    "price_cols = [price[:-4]+' man'for price in str_price]"
   ]
  },
  {
   "cell_type": "code",
   "execution_count": null,
   "id": "5dcb2124-2e5f-45bb-8e75-28a2001463a0",
   "metadata": {},
   "outputs": [],
   "source": [
    "len(price_cols)"
   ]
  },
  {
   "cell_type": "code",
   "execution_count": null,
   "id": "e407a38e-d6a1-4628-b51e-37899188ac52",
   "metadata": {},
   "outputs": [],
   "source": [
    "ex = df.diff_price.value_counts()"
   ]
  },
  {
   "cell_type": "code",
   "execution_count": null,
   "id": "e6560a96-17cf-4b09-912c-7fbbfad9d256",
   "metadata": {},
   "outputs": [],
   "source": [
    "ex.index = price_cols"
   ]
  },
  {
   "cell_type": "code",
   "execution_count": null,
   "id": "318fe723-21c5-4d1c-ad73-19493e4ebf12",
   "metadata": {},
   "outputs": [],
   "source": [
    "ex.head(10).plot.bar(figsize=(7 ,4))\n",
    "plt.xticks(rotation=45)\n",
    "plt.show()"
   ]
  },
  {
   "cell_type": "code",
   "execution_count": null,
   "id": "f323ebc9-5739-47f1-8bc1-c74b4602e97c",
   "metadata": {},
   "outputs": [],
   "source": []
  },
  {
   "cell_type": "code",
   "execution_count": null,
   "id": "b1ac94eb-c2a9-4886-991f-581626fde3c2",
   "metadata": {},
   "outputs": [],
   "source": []
  }
 ],
 "metadata": {
  "kernelspec": {
   "display_name": "Python 3 (ipykernel)",
   "language": "python",
   "name": "python3"
  },
  "language_info": {
   "codemirror_mode": {
    "name": "ipython",
    "version": 3
   },
   "file_extension": ".py",
   "mimetype": "text/x-python",
   "name": "python",
   "nbconvert_exporter": "python",
   "pygments_lexer": "ipython3",
   "version": "3.7.13"
  }
 },
 "nbformat": 4,
 "nbformat_minor": 5
}
